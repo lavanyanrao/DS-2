{
 "cells": [
  {
   "cell_type": "code",
   "execution_count": 37,
   "metadata": {},
   "outputs": [],
   "source": [
    "import pandas as pd\n",
    "import numpy as np\n",
    "import warnings\n",
    "warnings.filterwarnings(\"ignore\")"
   ]
  },
  {
   "cell_type": "code",
   "execution_count": 38,
   "metadata": {},
   "outputs": [
    {
     "data": {
      "text/html": [
       "<div>\n",
       "<style scoped>\n",
       "    .dataframe tbody tr th:only-of-type {\n",
       "        vertical-align: middle;\n",
       "    }\n",
       "\n",
       "    .dataframe tbody tr th {\n",
       "        vertical-align: top;\n",
       "    }\n",
       "\n",
       "    .dataframe thead th {\n",
       "        text-align: right;\n",
       "    }\n",
       "</style>\n",
       "<table border=\"1\" class=\"dataframe\">\n",
       "  <thead>\n",
       "    <tr style=\"text-align: right;\">\n",
       "      <th></th>\n",
       "      <th>Province_State</th>\n",
       "      <th>Country_Region</th>\n",
       "      <th>Last_Update</th>\n",
       "      <th>Lat</th>\n",
       "      <th>Long_</th>\n",
       "      <th>Confirmed</th>\n",
       "      <th>Deaths</th>\n",
       "      <th>Recovered</th>\n",
       "      <th>Active</th>\n",
       "      <th>FIPS</th>\n",
       "      <th>Incident_Rate</th>\n",
       "      <th>People_Tested</th>\n",
       "      <th>People_Hospitalized</th>\n",
       "      <th>Mortality_Rate</th>\n",
       "      <th>UID</th>\n",
       "      <th>ISO3</th>\n",
       "      <th>Testing_Rate</th>\n",
       "      <th>Hospitalization_Rate</th>\n",
       "    </tr>\n",
       "  </thead>\n",
       "  <tbody>\n",
       "    <tr>\n",
       "      <th>0</th>\n",
       "      <td>Alabama</td>\n",
       "      <td>US</td>\n",
       "      <td>2020-05-21 02:32:54</td>\n",
       "      <td>32.3182</td>\n",
       "      <td>-86.9023</td>\n",
       "      <td>13052</td>\n",
       "      <td>522</td>\n",
       "      <td>NaN</td>\n",
       "      <td>12530.0</td>\n",
       "      <td>1</td>\n",
       "      <td>266.194321</td>\n",
       "      <td>164450.0</td>\n",
       "      <td>1493.0</td>\n",
       "      <td>3.999387</td>\n",
       "      <td>84000001</td>\n",
       "      <td>USA</td>\n",
       "      <td>3353.942386</td>\n",
       "      <td>11.438860</td>\n",
       "    </tr>\n",
       "    <tr>\n",
       "      <th>1</th>\n",
       "      <td>Alaska</td>\n",
       "      <td>US</td>\n",
       "      <td>2020-05-21 02:32:54</td>\n",
       "      <td>61.3707</td>\n",
       "      <td>-152.4044</td>\n",
       "      <td>401</td>\n",
       "      <td>10</td>\n",
       "      <td>352.0</td>\n",
       "      <td>39.0</td>\n",
       "      <td>2</td>\n",
       "      <td>54.815493</td>\n",
       "      <td>37045.0</td>\n",
       "      <td>NaN</td>\n",
       "      <td>2.493766</td>\n",
       "      <td>84000002</td>\n",
       "      <td>USA</td>\n",
       "      <td>5063.940017</td>\n",
       "      <td>NaN</td>\n",
       "    </tr>\n",
       "    <tr>\n",
       "      <th>2</th>\n",
       "      <td>American Samoa</td>\n",
       "      <td>US</td>\n",
       "      <td>2020-05-21 02:32:54</td>\n",
       "      <td>-14.2710</td>\n",
       "      <td>-170.1320</td>\n",
       "      <td>0</td>\n",
       "      <td>0</td>\n",
       "      <td>NaN</td>\n",
       "      <td>0.0</td>\n",
       "      <td>60</td>\n",
       "      <td>0.000000</td>\n",
       "      <td>124.0</td>\n",
       "      <td>NaN</td>\n",
       "      <td>NaN</td>\n",
       "      <td>16</td>\n",
       "      <td>ASM</td>\n",
       "      <td>222.857246</td>\n",
       "      <td>NaN</td>\n",
       "    </tr>\n",
       "    <tr>\n",
       "      <th>3</th>\n",
       "      <td>Arizona</td>\n",
       "      <td>US</td>\n",
       "      <td>2020-05-21 02:32:54</td>\n",
       "      <td>33.7298</td>\n",
       "      <td>-111.4312</td>\n",
       "      <td>14906</td>\n",
       "      <td>747</td>\n",
       "      <td>3773.0</td>\n",
       "      <td>10386.0</td>\n",
       "      <td>4</td>\n",
       "      <td>204.788838</td>\n",
       "      <td>165435.0</td>\n",
       "      <td>1792.0</td>\n",
       "      <td>5.011405</td>\n",
       "      <td>84000004</td>\n",
       "      <td>USA</td>\n",
       "      <td>2272.859351</td>\n",
       "      <td>12.022005</td>\n",
       "    </tr>\n",
       "    <tr>\n",
       "      <th>4</th>\n",
       "      <td>Arkansas</td>\n",
       "      <td>US</td>\n",
       "      <td>2020-05-21 02:32:54</td>\n",
       "      <td>34.9697</td>\n",
       "      <td>-92.3731</td>\n",
       "      <td>5003</td>\n",
       "      <td>107</td>\n",
       "      <td>3852.0</td>\n",
       "      <td>1044.0</td>\n",
       "      <td>5</td>\n",
       "      <td>165.782801</td>\n",
       "      <td>96258.0</td>\n",
       "      <td>535.0</td>\n",
       "      <td>2.138717</td>\n",
       "      <td>84000005</td>\n",
       "      <td>USA</td>\n",
       "      <td>3189.670370</td>\n",
       "      <td>10.693584</td>\n",
       "    </tr>\n",
       "  </tbody>\n",
       "</table>\n",
       "</div>"
      ],
      "text/plain": [
       "   Province_State Country_Region          Last_Update      Lat     Long_  \\\n",
       "0         Alabama             US  2020-05-21 02:32:54  32.3182  -86.9023   \n",
       "1          Alaska             US  2020-05-21 02:32:54  61.3707 -152.4044   \n",
       "2  American Samoa             US  2020-05-21 02:32:54 -14.2710 -170.1320   \n",
       "3         Arizona             US  2020-05-21 02:32:54  33.7298 -111.4312   \n",
       "4        Arkansas             US  2020-05-21 02:32:54  34.9697  -92.3731   \n",
       "\n",
       "   Confirmed  Deaths  Recovered   Active  FIPS  Incident_Rate  People_Tested  \\\n",
       "0      13052     522        NaN  12530.0     1     266.194321       164450.0   \n",
       "1        401      10      352.0     39.0     2      54.815493        37045.0   \n",
       "2          0       0        NaN      0.0    60       0.000000          124.0   \n",
       "3      14906     747     3773.0  10386.0     4     204.788838       165435.0   \n",
       "4       5003     107     3852.0   1044.0     5     165.782801        96258.0   \n",
       "\n",
       "   People_Hospitalized  Mortality_Rate       UID ISO3  Testing_Rate  \\\n",
       "0               1493.0        3.999387  84000001  USA   3353.942386   \n",
       "1                  NaN        2.493766  84000002  USA   5063.940017   \n",
       "2                  NaN             NaN        16  ASM    222.857246   \n",
       "3               1792.0        5.011405  84000004  USA   2272.859351   \n",
       "4                535.0        2.138717  84000005  USA   3189.670370   \n",
       "\n",
       "   Hospitalization_Rate  \n",
       "0             11.438860  \n",
       "1                   NaN  \n",
       "2                   NaN  \n",
       "3             12.022005  \n",
       "4             10.693584  "
      ]
     },
     "execution_count": 38,
     "metadata": {},
     "output_type": "execute_result"
    }
   ],
   "source": [
    "df = pd.read_csv(\"USA_Covid_19.csv\")\n",
    "df.head()"
   ]
  },
  {
   "cell_type": "code",
   "execution_count": 39,
   "metadata": {},
   "outputs": [
    {
     "data": {
      "text/plain": [
       "Province_State           object\n",
       "Country_Region           object\n",
       "Last_Update              object\n",
       "Lat                     float64\n",
       "Long_                   float64\n",
       "Confirmed                 int64\n",
       "Deaths                    int64\n",
       "Recovered               float64\n",
       "Active                  float64\n",
       "FIPS                      int64\n",
       "Incident_Rate           float64\n",
       "People_Tested           float64\n",
       "People_Hospitalized     float64\n",
       "Mortality_Rate          float64\n",
       "UID                       int64\n",
       "ISO3                     object\n",
       "Testing_Rate            float64\n",
       "Hospitalization_Rate    float64\n",
       "dtype: object"
      ]
     },
     "execution_count": 39,
     "metadata": {},
     "output_type": "execute_result"
    }
   ],
   "source": [
    "df.dtypes"
   ]
  },
  {
   "cell_type": "code",
   "execution_count": 40,
   "metadata": {},
   "outputs": [
    {
     "data": {
      "text/plain": [
       "(58, 18)"
      ]
     },
     "execution_count": 40,
     "metadata": {},
     "output_type": "execute_result"
    }
   ],
   "source": [
    "df.shape"
   ]
  },
  {
   "cell_type": "markdown",
   "metadata": {},
   "source": [
    "there are 58 rows and 18 columns"
   ]
  },
  {
   "cell_type": "code",
   "execution_count": 41,
   "metadata": {},
   "outputs": [
    {
     "data": {
      "text/plain": [
       "58"
      ]
     },
     "execution_count": 41,
     "metadata": {},
     "output_type": "execute_result"
    }
   ],
   "source": [
    "len(df[\"Province_State\"].unique())"
   ]
  },
  {
   "cell_type": "markdown",
   "metadata": {},
   "source": [
    "There are 58 different entries corresponding to different province/state"
   ]
  },
  {
   "cell_type": "code",
   "execution_count": 42,
   "metadata": {},
   "outputs": [
    {
     "data": {
      "text/html": [
       "<div>\n",
       "<style scoped>\n",
       "    .dataframe tbody tr th:only-of-type {\n",
       "        vertical-align: middle;\n",
       "    }\n",
       "\n",
       "    .dataframe tbody tr th {\n",
       "        vertical-align: top;\n",
       "    }\n",
       "\n",
       "    .dataframe thead th {\n",
       "        text-align: right;\n",
       "    }\n",
       "</style>\n",
       "<table border=\"1\" class=\"dataframe\">\n",
       "  <thead>\n",
       "    <tr style=\"text-align: right;\">\n",
       "      <th></th>\n",
       "      <th>Province_State</th>\n",
       "      <th>Country_Region</th>\n",
       "      <th>Last_Update</th>\n",
       "      <th>Confirmed</th>\n",
       "      <th>Deaths</th>\n",
       "      <th>Recovered</th>\n",
       "      <th>Active</th>\n",
       "      <th>FIPS</th>\n",
       "      <th>Incident_Rate</th>\n",
       "      <th>People_Tested</th>\n",
       "      <th>People_Hospitalized</th>\n",
       "      <th>Mortality_Rate</th>\n",
       "      <th>UID</th>\n",
       "      <th>ISO3</th>\n",
       "      <th>Testing_Rate</th>\n",
       "      <th>Hospitalization_Rate</th>\n",
       "    </tr>\n",
       "  </thead>\n",
       "  <tbody>\n",
       "    <tr>\n",
       "      <th>0</th>\n",
       "      <td>Alabama</td>\n",
       "      <td>US</td>\n",
       "      <td>2020-05-21 02:32:54</td>\n",
       "      <td>13052</td>\n",
       "      <td>522</td>\n",
       "      <td>NaN</td>\n",
       "      <td>12530.0</td>\n",
       "      <td>1</td>\n",
       "      <td>266.194321</td>\n",
       "      <td>164450.0</td>\n",
       "      <td>1493.0</td>\n",
       "      <td>3.999387</td>\n",
       "      <td>84000001</td>\n",
       "      <td>USA</td>\n",
       "      <td>3353.942386</td>\n",
       "      <td>11.438860</td>\n",
       "    </tr>\n",
       "    <tr>\n",
       "      <th>1</th>\n",
       "      <td>Alaska</td>\n",
       "      <td>US</td>\n",
       "      <td>2020-05-21 02:32:54</td>\n",
       "      <td>401</td>\n",
       "      <td>10</td>\n",
       "      <td>352.0</td>\n",
       "      <td>39.0</td>\n",
       "      <td>2</td>\n",
       "      <td>54.815493</td>\n",
       "      <td>37045.0</td>\n",
       "      <td>NaN</td>\n",
       "      <td>2.493766</td>\n",
       "      <td>84000002</td>\n",
       "      <td>USA</td>\n",
       "      <td>5063.940017</td>\n",
       "      <td>NaN</td>\n",
       "    </tr>\n",
       "    <tr>\n",
       "      <th>2</th>\n",
       "      <td>American Samoa</td>\n",
       "      <td>US</td>\n",
       "      <td>2020-05-21 02:32:54</td>\n",
       "      <td>0</td>\n",
       "      <td>0</td>\n",
       "      <td>NaN</td>\n",
       "      <td>0.0</td>\n",
       "      <td>60</td>\n",
       "      <td>0.000000</td>\n",
       "      <td>124.0</td>\n",
       "      <td>NaN</td>\n",
       "      <td>NaN</td>\n",
       "      <td>16</td>\n",
       "      <td>ASM</td>\n",
       "      <td>222.857246</td>\n",
       "      <td>NaN</td>\n",
       "    </tr>\n",
       "    <tr>\n",
       "      <th>3</th>\n",
       "      <td>Arizona</td>\n",
       "      <td>US</td>\n",
       "      <td>2020-05-21 02:32:54</td>\n",
       "      <td>14906</td>\n",
       "      <td>747</td>\n",
       "      <td>3773.0</td>\n",
       "      <td>10386.0</td>\n",
       "      <td>4</td>\n",
       "      <td>204.788838</td>\n",
       "      <td>165435.0</td>\n",
       "      <td>1792.0</td>\n",
       "      <td>5.011405</td>\n",
       "      <td>84000004</td>\n",
       "      <td>USA</td>\n",
       "      <td>2272.859351</td>\n",
       "      <td>12.022005</td>\n",
       "    </tr>\n",
       "    <tr>\n",
       "      <th>4</th>\n",
       "      <td>Arkansas</td>\n",
       "      <td>US</td>\n",
       "      <td>2020-05-21 02:32:54</td>\n",
       "      <td>5003</td>\n",
       "      <td>107</td>\n",
       "      <td>3852.0</td>\n",
       "      <td>1044.0</td>\n",
       "      <td>5</td>\n",
       "      <td>165.782801</td>\n",
       "      <td>96258.0</td>\n",
       "      <td>535.0</td>\n",
       "      <td>2.138717</td>\n",
       "      <td>84000005</td>\n",
       "      <td>USA</td>\n",
       "      <td>3189.670370</td>\n",
       "      <td>10.693584</td>\n",
       "    </tr>\n",
       "  </tbody>\n",
       "</table>\n",
       "</div>"
      ],
      "text/plain": [
       "   Province_State Country_Region          Last_Update  Confirmed  Deaths  \\\n",
       "0         Alabama             US  2020-05-21 02:32:54      13052     522   \n",
       "1          Alaska             US  2020-05-21 02:32:54        401      10   \n",
       "2  American Samoa             US  2020-05-21 02:32:54          0       0   \n",
       "3         Arizona             US  2020-05-21 02:32:54      14906     747   \n",
       "4        Arkansas             US  2020-05-21 02:32:54       5003     107   \n",
       "\n",
       "   Recovered   Active  FIPS  Incident_Rate  People_Tested  \\\n",
       "0        NaN  12530.0     1     266.194321       164450.0   \n",
       "1      352.0     39.0     2      54.815493        37045.0   \n",
       "2        NaN      0.0    60       0.000000          124.0   \n",
       "3     3773.0  10386.0     4     204.788838       165435.0   \n",
       "4     3852.0   1044.0     5     165.782801        96258.0   \n",
       "\n",
       "   People_Hospitalized  Mortality_Rate       UID ISO3  Testing_Rate  \\\n",
       "0               1493.0        3.999387  84000001  USA   3353.942386   \n",
       "1                  NaN        2.493766  84000002  USA   5063.940017   \n",
       "2                  NaN             NaN        16  ASM    222.857246   \n",
       "3               1792.0        5.011405  84000004  USA   2272.859351   \n",
       "4                535.0        2.138717  84000005  USA   3189.670370   \n",
       "\n",
       "   Hospitalization_Rate  \n",
       "0             11.438860  \n",
       "1                   NaN  \n",
       "2                   NaN  \n",
       "3             12.022005  \n",
       "4             10.693584  "
      ]
     },
     "execution_count": 42,
     "metadata": {},
     "output_type": "execute_result"
    }
   ],
   "source": [
    "# the latitude and logitude will be unique to the province/state \n",
    "# =>keeping the province/state column the latitude and longitude column can be dropped.\n",
    "\n",
    "df.drop(\"Lat\",axis=1,inplace=True)\n",
    "df.drop(\"Long_\",axis=1,inplace=True)\n",
    "df.head()"
   ]
  },
  {
   "cell_type": "code",
   "execution_count": 43,
   "metadata": {},
   "outputs": [
    {
     "data": {
      "text/plain": [
       "Province_State           0\n",
       "Country_Region           0\n",
       "Last_Update              0\n",
       "Confirmed                0\n",
       "Deaths                   0\n",
       "Recovered               16\n",
       "Active                   0\n",
       "FIPS                     0\n",
       "Incident_Rate            2\n",
       "People_Tested            2\n",
       "People_Hospitalized     25\n",
       "Mortality_Rate           1\n",
       "UID                      0\n",
       "ISO3                     0\n",
       "Testing_Rate             2\n",
       "Hospitalization_Rate    25\n",
       "dtype: int64"
      ]
     },
     "execution_count": 43,
     "metadata": {},
     "output_type": "execute_result"
    }
   ],
   "source": [
    "# Checking for null values\n",
    "\n",
    "df.isnull().sum()"
   ]
  },
  {
   "cell_type": "code",
   "execution_count": 44,
   "metadata": {},
   "outputs": [
    {
     "data": {
      "image/png": "[encoded data removed]",
      "text/plain": [
       "<Figure size 432x288 with 2 Axes>"
      ]
     },
     "metadata": {
      "needs_background": "light"
     },
     "output_type": "display_data"
    }
   ],
   "source": [
    "# visualizing null values using heatmap\n",
    "\n",
    "import matplotlib.pyplot as plt\n",
    "import seaborn as sns\n",
    "\n",
    "sns.heatmap(df.isnull())\n",
    "plt.show()"
   ]
  },
  {
   "cell_type": "markdown",
   "metadata": {},
   "source": [
    "There are many missing values in recovered, people_hospitalized and hospitalization_rate columns.\n",
    "\n",
    "few null values are also present in incident rate, people tested and testing rate columns."
   ]
  },
  {
   "cell_type": "code",
   "execution_count": 45,
   "metadata": {},
   "outputs": [
    {
     "data": {
      "text/plain": [
       "Province_State          0\n",
       "Country_Region          0\n",
       "Last_Update             0\n",
       "Confirmed               0\n",
       "Deaths                  0\n",
       "Recovered               0\n",
       "Active                  0\n",
       "FIPS                    0\n",
       "Incident_Rate           0\n",
       "People_Tested           0\n",
       "People_Hospitalized     0\n",
       "Mortality_Rate          0\n",
       "UID                     0\n",
       "ISO3                    0\n",
       "Testing_Rate            0\n",
       "Hospitalization_Rate    0\n",
       "dtype: int64"
      ]
     },
     "execution_count": 45,
     "metadata": {},
     "output_type": "execute_result"
    }
   ],
   "source": [
    "# Imputing\n",
    "\n",
    "for i in df[[\"Recovered\",'Incident_Rate','People_Tested','People_Hospitalized','Mortality_Rate','Testing_Rate','Hospitalization_Rate']]:\n",
    "    df[i]=df[i].replace(np.nan,df[i].mean())\n",
    "    \n",
    "df.isnull().sum()"
   ]
  },
  {
   "cell_type": "code",
   "execution_count": 46,
   "metadata": {},
   "outputs": [
    {
     "data": {
      "image/png": "[encoded data removed]",
      "text/plain": [
       "<Figure size 432x288 with 1 Axes>"
      ]
     },
     "metadata": {
      "needs_background": "light"
     },
     "output_type": "display_data"
    }
   ],
   "source": [
    "# Univariate analysis\n",
    "\n",
    "# Deaths\n",
    "\n",
    "sns.violinplot(df[\"Deaths\"])\n",
    "plt.show()"
   ]
  },
  {
   "cell_type": "markdown",
   "metadata": {},
   "source": [
    "The distribution is right skewed."
   ]
  },
  {
   "cell_type": "code",
   "execution_count": 47,
   "metadata": {},
   "outputs": [
    {
     "data": {
      "image/png": "[encoded data removed]",
      "text/plain": [
       "<Figure size 432x288 with 1 Axes>"
      ]
     },
     "metadata": {
      "needs_background": "light"
     },
     "output_type": "display_data"
    }
   ],
   "source": [
    "# country_region\n",
    "\n",
    "sns.countplot(df[\"ISO3\"])\n",
    "plt.show()"
   ]
  },
  {
   "cell_type": "markdown",
   "metadata": {},
   "source": [
    "We see that most entries corresponds to 'USA' official code country identifier."
   ]
  },
  {
   "cell_type": "code",
   "execution_count": 48,
   "metadata": {},
   "outputs": [
    {
     "data": {
      "image/png": "[encoded data removed]",
      "text/plain": [
       "<Figure size 1152x432 with 1 Axes>"
      ]
     },
     "metadata": {
      "needs_background": "light"
     },
     "output_type": "display_data"
    }
   ],
   "source": [
    "# Bivariate analysis\n",
    "\n",
    "# provine/state vs deaths\n",
    "\n",
    "plt.figure(figsize=(16,6))\n",
    "ax = sns.barplot(df[\"Province_State\"],df[\"Deaths\"])\n",
    "ax.set_xticklabels(ax.get_xticklabels(),rotation=90)\n",
    "plt.show()"
   ]
  },
  {
   "cell_type": "markdown",
   "metadata": {},
   "source": [
    "Highest number of deaths recorded is in New York with New Jersey in second."
   ]
  },
  {
   "cell_type": "code",
   "execution_count": 49,
   "metadata": {},
   "outputs": [
    {
     "data": {
      "image/png": "[encoded data removed]",
      "text/plain": [
       "<Figure size 1152x432 with 1 Axes>"
      ]
     },
     "metadata": {
      "needs_background": "light"
     },
     "output_type": "display_data"
    }
   ],
   "source": [
    "# provine/state vs confirmed\n",
    "\n",
    "plt.figure(figsize=(16,6))\n",
    "ax = sns.barplot(df[\"Province_State\"],df[\"Confirmed\"])\n",
    "ax.set_xticklabels(ax.get_xticklabels(),rotation=90)\n",
    "plt.show()"
   ]
  },
  {
   "cell_type": "markdown",
   "metadata": {},
   "source": [
    "New York also has the most number of confirmed cases => most number of deaths."
   ]
  },
  {
   "cell_type": "code",
   "execution_count": 50,
   "metadata": {},
   "outputs": [
    {
     "data": {
      "image/png": "[encoded data removed]",
      "text/plain": [
       "<Figure size 432x288 with 1 Axes>"
      ]
     },
     "metadata": {
      "needs_background": "light"
     },
     "output_type": "display_data"
    }
   ],
   "source": [
    "# confirmed vs deaths\n",
    "\n",
    "sns.lineplot(df[\"Confirmed\"],df[\"Deaths\"])\n",
    "plt.show()"
   ]
  },
  {
   "cell_type": "markdown",
   "metadata": {},
   "source": [
    "There is a positive linear relationship => as confirmed cases increases so does the number of deaths."
   ]
  },
  {
   "cell_type": "code",
   "execution_count": 51,
   "metadata": {},
   "outputs": [
    {
     "data": {
      "text/plain": [
       "<matplotlib.axes._subplots.AxesSubplot at 0x1af7c38fd30>"
      ]
     },
     "execution_count": 51,
     "metadata": {},
     "output_type": "execute_result"
    },
    {
     "data": {
      "image/png": "[encoded data removed]",
      "text/plain": [
       "<Figure size 432x288 with 1 Axes>"
      ]
     },
     "metadata": {
      "needs_background": "light"
     },
     "output_type": "display_data"
    }
   ],
   "source": [
    "sns.lineplot(df[\"Confirmed\"],df[\"People_Hospitalized\"])"
   ]
  },
  {
   "cell_type": "markdown",
   "metadata": {},
   "source": [
    "Initially even though the cases were confirmed less number of people were hospitalized, later the hospitalization rate increases with confirmed cases."
   ]
  },
  {
   "cell_type": "code",
   "execution_count": 52,
   "metadata": {},
   "outputs": [
    {
     "data": {
      "image/png": "[encoded data removed]",
      "text/plain": [
       "<Figure size 432x288 with 1 Axes>"
      ]
     },
     "metadata": {
      "needs_background": "light"
     },
     "output_type": "display_data"
    }
   ],
   "source": [
    "sns.regplot(df[\"Testing_Rate\"],df[\"Hospitalization_Rate\"])\n",
    "plt.show()"
   ]
  },
  {
   "cell_type": "markdown",
   "metadata": {},
   "source": [
    "As testing rate increases the hospitalization rate remains the same => the US conducted extensive testing "
   ]
  },
  {
   "cell_type": "code",
   "execution_count": 53,
   "metadata": {},
   "outputs": [
    {
     "data": {
      "text/plain": [
       "array(['2020-05-21 02:32:54'], dtype=object)"
      ]
     },
     "execution_count": 53,
     "metadata": {},
     "output_type": "execute_result"
    }
   ],
   "source": [
    "df[\"Last_Update\"].unique()"
   ]
  },
  {
   "cell_type": "code",
   "execution_count": 54,
   "metadata": {},
   "outputs": [
    {
     "data": {
      "text/plain": [
       "58"
      ]
     },
     "execution_count": 54,
     "metadata": {},
     "output_type": "execute_result"
    }
   ],
   "source": [
    "len(df[\"FIPS\"].unique())"
   ]
  },
  {
   "cell_type": "code",
   "execution_count": 55,
   "metadata": {},
   "outputs": [
    {
     "data": {
      "text/plain": [
       "array(['US'], dtype=object)"
      ]
     },
     "execution_count": 55,
     "metadata": {},
     "output_type": "execute_result"
    }
   ],
   "source": [
    "df[\"Country_Region\"].unique()"
   ]
  },
  {
   "cell_type": "code",
   "execution_count": 56,
   "metadata": {},
   "outputs": [
    {
     "data": {
      "text/html": [
       "<div>\n",
       "<style scoped>\n",
       "    .dataframe tbody tr th:only-of-type {\n",
       "        vertical-align: middle;\n",
       "    }\n",
       "\n",
       "    .dataframe tbody tr th {\n",
       "        vertical-align: top;\n",
       "    }\n",
       "\n",
       "    .dataframe thead th {\n",
       "        text-align: right;\n",
       "    }\n",
       "</style>\n",
       "<table border=\"1\" class=\"dataframe\">\n",
       "  <thead>\n",
       "    <tr style=\"text-align: right;\">\n",
       "      <th></th>\n",
       "      <th>Province_State</th>\n",
       "      <th>Confirmed</th>\n",
       "      <th>Deaths</th>\n",
       "      <th>Recovered</th>\n",
       "      <th>Active</th>\n",
       "      <th>Incident_Rate</th>\n",
       "      <th>People_Tested</th>\n",
       "      <th>People_Hospitalized</th>\n",
       "      <th>Mortality_Rate</th>\n",
       "      <th>ISO3</th>\n",
       "      <th>Testing_Rate</th>\n",
       "      <th>Hospitalization_Rate</th>\n",
       "    </tr>\n",
       "  </thead>\n",
       "  <tbody>\n",
       "    <tr>\n",
       "      <th>0</th>\n",
       "      <td>Alabama</td>\n",
       "      <td>13052</td>\n",
       "      <td>522</td>\n",
       "      <td>7007.428571</td>\n",
       "      <td>12530.0</td>\n",
       "      <td>266.194321</td>\n",
       "      <td>164450.0</td>\n",
       "      <td>1493.000000</td>\n",
       "      <td>3.999387</td>\n",
       "      <td>USA</td>\n",
       "      <td>3353.942386</td>\n",
       "      <td>11.438860</td>\n",
       "    </tr>\n",
       "    <tr>\n",
       "      <th>1</th>\n",
       "      <td>Alaska</td>\n",
       "      <td>401</td>\n",
       "      <td>10</td>\n",
       "      <td>352.000000</td>\n",
       "      <td>39.0</td>\n",
       "      <td>54.815493</td>\n",
       "      <td>37045.0</td>\n",
       "      <td>4897.454545</td>\n",
       "      <td>2.493766</td>\n",
       "      <td>USA</td>\n",
       "      <td>5063.940017</td>\n",
       "      <td>14.342541</td>\n",
       "    </tr>\n",
       "    <tr>\n",
       "      <th>2</th>\n",
       "      <td>American Samoa</td>\n",
       "      <td>0</td>\n",
       "      <td>0</td>\n",
       "      <td>7007.428571</td>\n",
       "      <td>0.0</td>\n",
       "      <td>0.000000</td>\n",
       "      <td>124.0</td>\n",
       "      <td>4897.454545</td>\n",
       "      <td>4.458248</td>\n",
       "      <td>ASM</td>\n",
       "      <td>222.857246</td>\n",
       "      <td>14.342541</td>\n",
       "    </tr>\n",
       "    <tr>\n",
       "      <th>3</th>\n",
       "      <td>Arizona</td>\n",
       "      <td>14906</td>\n",
       "      <td>747</td>\n",
       "      <td>3773.000000</td>\n",
       "      <td>10386.0</td>\n",
       "      <td>204.788838</td>\n",
       "      <td>165435.0</td>\n",
       "      <td>1792.000000</td>\n",
       "      <td>5.011405</td>\n",
       "      <td>USA</td>\n",
       "      <td>2272.859351</td>\n",
       "      <td>12.022005</td>\n",
       "    </tr>\n",
       "    <tr>\n",
       "      <th>4</th>\n",
       "      <td>Arkansas</td>\n",
       "      <td>5003</td>\n",
       "      <td>107</td>\n",
       "      <td>3852.000000</td>\n",
       "      <td>1044.0</td>\n",
       "      <td>165.782801</td>\n",
       "      <td>96258.0</td>\n",
       "      <td>535.000000</td>\n",
       "      <td>2.138717</td>\n",
       "      <td>USA</td>\n",
       "      <td>3189.670370</td>\n",
       "      <td>10.693584</td>\n",
       "    </tr>\n",
       "  </tbody>\n",
       "</table>\n",
       "</div>"
      ],
      "text/plain": [
       "   Province_State  Confirmed  Deaths    Recovered   Active  Incident_Rate  \\\n",
       "0         Alabama      13052     522  7007.428571  12530.0     266.194321   \n",
       "1          Alaska        401      10   352.000000     39.0      54.815493   \n",
       "2  American Samoa          0       0  7007.428571      0.0       0.000000   \n",
       "3         Arizona      14906     747  3773.000000  10386.0     204.788838   \n",
       "4        Arkansas       5003     107  3852.000000   1044.0     165.782801   \n",
       "\n",
       "   People_Tested  People_Hospitalized  Mortality_Rate ISO3  Testing_Rate  \\\n",
       "0       164450.0          1493.000000        3.999387  USA   3353.942386   \n",
       "1        37045.0          4897.454545        2.493766  USA   5063.940017   \n",
       "2          124.0          4897.454545        4.458248  ASM    222.857246   \n",
       "3       165435.0          1792.000000        5.011405  USA   2272.859351   \n",
       "4        96258.0           535.000000        2.138717  USA   3189.670370   \n",
       "\n",
       "   Hospitalization_Rate  \n",
       "0             11.438860  \n",
       "1             14.342541  \n",
       "2             14.342541  \n",
       "3             12.022005  \n",
       "4             10.693584  "
      ]
     },
     "execution_count": 56,
     "metadata": {},
     "output_type": "execute_result"
    }
   ],
   "source": [
    "# All the data collected was updated on 21-05-2020 at 02:32:54, Dropping the column Last_Updated as it is same for all rows\n",
    "df.drop(\"Last_Update\",axis=1,inplace=True)\n",
    "\n",
    "# FIPS is unique for every row, hence will not provide relavent information\n",
    "df.drop(\"FIPS\",axis=1,inplace=True)\n",
    "\n",
    "# The dataset consits of tests conducted only in the US => the column country has no significance\n",
    "df.drop(\"Country_Region\",axis=1,inplace=True)\n",
    "\n",
    "# UID is unique identifier for each row entry => no relavent information for the target variable\n",
    "df.drop(\"UID\",axis=1,inplace=True)\n",
    "\n",
    "df.head()"
   ]
  },
  {
   "cell_type": "code",
   "execution_count": 57,
   "metadata": {},
   "outputs": [
    {
     "data": {
      "text/html": [
       "<div>\n",
       "<style scoped>\n",
       "    .dataframe tbody tr th:only-of-type {\n",
       "        vertical-align: middle;\n",
       "    }\n",
       "\n",
       "    .dataframe tbody tr th {\n",
       "        vertical-align: top;\n",
       "    }\n",
       "\n",
       "    .dataframe thead th {\n",
       "        text-align: right;\n",
       "    }\n",
       "</style>\n",
       "<table border=\"1\" class=\"dataframe\">\n",
       "  <thead>\n",
       "    <tr style=\"text-align: right;\">\n",
       "      <th></th>\n",
       "      <th>Confirmed</th>\n",
       "      <th>Deaths</th>\n",
       "      <th>Recovered</th>\n",
       "      <th>Active</th>\n",
       "      <th>Incident_Rate</th>\n",
       "      <th>People_Tested</th>\n",
       "      <th>People_Hospitalized</th>\n",
       "      <th>Mortality_Rate</th>\n",
       "      <th>ISO3</th>\n",
       "      <th>Testing_Rate</th>\n",
       "      <th>Hospitalization_Rate</th>\n",
       "    </tr>\n",
       "    <tr>\n",
       "      <th>Province_State</th>\n",
       "      <th></th>\n",
       "      <th></th>\n",
       "      <th></th>\n",
       "      <th></th>\n",
       "      <th></th>\n",
       "      <th></th>\n",
       "      <th></th>\n",
       "      <th></th>\n",
       "      <th></th>\n",
       "      <th></th>\n",
       "      <th></th>\n",
       "    </tr>\n",
       "  </thead>\n",
       "  <tbody>\n",
       "    <tr>\n",
       "      <th>Alabama</th>\n",
       "      <td>13052</td>\n",
       "      <td>522</td>\n",
       "      <td>7007.428571</td>\n",
       "      <td>12530.0</td>\n",
       "      <td>266.194321</td>\n",
       "      <td>164450.0</td>\n",
       "      <td>1493.000000</td>\n",
       "      <td>3.999387</td>\n",
       "      <td>USA</td>\n",
       "      <td>3353.942386</td>\n",
       "      <td>11.438860</td>\n",
       "    </tr>\n",
       "    <tr>\n",
       "      <th>Alaska</th>\n",
       "      <td>401</td>\n",
       "      <td>10</td>\n",
       "      <td>352.000000</td>\n",
       "      <td>39.0</td>\n",
       "      <td>54.815493</td>\n",
       "      <td>37045.0</td>\n",
       "      <td>4897.454545</td>\n",
       "      <td>2.493766</td>\n",
       "      <td>USA</td>\n",
       "      <td>5063.940017</td>\n",
       "      <td>14.342541</td>\n",
       "    </tr>\n",
       "    <tr>\n",
       "      <th>American Samoa</th>\n",
       "      <td>0</td>\n",
       "      <td>0</td>\n",
       "      <td>7007.428571</td>\n",
       "      <td>0.0</td>\n",
       "      <td>0.000000</td>\n",
       "      <td>124.0</td>\n",
       "      <td>4897.454545</td>\n",
       "      <td>4.458248</td>\n",
       "      <td>ASM</td>\n",
       "      <td>222.857246</td>\n",
       "      <td>14.342541</td>\n",
       "    </tr>\n",
       "    <tr>\n",
       "      <th>Arizona</th>\n",
       "      <td>14906</td>\n",
       "      <td>747</td>\n",
       "      <td>3773.000000</td>\n",
       "      <td>10386.0</td>\n",
       "      <td>204.788838</td>\n",
       "      <td>165435.0</td>\n",
       "      <td>1792.000000</td>\n",
       "      <td>5.011405</td>\n",
       "      <td>USA</td>\n",
       "      <td>2272.859351</td>\n",
       "      <td>12.022005</td>\n",
       "    </tr>\n",
       "    <tr>\n",
       "      <th>Arkansas</th>\n",
       "      <td>5003</td>\n",
       "      <td>107</td>\n",
       "      <td>3852.000000</td>\n",
       "      <td>1044.0</td>\n",
       "      <td>165.782801</td>\n",
       "      <td>96258.0</td>\n",
       "      <td>535.000000</td>\n",
       "      <td>2.138717</td>\n",
       "      <td>USA</td>\n",
       "      <td>3189.670370</td>\n",
       "      <td>10.693584</td>\n",
       "    </tr>\n",
       "  </tbody>\n",
       "</table>\n",
       "</div>"
      ],
      "text/plain": [
       "                Confirmed  Deaths    Recovered   Active  Incident_Rate  \\\n",
       "Province_State                                                           \n",
       "Alabama             13052     522  7007.428571  12530.0     266.194321   \n",
       "Alaska                401      10   352.000000     39.0      54.815493   \n",
       "American Samoa          0       0  7007.428571      0.0       0.000000   \n",
       "Arizona             14906     747  3773.000000  10386.0     204.788838   \n",
       "Arkansas             5003     107  3852.000000   1044.0     165.782801   \n",
       "\n",
       "                People_Tested  People_Hospitalized  Mortality_Rate ISO3  \\\n",
       "Province_State                                                            \n",
       "Alabama              164450.0          1493.000000        3.999387  USA   \n",
       "Alaska                37045.0          4897.454545        2.493766  USA   \n",
       "American Samoa          124.0          4897.454545        4.458248  ASM   \n",
       "Arizona              165435.0          1792.000000        5.011405  USA   \n",
       "Arkansas              96258.0           535.000000        2.138717  USA   \n",
       "\n",
       "                Testing_Rate  Hospitalization_Rate  \n",
       "Province_State                                      \n",
       "Alabama          3353.942386             11.438860  \n",
       "Alaska           5063.940017             14.342541  \n",
       "American Samoa    222.857246             14.342541  \n",
       "Arizona          2272.859351             12.022005  \n",
       "Arkansas         3189.670370             10.693584  "
      ]
     },
     "execution_count": 57,
     "metadata": {},
     "output_type": "execute_result"
    }
   ],
   "source": [
    "# Changing the index\n",
    "\n",
    "df = df.set_index(df[\"Province_State\"])\n",
    "df.drop(\"Province_State\",axis=1,inplace=True)\n",
    "df.head()"
   ]
  },
  {
   "cell_type": "code",
   "execution_count": 58,
   "metadata": {},
   "outputs": [
    {
     "data": {
      "text/html": [
       "<div>\n",
       "<style scoped>\n",
       "    .dataframe tbody tr th:only-of-type {\n",
       "        vertical-align: middle;\n",
       "    }\n",
       "\n",
       "    .dataframe tbody tr th {\n",
       "        vertical-align: top;\n",
       "    }\n",
       "\n",
       "    .dataframe thead th {\n",
       "        text-align: right;\n",
       "    }\n",
       "</style>\n",
       "<table border=\"1\" class=\"dataframe\">\n",
       "  <thead>\n",
       "    <tr style=\"text-align: right;\">\n",
       "      <th></th>\n",
       "      <th>Confirmed</th>\n",
       "      <th>Deaths</th>\n",
       "      <th>Recovered</th>\n",
       "      <th>Active</th>\n",
       "      <th>Incident_Rate</th>\n",
       "      <th>People_Tested</th>\n",
       "      <th>People_Hospitalized</th>\n",
       "      <th>Mortality_Rate</th>\n",
       "      <th>ISO3</th>\n",
       "      <th>Testing_Rate</th>\n",
       "      <th>Hospitalization_Rate</th>\n",
       "    </tr>\n",
       "    <tr>\n",
       "      <th>Province_State</th>\n",
       "      <th></th>\n",
       "      <th></th>\n",
       "      <th></th>\n",
       "      <th></th>\n",
       "      <th></th>\n",
       "      <th></th>\n",
       "      <th></th>\n",
       "      <th></th>\n",
       "      <th></th>\n",
       "      <th></th>\n",
       "      <th></th>\n",
       "    </tr>\n",
       "  </thead>\n",
       "  <tbody>\n",
       "    <tr>\n",
       "      <th>Alabama</th>\n",
       "      <td>13052</td>\n",
       "      <td>522</td>\n",
       "      <td>7007.428571</td>\n",
       "      <td>12530.0</td>\n",
       "      <td>266.194321</td>\n",
       "      <td>164450.0</td>\n",
       "      <td>1493.000000</td>\n",
       "      <td>3.999387</td>\n",
       "      <td>4</td>\n",
       "      <td>3353.942386</td>\n",
       "      <td>11.438860</td>\n",
       "    </tr>\n",
       "    <tr>\n",
       "      <th>Alaska</th>\n",
       "      <td>401</td>\n",
       "      <td>10</td>\n",
       "      <td>352.000000</td>\n",
       "      <td>39.0</td>\n",
       "      <td>54.815493</td>\n",
       "      <td>37045.0</td>\n",
       "      <td>4897.454545</td>\n",
       "      <td>2.493766</td>\n",
       "      <td>4</td>\n",
       "      <td>5063.940017</td>\n",
       "      <td>14.342541</td>\n",
       "    </tr>\n",
       "    <tr>\n",
       "      <th>American Samoa</th>\n",
       "      <td>0</td>\n",
       "      <td>0</td>\n",
       "      <td>7007.428571</td>\n",
       "      <td>0.0</td>\n",
       "      <td>0.000000</td>\n",
       "      <td>124.0</td>\n",
       "      <td>4897.454545</td>\n",
       "      <td>4.458248</td>\n",
       "      <td>0</td>\n",
       "      <td>222.857246</td>\n",
       "      <td>14.342541</td>\n",
       "    </tr>\n",
       "    <tr>\n",
       "      <th>Arizona</th>\n",
       "      <td>14906</td>\n",
       "      <td>747</td>\n",
       "      <td>3773.000000</td>\n",
       "      <td>10386.0</td>\n",
       "      <td>204.788838</td>\n",
       "      <td>165435.0</td>\n",
       "      <td>1792.000000</td>\n",
       "      <td>5.011405</td>\n",
       "      <td>4</td>\n",
       "      <td>2272.859351</td>\n",
       "      <td>12.022005</td>\n",
       "    </tr>\n",
       "    <tr>\n",
       "      <th>Arkansas</th>\n",
       "      <td>5003</td>\n",
       "      <td>107</td>\n",
       "      <td>3852.000000</td>\n",
       "      <td>1044.0</td>\n",
       "      <td>165.782801</td>\n",
       "      <td>96258.0</td>\n",
       "      <td>535.000000</td>\n",
       "      <td>2.138717</td>\n",
       "      <td>4</td>\n",
       "      <td>3189.670370</td>\n",
       "      <td>10.693584</td>\n",
       "    </tr>\n",
       "  </tbody>\n",
       "</table>\n",
       "</div>"
      ],
      "text/plain": [
       "                Confirmed  Deaths    Recovered   Active  Incident_Rate  \\\n",
       "Province_State                                                           \n",
       "Alabama             13052     522  7007.428571  12530.0     266.194321   \n",
       "Alaska                401      10   352.000000     39.0      54.815493   \n",
       "American Samoa          0       0  7007.428571      0.0       0.000000   \n",
       "Arizona             14906     747  3773.000000  10386.0     204.788838   \n",
       "Arkansas             5003     107  3852.000000   1044.0     165.782801   \n",
       "\n",
       "                People_Tested  People_Hospitalized  Mortality_Rate  ISO3  \\\n",
       "Province_State                                                             \n",
       "Alabama              164450.0          1493.000000        3.999387     4   \n",
       "Alaska                37045.0          4897.454545        2.493766     4   \n",
       "American Samoa          124.0          4897.454545        4.458248     0   \n",
       "Arizona              165435.0          1792.000000        5.011405     4   \n",
       "Arkansas              96258.0           535.000000        2.138717     4   \n",
       "\n",
       "                Testing_Rate  Hospitalization_Rate  \n",
       "Province_State                                      \n",
       "Alabama          3353.942386             11.438860  \n",
       "Alaska           5063.940017             14.342541  \n",
       "American Samoa    222.857246             14.342541  \n",
       "Arizona          2272.859351             12.022005  \n",
       "Arkansas         3189.670370             10.693584  "
      ]
     },
     "execution_count": 58,
     "metadata": {},
     "output_type": "execute_result"
    }
   ],
   "source": [
    "# Converting categorical to numerical data\n",
    "from sklearn import preprocessing\n",
    "label_encoder = preprocessing.LabelEncoder() \n",
    "\n",
    "df[['ISO3']] = df[['ISO3']].apply(label_encoder.fit_transform)\n",
    "df.head()"
   ]
  },
  {
   "cell_type": "code",
   "execution_count": 59,
   "metadata": {},
   "outputs": [
    {
     "data": {
      "text/html": [
       "<div>\n",
       "<style scoped>\n",
       "    .dataframe tbody tr th:only-of-type {\n",
       "        vertical-align: middle;\n",
       "    }\n",
       "\n",
       "    .dataframe tbody tr th {\n",
       "        vertical-align: top;\n",
       "    }\n",
       "\n",
       "    .dataframe thead th {\n",
       "        text-align: right;\n",
       "    }\n",
       "</style>\n",
       "<table border=\"1\" class=\"dataframe\">\n",
       "  <thead>\n",
       "    <tr style=\"text-align: right;\">\n",
       "      <th></th>\n",
       "      <th>Confirmed</th>\n",
       "      <th>Deaths</th>\n",
       "      <th>Recovered</th>\n",
       "      <th>Active</th>\n",
       "      <th>Incident_Rate</th>\n",
       "      <th>People_Tested</th>\n",
       "      <th>People_Hospitalized</th>\n",
       "      <th>Mortality_Rate</th>\n",
       "      <th>ISO3</th>\n",
       "      <th>Testing_Rate</th>\n",
       "      <th>Hospitalization_Rate</th>\n",
       "    </tr>\n",
       "  </thead>\n",
       "  <tbody>\n",
       "    <tr>\n",
       "      <th>Confirmed</th>\n",
       "      <td>1.000000</td>\n",
       "      <td>0.982191</td>\n",
       "      <td>0.822547</td>\n",
       "      <td>0.985218</td>\n",
       "      <td>0.708436</td>\n",
       "      <td>0.824136</td>\n",
       "      <td>8.692673e-01</td>\n",
       "      <td>0.382537</td>\n",
       "      <td>1.099993e-01</td>\n",
       "      <td>0.332464</td>\n",
       "      <td>2.874708e-01</td>\n",
       "    </tr>\n",
       "    <tr>\n",
       "      <th>Deaths</th>\n",
       "      <td>0.982191</td>\n",
       "      <td>1.000000</td>\n",
       "      <td>0.830223</td>\n",
       "      <td>0.954378</td>\n",
       "      <td>0.710105</td>\n",
       "      <td>0.739634</td>\n",
       "      <td>9.082786e-01</td>\n",
       "      <td>0.427127</td>\n",
       "      <td>8.558846e-02</td>\n",
       "      <td>0.344465</td>\n",
       "      <td>2.982254e-01</td>\n",
       "    </tr>\n",
       "    <tr>\n",
       "      <th>Recovered</th>\n",
       "      <td>0.822547</td>\n",
       "      <td>0.830223</td>\n",
       "      <td>1.000000</td>\n",
       "      <td>0.725085</td>\n",
       "      <td>0.542795</td>\n",
       "      <td>0.711255</td>\n",
       "      <td>7.618294e-01</td>\n",
       "      <td>0.322160</td>\n",
       "      <td>6.807968e-02</td>\n",
       "      <td>0.220597</td>\n",
       "      <td>2.316917e-01</td>\n",
       "    </tr>\n",
       "    <tr>\n",
       "      <th>Active</th>\n",
       "      <td>0.985218</td>\n",
       "      <td>0.954378</td>\n",
       "      <td>0.725085</td>\n",
       "      <td>1.000000</td>\n",
       "      <td>0.700926</td>\n",
       "      <td>0.826144</td>\n",
       "      <td>8.359377e-01</td>\n",
       "      <td>0.367626</td>\n",
       "      <td>1.048243e-01</td>\n",
       "      <td>0.321395</td>\n",
       "      <td>2.845637e-01</td>\n",
       "    </tr>\n",
       "    <tr>\n",
       "      <th>Incident_Rate</th>\n",
       "      <td>0.708436</td>\n",
       "      <td>0.710105</td>\n",
       "      <td>0.542795</td>\n",
       "      <td>0.700926</td>\n",
       "      <td>1.000000</td>\n",
       "      <td>0.441669</td>\n",
       "      <td>5.510764e-01</td>\n",
       "      <td>0.353882</td>\n",
       "      <td>1.954154e-01</td>\n",
       "      <td>0.620621</td>\n",
       "      <td>1.960289e-01</td>\n",
       "    </tr>\n",
       "    <tr>\n",
       "      <th>People_Tested</th>\n",
       "      <td>0.824136</td>\n",
       "      <td>0.739634</td>\n",
       "      <td>0.711255</td>\n",
       "      <td>0.826144</td>\n",
       "      <td>0.441669</td>\n",
       "      <td>1.000000</td>\n",
       "      <td>6.420913e-01</td>\n",
       "      <td>0.220200</td>\n",
       "      <td>1.665665e-01</td>\n",
       "      <td>0.230753</td>\n",
       "      <td>2.526802e-01</td>\n",
       "    </tr>\n",
       "    <tr>\n",
       "      <th>People_Hospitalized</th>\n",
       "      <td>0.869267</td>\n",
       "      <td>0.908279</td>\n",
       "      <td>0.761829</td>\n",
       "      <td>0.835938</td>\n",
       "      <td>0.551076</td>\n",
       "      <td>0.642091</td>\n",
       "      <td>1.000000e+00</td>\n",
       "      <td>0.334335</td>\n",
       "      <td>4.762249e-18</td>\n",
       "      <td>0.270255</td>\n",
       "      <td>3.775863e-01</td>\n",
       "    </tr>\n",
       "    <tr>\n",
       "      <th>Mortality_Rate</th>\n",
       "      <td>0.382537</td>\n",
       "      <td>0.427127</td>\n",
       "      <td>0.322160</td>\n",
       "      <td>0.367626</td>\n",
       "      <td>0.353882</td>\n",
       "      <td>0.220200</td>\n",
       "      <td>3.343354e-01</td>\n",
       "      <td>1.000000</td>\n",
       "      <td>-2.487630e-02</td>\n",
       "      <td>0.158970</td>\n",
       "      <td>4.512178e-01</td>\n",
       "    </tr>\n",
       "    <tr>\n",
       "      <th>ISO3</th>\n",
       "      <td>0.109999</td>\n",
       "      <td>0.085588</td>\n",
       "      <td>0.068080</td>\n",
       "      <td>0.104824</td>\n",
       "      <td>0.195415</td>\n",
       "      <td>0.166566</td>\n",
       "      <td>4.762249e-18</td>\n",
       "      <td>-0.024876</td>\n",
       "      <td>1.000000e+00</td>\n",
       "      <td>0.159242</td>\n",
       "      <td>2.644221e-17</td>\n",
       "    </tr>\n",
       "    <tr>\n",
       "      <th>Testing_Rate</th>\n",
       "      <td>0.332464</td>\n",
       "      <td>0.344465</td>\n",
       "      <td>0.220597</td>\n",
       "      <td>0.321395</td>\n",
       "      <td>0.620621</td>\n",
       "      <td>0.230753</td>\n",
       "      <td>2.702546e-01</td>\n",
       "      <td>0.158970</td>\n",
       "      <td>1.592417e-01</td>\n",
       "      <td>1.000000</td>\n",
       "      <td>-5.846277e-02</td>\n",
       "    </tr>\n",
       "    <tr>\n",
       "      <th>Hospitalization_Rate</th>\n",
       "      <td>0.287471</td>\n",
       "      <td>0.298225</td>\n",
       "      <td>0.231692</td>\n",
       "      <td>0.284564</td>\n",
       "      <td>0.196029</td>\n",
       "      <td>0.252680</td>\n",
       "      <td>3.775863e-01</td>\n",
       "      <td>0.451218</td>\n",
       "      <td>2.644221e-17</td>\n",
       "      <td>-0.058463</td>\n",
       "      <td>1.000000e+00</td>\n",
       "    </tr>\n",
       "  </tbody>\n",
       "</table>\n",
       "</div>"
      ],
      "text/plain": [
       "                      Confirmed    Deaths  Recovered    Active  Incident_Rate  \\\n",
       "Confirmed              1.000000  0.982191   0.822547  0.985218       0.708436   \n",
       "Deaths                 0.982191  1.000000   0.830223  0.954378       0.710105   \n",
       "Recovered              0.822547  0.830223   1.000000  0.725085       0.542795   \n",
       "Active                 0.985218  0.954378   0.725085  1.000000       0.700926   \n",
       "Incident_Rate          0.708436  0.710105   0.542795  0.700926       1.000000   \n",
       "People_Tested          0.824136  0.739634   0.711255  0.826144       0.441669   \n",
       "People_Hospitalized    0.869267  0.908279   0.761829  0.835938       0.551076   \n",
       "Mortality_Rate         0.382537  0.427127   0.322160  0.367626       0.353882   \n",
       "ISO3                   0.109999  0.085588   0.068080  0.104824       0.195415   \n",
       "Testing_Rate           0.332464  0.344465   0.220597  0.321395       0.620621   \n",
       "Hospitalization_Rate   0.287471  0.298225   0.231692  0.284564       0.196029   \n",
       "\n",
       "                      People_Tested  People_Hospitalized  Mortality_Rate  \\\n",
       "Confirmed                  0.824136         8.692673e-01        0.382537   \n",
       "Deaths                     0.739634         9.082786e-01        0.427127   \n",
       "Recovered                  0.711255         7.618294e-01        0.322160   \n",
       "Active                     0.826144         8.359377e-01        0.367626   \n",
       "Incident_Rate              0.441669         5.510764e-01        0.353882   \n",
       "People_Tested              1.000000         6.420913e-01        0.220200   \n",
       "People_Hospitalized        0.642091         1.000000e+00        0.334335   \n",
       "Mortality_Rate             0.220200         3.343354e-01        1.000000   \n",
       "ISO3                       0.166566         4.762249e-18       -0.024876   \n",
       "Testing_Rate               0.230753         2.702546e-01        0.158970   \n",
       "Hospitalization_Rate       0.252680         3.775863e-01        0.451218   \n",
       "\n",
       "                              ISO3  Testing_Rate  Hospitalization_Rate  \n",
       "Confirmed             1.099993e-01      0.332464          2.874708e-01  \n",
       "Deaths                8.558846e-02      0.344465          2.982254e-01  \n",
       "Recovered             6.807968e-02      0.220597          2.316917e-01  \n",
       "Active                1.048243e-01      0.321395          2.845637e-01  \n",
       "Incident_Rate         1.954154e-01      0.620621          1.960289e-01  \n",
       "People_Tested         1.665665e-01      0.230753          2.526802e-01  \n",
       "People_Hospitalized   4.762249e-18      0.270255          3.775863e-01  \n",
       "Mortality_Rate       -2.487630e-02      0.158970          4.512178e-01  \n",
       "ISO3                  1.000000e+00      0.159242          2.644221e-17  \n",
       "Testing_Rate          1.592417e-01      1.000000         -5.846277e-02  \n",
       "Hospitalization_Rate  2.644221e-17     -0.058463          1.000000e+00  "
      ]
     },
     "execution_count": 59,
     "metadata": {},
     "output_type": "execute_result"
    }
   ],
   "source": [
    "# Correlation\n",
    "df.corr()"
   ]
  },
  {
   "cell_type": "code",
   "execution_count": 60,
   "metadata": {},
   "outputs": [
    {
     "data": {
      "image/png": "[encoded data removed]",
      "text/plain": [
       "<Figure size 864x432 with 2 Axes>"
      ]
     },
     "metadata": {
      "needs_background": "light"
     },
     "output_type": "display_data"
    }
   ],
   "source": [
    "# Visualizing correlation\n",
    "\n",
    "import seaborn as sns\n",
    "import matplotlib.pyplot as plt\n",
    "plt.figure(figsize=(12,6))\n",
    "plt.title(\"Correlation\")\n",
    "sns.heatmap(df.corr(),annot=True,cmap='Greens')\n",
    "plt.show()"
   ]
  },
  {
   "cell_type": "markdown",
   "metadata": {},
   "source": [
    "The target variable deaths has high positive correlation with Confirmed, recovered, active, incident rate, people tested and people hospidalized.\n",
    "\n",
    "it is also moserately positive correlated to mortality rate, testing rate and hospitalization."
   ]
  },
  {
   "cell_type": "code",
   "execution_count": 61,
   "metadata": {},
   "outputs": [
    {
     "data": {
      "image/png": "[encoded data removed]",
      "text/plain": [
       "<Figure size 1152x3960 with 11 Axes>"
      ]
     },
     "metadata": {
      "needs_background": "light"
     },
     "output_type": "display_data"
    }
   ],
   "source": [
    "# Checking for outliers\n",
    "\n",
    "collist = df.columns.values\n",
    "ncol = 11\n",
    "nrows = 5\n",
    "\n",
    "plt.figure(figsize=(16,5*ncol))\n",
    "for i in range(len(collist)):\n",
    "    plt.subplot(nrows,ncol,i+1)\n",
    "    sns.boxplot(df[collist[i]],orient = \"v\")\n",
    "    plt.tight_layout()"
   ]
  },
  {
   "cell_type": "markdown",
   "metadata": {},
   "source": [
    "The dataset we have is very small with only 58 entries, removing rows may result in loss of relavent data. We continue with the dataset with outliers for now and will remove outliers if it results in poor machine learning model."
   ]
  },
  {
   "cell_type": "code",
   "execution_count": 62,
   "metadata": {},
   "outputs": [
    {
     "data": {
      "text/plain": [
       "Confirmed               4.708614\n",
       "Deaths                  5.489201\n",
       "Recovered               3.647693\n",
       "Active                  4.180953\n",
       "Incident_Rate           1.988351\n",
       "People_Tested           2.829700\n",
       "People_Hospitalized     6.869437\n",
       "Mortality_Rate          0.496115\n",
       "ISO3                   -4.126625\n",
       "Testing_Rate            1.313407\n",
       "Hospitalization_Rate    0.867341\n",
       "dtype: float64"
      ]
     },
     "execution_count": 62,
     "metadata": {},
     "output_type": "execute_result"
    }
   ],
   "source": [
    "# Skewness\n",
    "\n",
    "df.skew()"
   ]
  },
  {
   "cell_type": "code",
   "execution_count": 63,
   "metadata": {},
   "outputs": [],
   "source": [
    "for i in df.columns:\n",
    "    if df[i].skew() > 0.55:\n",
    "        df[i]=np.log(df[i]+1)\n",
    "    elif df[i].skew() < -0.55:\n",
    "        df[i]=np.cbrt(df[i])\n"
   ]
  },
  {
   "cell_type": "code",
   "execution_count": 64,
   "metadata": {},
   "outputs": [
    {
     "name": "stdout",
     "output_type": "stream",
     "text": [
      "                Confirmed  Recovered    Active  Incident_Rate  People_Tested  \\\n",
      "Province_State                                                                 \n",
      "Alabama          9.476773   8.854869  9.435961       5.587976      12.010368   \n",
      "Alaska           5.996452   5.866468  3.688879       4.022051      10.519916   \n",
      "American Samoa   0.000000   8.854869  0.000000       0.000000       4.828314   \n",
      "Arizona          9.609586   8.235891  9.248310       5.326851      12.016340   \n",
      "Arkansas         8.517993   8.256607  6.951772       5.116692      11.474798   \n",
      "\n",
      "                People_Hospitalized  Mortality_Rate      ISO3  Testing_Rate  \\\n",
      "Province_State                                                                \n",
      "Alabama                    7.309212        3.999387  1.587401      8.118190   \n",
      "Alaska                     8.496675        2.493766  1.587401      8.530098   \n",
      "American Samoa             8.496675        4.458248  0.000000      5.411009   \n",
      "Arizona                    7.491645        5.011405  1.587401      7.729234   \n",
      "Arkansas                   6.284134        2.138717  1.587401      8.067986   \n",
      "\n",
      "                Hospitalization_Rate  \n",
      "Province_State                        \n",
      "Alabama                     2.520825  \n",
      "Alaska                      2.730629  \n",
      "American Samoa              2.730629  \n",
      "Arizona                     2.566641  \n",
      "Arkansas                    2.459040  \n",
      "\n",
      "\n",
      "                  Deaths\n",
      "Province_State          \n",
      "Alabama         6.259581\n",
      "Alaska          2.397895\n",
      "American Samoa  0.000000\n",
      "Arizona         6.617403\n",
      "Arkansas        4.682131\n"
     ]
    }
   ],
   "source": [
    "# Splitting independent variables and target\n",
    "\n",
    "x = df.drop('Deaths',axis=1)\n",
    "print(x.head())\n",
    "y = df[['Deaths']]\n",
    "print(\"\\n\")\n",
    "print(y.head())"
   ]
  },
  {
   "cell_type": "code",
   "execution_count": 65,
   "metadata": {},
   "outputs": [
    {
     "data": {
      "text/html": [
       "<div>\n",
       "<style scoped>\n",
       "    .dataframe tbody tr th:only-of-type {\n",
       "        vertical-align: middle;\n",
       "    }\n",
       "\n",
       "    .dataframe tbody tr th {\n",
       "        vertical-align: top;\n",
       "    }\n",
       "\n",
       "    .dataframe thead th {\n",
       "        text-align: right;\n",
       "    }\n",
       "</style>\n",
       "<table border=\"1\" class=\"dataframe\">\n",
       "  <thead>\n",
       "    <tr style=\"text-align: right;\">\n",
       "      <th></th>\n",
       "      <th>0</th>\n",
       "      <th>1</th>\n",
       "      <th>2</th>\n",
       "      <th>3</th>\n",
       "      <th>4</th>\n",
       "      <th>5</th>\n",
       "      <th>6</th>\n",
       "      <th>7</th>\n",
       "      <th>8</th>\n",
       "      <th>9</th>\n",
       "    </tr>\n",
       "  </thead>\n",
       "  <tbody>\n",
       "    <tr>\n",
       "      <th>0</th>\n",
       "      <td>0.321337</td>\n",
       "      <td>0.524235</td>\n",
       "      <td>0.535925</td>\n",
       "      <td>0.063772</td>\n",
       "      <td>0.300989</td>\n",
       "      <td>-0.336196</td>\n",
       "      <td>-2.187272e-01</td>\n",
       "      <td>0.194738</td>\n",
       "      <td>0.012408</td>\n",
       "      <td>-0.734373</td>\n",
       "    </tr>\n",
       "    <tr>\n",
       "      <th>1</th>\n",
       "      <td>-1.170832</td>\n",
       "      <td>-1.435602</td>\n",
       "      <td>-1.557578</td>\n",
       "      <td>-1.298088</td>\n",
       "      <td>-0.603393</td>\n",
       "      <td>0.537895</td>\n",
       "      <td>-9.364182e-01</td>\n",
       "      <td>0.194738</td>\n",
       "      <td>0.595783</td>\n",
       "      <td>0.120356</td>\n",
       "    </tr>\n",
       "    <tr>\n",
       "      <th>2</th>\n",
       "      <td>-3.741780</td>\n",
       "      <td>0.524235</td>\n",
       "      <td>-2.901336</td>\n",
       "      <td>-4.796003</td>\n",
       "      <td>-4.056963</td>\n",
       "      <td>0.537895</td>\n",
       "      <td>4.233718e-16</td>\n",
       "      <td>-6.906409</td>\n",
       "      <td>-3.821712</td>\n",
       "      <td>0.120356</td>\n",
       "    </tr>\n",
       "    <tr>\n",
       "      <th>3</th>\n",
       "      <td>0.378280</td>\n",
       "      <td>0.118300</td>\n",
       "      <td>0.467570</td>\n",
       "      <td>-0.163325</td>\n",
       "      <td>0.304612</td>\n",
       "      <td>-0.201907</td>\n",
       "      <td>2.636756e-01</td>\n",
       "      <td>0.194738</td>\n",
       "      <td>-0.538462</td>\n",
       "      <td>-0.547725</td>\n",
       "    </tr>\n",
       "    <tr>\n",
       "      <th>4</th>\n",
       "      <td>-0.089735</td>\n",
       "      <td>0.131886</td>\n",
       "      <td>-0.368996</td>\n",
       "      <td>-0.346096</td>\n",
       "      <td>-0.023986</td>\n",
       "      <td>-1.090756</td>\n",
       "      <td>-1.105661e+00</td>\n",
       "      <td>0.194738</td>\n",
       "      <td>-0.058694</td>\n",
       "      <td>-0.986082</td>\n",
       "    </tr>\n",
       "  </tbody>\n",
       "</table>\n",
       "</div>"
      ],
      "text/plain": [
       "          0         1         2         3         4         5             6  \\\n",
       "0  0.321337  0.524235  0.535925  0.063772  0.300989 -0.336196 -2.187272e-01   \n",
       "1 -1.170832 -1.435602 -1.557578 -1.298088 -0.603393  0.537895 -9.364182e-01   \n",
       "2 -3.741780  0.524235 -2.901336 -4.796003 -4.056963  0.537895  4.233718e-16   \n",
       "3  0.378280  0.118300  0.467570 -0.163325  0.304612 -0.201907  2.636756e-01   \n",
       "4 -0.089735  0.131886 -0.368996 -0.346096 -0.023986 -1.090756 -1.105661e+00   \n",
       "\n",
       "          7         8         9  \n",
       "0  0.194738  0.012408 -0.734373  \n",
       "1  0.194738  0.595783  0.120356  \n",
       "2 -6.906409 -3.821712  0.120356  \n",
       "3  0.194738 -0.538462 -0.547725  \n",
       "4  0.194738 -0.058694 -0.986082  "
      ]
     },
     "execution_count": 65,
     "metadata": {},
     "output_type": "execute_result"
    }
   ],
   "source": [
    "# Using Standard scaler for uniform range in all columns\n",
    "\n",
    "from sklearn.preprocessing import StandardScaler\n",
    "\n",
    "sc = StandardScaler()\n",
    "x = sc.fit_transform(x)\n",
    "x = pd.DataFrame(x)\n",
    "x.head()"
   ]
  },
  {
   "cell_type": "code",
   "execution_count": 66,
   "metadata": {},
   "outputs": [],
   "source": [
    "# Splitting into training and testing data\n",
    "\n",
    "from sklearn.model_selection import train_test_split\n",
    "from sklearn.metrics import r2_score,mean_absolute_error,mean_squared_error"
   ]
  },
  {
   "cell_type": "code",
   "execution_count": 67,
   "metadata": {},
   "outputs": [],
   "source": [
    "x_train,x_test,y_train,y_test=train_test_split(x,y,test_size=0.25,random_state=42)"
   ]
  },
  {
   "cell_type": "code",
   "execution_count": 68,
   "metadata": {},
   "outputs": [],
   "source": [
    "from sklearn.svm import SVR\n",
    "from sklearn.linear_model import LinearRegression\n",
    "from sklearn.tree import DecisionTreeRegressor"
   ]
  },
  {
   "cell_type": "code",
   "execution_count": 69,
   "metadata": {},
   "outputs": [
    {
     "name": "stdout",
     "output_type": "stream",
     "text": [
      "LinearRegression() model\n",
      "0.9940747982110423\n",
      "r2 0.9891191308789061\n",
      "mse 0.0603248416056402\n",
      "\n",
      "\n",
      "SVR() model\n",
      "0.8461975800831794\n",
      "r2 0.5973899624956869\n",
      "mse 2.232118268402339\n",
      "\n",
      "\n",
      "DecisionTreeRegressor() model\n",
      "1.0\n",
      "r2 0.9009098674192744\n",
      "mse 0.5493675630217691\n",
      "\n",
      "\n"
     ]
    }
   ],
   "source": [
    "model = [LinearRegression(),SVR(),DecisionTreeRegressor()]\n",
    "\n",
    "for m in model:\n",
    "    m.fit(x_train,y_train)\n",
    "    print(m, \"model\")\n",
    "    print(m.score(x_train,y_train))\n",
    "    predm=m.predict(x_test)\n",
    "    print(\"r2\", r2_score(y_test,predm))\n",
    "    print(\"mse\", mean_squared_error(y_test,predm))\n",
    "    print(\"\\n\")"
   ]
  },
  {
   "cell_type": "markdown",
   "metadata": {},
   "source": [
    "The linear regression model has high r2 score."
   ]
  },
  {
   "cell_type": "code",
   "execution_count": 70,
   "metadata": {},
   "outputs": [
    {
     "name": "stdout",
     "output_type": "stream",
     "text": [
      "Cross_val_score for LinearRegression() is  0.959910605065384\n",
      "Cross_val_score for SVR() is  0.7059220863302192\n",
      "Cross_val_score for DecisionTreeRegressor() is  0.8395963996125744\n"
     ]
    }
   ],
   "source": [
    "# cross_val_score\n",
    "\n",
    "from sklearn.model_selection import cross_val_score\n",
    "\n",
    "for m in model:\n",
    "    print(\"Cross_val_score for\",m ,'is ',cross_val_score(m,x,y,cv=5).mean())"
   ]
  },
  {
   "cell_type": "markdown",
   "metadata": {},
   "source": [
    "The cross_val_Score for linear regression model does not indicate any overfitting."
   ]
  },
  {
   "cell_type": "code",
   "execution_count": 71,
   "metadata": {},
   "outputs": [
    {
     "name": "stdout",
     "output_type": "stream",
     "text": [
      "LinearRegression() model\n",
      "r2 0.9891191308789061\n",
      "mse 0.0603248416056402\n",
      "Cross_val_score for LinearRegression() is  0.959910605065384\n"
     ]
    }
   ],
   "source": [
    "lr = LinearRegression()\n",
    "lr.fit(x_train,y_train)\n",
    "print(lr, \"model\")\n",
    "pred=lr.predict(x_test)\n",
    "print(\"r2\", r2_score(y_test,pred))\n",
    "print(\"mse\", mean_squared_error(y_test,pred))\n",
    "print(\"Cross_val_score for\",lr ,'is ',cross_val_score(lr,x,y,cv=5,scoring='r2').mean())"
   ]
  },
  {
   "cell_type": "code",
   "execution_count": 72,
   "metadata": {},
   "outputs": [
    {
     "data": {
      "text/plain": [
       "['lr_USA_covid_deaths.pkl']"
      ]
     },
     "execution_count": 72,
     "metadata": {},
     "output_type": "execute_result"
    }
   ],
   "source": [
    "# Saving the model - ridge\n",
    "\n",
    "import joblib\n",
    "joblib.dump(lr,'lr_USA_covid_deaths.pkl')"
   ]
  },
  {
   "cell_type": "code",
   "execution_count": null,
   "metadata": {},
   "outputs": [],
   "source": []
  }
 ],
 "metadata": {
  "kernelspec": {
   "display_name": "Python 3",
   "language": "python",
   "name": "python3"
  },
  "language_info": {
   "codemirror_mode": {
    "name": "ipython",
    "version": 3
   },
   "file_extension": ".py",
   "mimetype": "text/x-python",
   "name": "python",
   "nbconvert_exporter": "python",
   "pygments_lexer": "ipython3",
   "version": "3.8.3"
  }
 },
 "nbformat": 4,
 "nbformat_minor": 4
}
