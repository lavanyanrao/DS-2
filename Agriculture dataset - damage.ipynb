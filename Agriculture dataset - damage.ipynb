{
 "cells": [
  {
   "cell_type": "code",
   "execution_count": 1,
   "metadata": {},
   "outputs": [],
   "source": [
    "import pandas as pd\n",
    "import numpy as np\n",
    "import warnings\n",
    "warnings.filterwarnings(\"ignore\")"
   ]
  },
  {
   "cell_type": "code",
   "execution_count": 2,
   "metadata": {},
   "outputs": [
    {
     "data": {
      "text/html": [
       "<div>\n",
       "<style scoped>\n",
       "    .dataframe tbody tr th:only-of-type {\n",
       "        vertical-align: middle;\n",
       "    }\n",
       "\n",
       "    .dataframe tbody tr th {\n",
       "        vertical-align: top;\n",
       "    }\n",
       "\n",
       "    .dataframe thead th {\n",
       "        text-align: right;\n",
       "    }\n",
       "</style>\n",
       "<table border=\"1\" class=\"dataframe\">\n",
       "  <thead>\n",
       "    <tr style=\"text-align: right;\">\n",
       "      <th></th>\n",
       "      <th>ID</th>\n",
       "      <th>Estimated_Insects_Count</th>\n",
       "      <th>Crop_Type</th>\n",
       "      <th>Soil_Type</th>\n",
       "      <th>Pesticide_Use_Category</th>\n",
       "      <th>Number_Doses_Week</th>\n",
       "      <th>Number_Weeks_Used</th>\n",
       "      <th>Number_Weeks_Quit</th>\n",
       "      <th>Season</th>\n",
       "      <th>Crop_Damage</th>\n",
       "    </tr>\n",
       "  </thead>\n",
       "  <tbody>\n",
       "    <tr>\n",
       "      <th>0</th>\n",
       "      <td>F00000001</td>\n",
       "      <td>188</td>\n",
       "      <td>1</td>\n",
       "      <td>0</td>\n",
       "      <td>1</td>\n",
       "      <td>0</td>\n",
       "      <td>0.0</td>\n",
       "      <td>0</td>\n",
       "      <td>1</td>\n",
       "      <td>0</td>\n",
       "    </tr>\n",
       "    <tr>\n",
       "      <th>1</th>\n",
       "      <td>F00000003</td>\n",
       "      <td>209</td>\n",
       "      <td>1</td>\n",
       "      <td>0</td>\n",
       "      <td>1</td>\n",
       "      <td>0</td>\n",
       "      <td>0.0</td>\n",
       "      <td>0</td>\n",
       "      <td>2</td>\n",
       "      <td>1</td>\n",
       "    </tr>\n",
       "    <tr>\n",
       "      <th>2</th>\n",
       "      <td>F00000004</td>\n",
       "      <td>257</td>\n",
       "      <td>1</td>\n",
       "      <td>0</td>\n",
       "      <td>1</td>\n",
       "      <td>0</td>\n",
       "      <td>0.0</td>\n",
       "      <td>0</td>\n",
       "      <td>2</td>\n",
       "      <td>1</td>\n",
       "    </tr>\n",
       "    <tr>\n",
       "      <th>3</th>\n",
       "      <td>F00000005</td>\n",
       "      <td>257</td>\n",
       "      <td>1</td>\n",
       "      <td>1</td>\n",
       "      <td>1</td>\n",
       "      <td>0</td>\n",
       "      <td>0.0</td>\n",
       "      <td>0</td>\n",
       "      <td>2</td>\n",
       "      <td>1</td>\n",
       "    </tr>\n",
       "    <tr>\n",
       "      <th>4</th>\n",
       "      <td>F00000006</td>\n",
       "      <td>342</td>\n",
       "      <td>1</td>\n",
       "      <td>0</td>\n",
       "      <td>1</td>\n",
       "      <td>0</td>\n",
       "      <td>0.0</td>\n",
       "      <td>0</td>\n",
       "      <td>2</td>\n",
       "      <td>1</td>\n",
       "    </tr>\n",
       "  </tbody>\n",
       "</table>\n",
       "</div>"
      ],
      "text/plain": [
       "          ID  Estimated_Insects_Count  Crop_Type  Soil_Type  \\\n",
       "0  F00000001                      188          1          0   \n",
       "1  F00000003                      209          1          0   \n",
       "2  F00000004                      257          1          0   \n",
       "3  F00000005                      257          1          1   \n",
       "4  F00000006                      342          1          0   \n",
       "\n",
       "   Pesticide_Use_Category  Number_Doses_Week  Number_Weeks_Used  \\\n",
       "0                       1                  0                0.0   \n",
       "1                       1                  0                0.0   \n",
       "2                       1                  0                0.0   \n",
       "3                       1                  0                0.0   \n",
       "4                       1                  0                0.0   \n",
       "\n",
       "   Number_Weeks_Quit  Season  Crop_Damage  \n",
       "0                  0       1            0  \n",
       "1                  0       2            1  \n",
       "2                  0       2            1  \n",
       "3                  0       2            1  \n",
       "4                  0       2            1  "
      ]
     },
     "execution_count": 2,
     "metadata": {},
     "output_type": "execute_result"
    }
   ],
   "source": [
    "df = pd.read_csv(\"train_agriculture.csv\")\n",
    "df.head()"
   ]
  },
  {
   "cell_type": "code",
   "execution_count": 3,
   "metadata": {},
   "outputs": [
    {
     "data": {
      "text/plain": [
       "(88858, 10)"
      ]
     },
     "execution_count": 3,
     "metadata": {},
     "output_type": "execute_result"
    }
   ],
   "source": [
    "df.shape"
   ]
  },
  {
   "cell_type": "markdown",
   "metadata": {},
   "source": [
    "There are 88858 rows and 10 columns"
   ]
  },
  {
   "cell_type": "code",
   "execution_count": 4,
   "metadata": {},
   "outputs": [
    {
     "data": {
      "text/plain": [
       "88858"
      ]
     },
     "execution_count": 4,
     "metadata": {},
     "output_type": "execute_result"
    }
   ],
   "source": [
    "len(df[\"ID\"].unique())"
   ]
  },
  {
   "cell_type": "markdown",
   "metadata": {},
   "source": [
    "ID is unique => it can be set as index"
   ]
  },
  {
   "cell_type": "code",
   "execution_count": 5,
   "metadata": {},
   "outputs": [
    {
     "data": {
      "text/html": [
       "<div>\n",
       "<style scoped>\n",
       "    .dataframe tbody tr th:only-of-type {\n",
       "        vertical-align: middle;\n",
       "    }\n",
       "\n",
       "    .dataframe tbody tr th {\n",
       "        vertical-align: top;\n",
       "    }\n",
       "\n",
       "    .dataframe thead th {\n",
       "        text-align: right;\n",
       "    }\n",
       "</style>\n",
       "<table border=\"1\" class=\"dataframe\">\n",
       "  <thead>\n",
       "    <tr style=\"text-align: right;\">\n",
       "      <th></th>\n",
       "      <th>Estimated_Insects_Count</th>\n",
       "      <th>Crop_Type</th>\n",
       "      <th>Soil_Type</th>\n",
       "      <th>Pesticide_Use_Category</th>\n",
       "      <th>Number_Doses_Week</th>\n",
       "      <th>Number_Weeks_Used</th>\n",
       "      <th>Number_Weeks_Quit</th>\n",
       "      <th>Season</th>\n",
       "      <th>Crop_Damage</th>\n",
       "    </tr>\n",
       "    <tr>\n",
       "      <th>ID</th>\n",
       "      <th></th>\n",
       "      <th></th>\n",
       "      <th></th>\n",
       "      <th></th>\n",
       "      <th></th>\n",
       "      <th></th>\n",
       "      <th></th>\n",
       "      <th></th>\n",
       "      <th></th>\n",
       "    </tr>\n",
       "  </thead>\n",
       "  <tbody>\n",
       "    <tr>\n",
       "      <th>F00000001</th>\n",
       "      <td>188</td>\n",
       "      <td>1</td>\n",
       "      <td>0</td>\n",
       "      <td>1</td>\n",
       "      <td>0</td>\n",
       "      <td>0.0</td>\n",
       "      <td>0</td>\n",
       "      <td>1</td>\n",
       "      <td>0</td>\n",
       "    </tr>\n",
       "    <tr>\n",
       "      <th>F00000003</th>\n",
       "      <td>209</td>\n",
       "      <td>1</td>\n",
       "      <td>0</td>\n",
       "      <td>1</td>\n",
       "      <td>0</td>\n",
       "      <td>0.0</td>\n",
       "      <td>0</td>\n",
       "      <td>2</td>\n",
       "      <td>1</td>\n",
       "    </tr>\n",
       "    <tr>\n",
       "      <th>F00000004</th>\n",
       "      <td>257</td>\n",
       "      <td>1</td>\n",
       "      <td>0</td>\n",
       "      <td>1</td>\n",
       "      <td>0</td>\n",
       "      <td>0.0</td>\n",
       "      <td>0</td>\n",
       "      <td>2</td>\n",
       "      <td>1</td>\n",
       "    </tr>\n",
       "    <tr>\n",
       "      <th>F00000005</th>\n",
       "      <td>257</td>\n",
       "      <td>1</td>\n",
       "      <td>1</td>\n",
       "      <td>1</td>\n",
       "      <td>0</td>\n",
       "      <td>0.0</td>\n",
       "      <td>0</td>\n",
       "      <td>2</td>\n",
       "      <td>1</td>\n",
       "    </tr>\n",
       "    <tr>\n",
       "      <th>F00000006</th>\n",
       "      <td>342</td>\n",
       "      <td>1</td>\n",
       "      <td>0</td>\n",
       "      <td>1</td>\n",
       "      <td>0</td>\n",
       "      <td>0.0</td>\n",
       "      <td>0</td>\n",
       "      <td>2</td>\n",
       "      <td>1</td>\n",
       "    </tr>\n",
       "  </tbody>\n",
       "</table>\n",
       "</div>"
      ],
      "text/plain": [
       "           Estimated_Insects_Count  Crop_Type  Soil_Type  \\\n",
       "ID                                                         \n",
       "F00000001                      188          1          0   \n",
       "F00000003                      209          1          0   \n",
       "F00000004                      257          1          0   \n",
       "F00000005                      257          1          1   \n",
       "F00000006                      342          1          0   \n",
       "\n",
       "           Pesticide_Use_Category  Number_Doses_Week  Number_Weeks_Used  \\\n",
       "ID                                                                        \n",
       "F00000001                       1                  0                0.0   \n",
       "F00000003                       1                  0                0.0   \n",
       "F00000004                       1                  0                0.0   \n",
       "F00000005                       1                  0                0.0   \n",
       "F00000006                       1                  0                0.0   \n",
       "\n",
       "           Number_Weeks_Quit  Season  Crop_Damage  \n",
       "ID                                                 \n",
       "F00000001                  0       1            0  \n",
       "F00000003                  0       2            1  \n",
       "F00000004                  0       2            1  \n",
       "F00000005                  0       2            1  \n",
       "F00000006                  0       2            1  "
      ]
     },
     "execution_count": 5,
     "metadata": {},
     "output_type": "execute_result"
    }
   ],
   "source": [
    "# Setting ID as index\n",
    "\n",
    "df = df.set_index(df[\"ID\"])\n",
    "df.drop(\"ID\",axis=1,inplace=True)\n",
    "df.head()"
   ]
  },
  {
   "cell_type": "code",
   "execution_count": 6,
   "metadata": {},
   "outputs": [
    {
     "data": {
      "text/plain": [
       "Estimated_Insects_Count      int64\n",
       "Crop_Type                    int64\n",
       "Soil_Type                    int64\n",
       "Pesticide_Use_Category       int64\n",
       "Number_Doses_Week            int64\n",
       "Number_Weeks_Used          float64\n",
       "Number_Weeks_Quit            int64\n",
       "Season                       int64\n",
       "Crop_Damage                  int64\n",
       "dtype: object"
      ]
     },
     "execution_count": 6,
     "metadata": {},
     "output_type": "execute_result"
    }
   ],
   "source": [
    "df.dtypes"
   ]
  },
  {
   "cell_type": "markdown",
   "metadata": {},
   "source": [
    "All the columns are of numerical data type"
   ]
  },
  {
   "cell_type": "code",
   "execution_count": 7,
   "metadata": {},
   "outputs": [
    {
     "data": {
      "text/plain": [
       "array([0, 1, 2], dtype=int64)"
      ]
     },
     "execution_count": 7,
     "metadata": {},
     "output_type": "execute_result"
    }
   ],
   "source": [
    "df[\"Crop_Damage\"].unique()"
   ]
  },
  {
   "cell_type": "markdown",
   "metadata": {},
   "source": [
    "class 0 - alive/no damage\n",
    "\n",
    "class 1 - damage due to other causes\n",
    "\n",
    "class 2 - damage due to pesticides"
   ]
  },
  {
   "cell_type": "code",
   "execution_count": 8,
   "metadata": {},
   "outputs": [
    {
     "data": {
      "text/plain": [
       "Estimated_Insects_Count       0\n",
       "Crop_Type                     0\n",
       "Soil_Type                     0\n",
       "Pesticide_Use_Category        0\n",
       "Number_Doses_Week             0\n",
       "Number_Weeks_Used          9000\n",
       "Number_Weeks_Quit             0\n",
       "Season                        0\n",
       "Crop_Damage                   0\n",
       "dtype: int64"
      ]
     },
     "execution_count": 8,
     "metadata": {},
     "output_type": "execute_result"
    }
   ],
   "source": [
    "# Checking for null values\n",
    "\n",
    "df.isnull().sum()"
   ]
  },
  {
   "cell_type": "code",
   "execution_count": 9,
   "metadata": {},
   "outputs": [
    {
     "data": {
      "image/png": "[encoded data removed]",
      "text/plain": [
       "<Figure size 576x288 with 2 Axes>"
      ]
     },
     "metadata": {
      "needs_background": "light"
     },
     "output_type": "display_data"
    }
   ],
   "source": [
    "# Visualizing null values using heatmaps\n",
    "\n",
    "import matplotlib.pyplot as plt\n",
    "import seaborn as sns\n",
    "\n",
    "plt.figure(figsize=(8,4))\n",
    "sns.heatmap(df.isnull())\n",
    "plt.title(\"Null values\")\n",
    "plt.show()"
   ]
  },
  {
   "cell_type": "markdown",
   "metadata": {},
   "source": [
    "There are many null values in the Number_weeks_used column"
   ]
  },
  {
   "cell_type": "code",
   "execution_count": 10,
   "metadata": {},
   "outputs": [
    {
     "data": {
      "text/plain": [
       "Estimated_Insects_Count    0\n",
       "Crop_Type                  0\n",
       "Soil_Type                  0\n",
       "Pesticide_Use_Category     0\n",
       "Number_Doses_Week          0\n",
       "Number_Weeks_Used          0\n",
       "Number_Weeks_Quit          0\n",
       "Season                     0\n",
       "Crop_Damage                0\n",
       "dtype: int64"
      ]
     },
     "execution_count": 10,
     "metadata": {},
     "output_type": "execute_result"
    }
   ],
   "source": [
    "# Imputing with mean\n",
    "\n",
    "df[\"Number_Weeks_Used\"]=df[\"Number_Weeks_Used\"].replace(np.nan,df[\"Number_Weeks_Used\"].mean())\n",
    "df.isnull().sum()"
   ]
  },
  {
   "cell_type": "code",
   "execution_count": 11,
   "metadata": {},
   "outputs": [
    {
     "data": {
      "image/png": "[encoded data removed]",
      "text/plain": [
       "<Figure size 432x288 with 1 Axes>"
      ]
     },
     "metadata": {
      "needs_background": "light"
     },
     "output_type": "display_data"
    }
   ],
   "source": [
    "# Univariate analysis\n",
    "\n",
    "# Crop_Damage\n",
    "\n",
    "sns.countplot(df[\"Crop_Damage\"])\n",
    "plt.show()"
   ]
  },
  {
   "cell_type": "markdown",
   "metadata": {},
   "source": [
    "Most of the crops suffer no damage, we also see that damage due to pesticides is less likely to happen."
   ]
  },
  {
   "cell_type": "code",
   "execution_count": 12,
   "metadata": {},
   "outputs": [
    {
     "data": {
      "image/png": "[encoded data removed]",
      "text/plain": [
       "<Figure size 432x288 with 1 Axes>"
      ]
     },
     "metadata": {
      "needs_background": "light"
     },
     "output_type": "display_data"
    }
   ],
   "source": [
    "# Crop_type\n",
    "\n",
    "sns.countplot(df[\"Crop_Type\"])\n",
    "plt.show()"
   ]
  },
  {
   "cell_type": "markdown",
   "metadata": {},
   "source": [
    "Most of the crops are of ctaegory 0"
   ]
  },
  {
   "cell_type": "code",
   "execution_count": 13,
   "metadata": {},
   "outputs": [
    {
     "data": {
      "image/png": "[encoded data removed]",
      "text/plain": [
       "<Figure size 864x288 with 2 Axes>"
      ]
     },
     "metadata": {
      "needs_background": "light"
     },
     "output_type": "display_data"
    }
   ],
   "source": [
    "# soil type and pesticide use category\n",
    "\n",
    "d=df[['Soil_Type','Pesticide_Use_Category']]\n",
    "c = d.columns.values\n",
    "\n",
    "plt.figure(figsize=(12,4))\n",
    "for i in range(len(c)):\n",
    "    plt.subplot(1,2,i+1)\n",
    "    sns.countplot(d[c[i]])\n",
    "    plt.tight_layout()"
   ]
  },
  {
   "cell_type": "markdown",
   "metadata": {},
   "source": [
    "Soil type: more crops are grown in soil type 0\n",
    "    \n",
    "Pesticide use categoy: Most of the crops are previously treated by pesticides"
   ]
  },
  {
   "cell_type": "code",
   "execution_count": 14,
   "metadata": {},
   "outputs": [
    {
     "data": {
      "image/png": "[encoded data removed]",
      "text/plain": [
       "<Figure size 432x288 with 1 Axes>"
      ]
     },
     "metadata": {
      "needs_background": "light"
     },
     "output_type": "display_data"
    }
   ],
   "source": [
    "# Bivariate analysis\n",
    "\n",
    "# Soil type vs crop damage\n",
    "\n",
    "sns.barplot(x=df[\"Soil_Type\"],y=df[\"Crop_Damage\"],hue=df[\"Crop_Type\"])\n",
    "plt.show()"
   ]
  },
  {
   "cell_type": "markdown",
   "metadata": {},
   "source": [
    "soil type1 along with crop type1 corresponds to higher crop damage"
   ]
  },
  {
   "cell_type": "code",
   "execution_count": 15,
   "metadata": {},
   "outputs": [
    {
     "data": {
      "image/png": "[encoded data removed]",
      "text/plain": [
       "<Figure size 432x288 with 1 Axes>"
      ]
     },
     "metadata": {
      "needs_background": "light"
     },
     "output_type": "display_data"
    }
   ],
   "source": [
    "# pesticide used categoory vs estimated insect count \n",
    "\n",
    "sns.barplot(df[\"Pesticide_Use_Category\"],df[\"Estimated_Insects_Count\"])\n",
    "plt.show()"
   ]
  },
  {
   "cell_type": "markdown",
   "metadata": {},
   "source": [
    "Category 3 corrsponds to lowest insect count"
   ]
  },
  {
   "cell_type": "code",
   "execution_count": 16,
   "metadata": {},
   "outputs": [
    {
     "data": {
      "image/png": "[encoded data removed]",
      "text/plain": [
       "<Figure size 432x288 with 1 Axes>"
      ]
     },
     "metadata": {
      "needs_background": "light"
     },
     "output_type": "display_data"
    }
   ],
   "source": [
    "#  estimated insect count vs weeks used\n",
    "\n",
    "sns.lineplot(df[\"Estimated_Insects_Count\"],df[\"Number_Weeks_Used\"])\n",
    "plt.show()"
   ]
  },
  {
   "cell_type": "markdown",
   "metadata": {},
   "source": [
    "As the insect count increases the number of weeks used also increases"
   ]
  },
  {
   "cell_type": "code",
   "execution_count": 17,
   "metadata": {},
   "outputs": [
    {
     "data": {
      "text/html": [
       "<div>\n",
       "<style scoped>\n",
       "    .dataframe tbody tr th:only-of-type {\n",
       "        vertical-align: middle;\n",
       "    }\n",
       "\n",
       "    .dataframe tbody tr th {\n",
       "        vertical-align: top;\n",
       "    }\n",
       "\n",
       "    .dataframe thead th {\n",
       "        text-align: right;\n",
       "    }\n",
       "</style>\n",
       "<table border=\"1\" class=\"dataframe\">\n",
       "  <thead>\n",
       "    <tr style=\"text-align: right;\">\n",
       "      <th></th>\n",
       "      <th>Estimated_Insects_Count</th>\n",
       "      <th>Crop_Type</th>\n",
       "      <th>Soil_Type</th>\n",
       "      <th>Pesticide_Use_Category</th>\n",
       "      <th>Number_Doses_Week</th>\n",
       "      <th>Number_Weeks_Used</th>\n",
       "      <th>Number_Weeks_Quit</th>\n",
       "      <th>Season</th>\n",
       "      <th>Crop_Damage</th>\n",
       "    </tr>\n",
       "  </thead>\n",
       "  <tbody>\n",
       "    <tr>\n",
       "      <th>Estimated_Insects_Count</th>\n",
       "      <td>1.000000</td>\n",
       "      <td>-0.088830</td>\n",
       "      <td>-0.056375</td>\n",
       "      <td>-0.079904</td>\n",
       "      <td>-0.102461</td>\n",
       "      <td>0.412904</td>\n",
       "      <td>0.299279</td>\n",
       "      <td>0.002304</td>\n",
       "      <td>0.202888</td>\n",
       "    </tr>\n",
       "    <tr>\n",
       "      <th>Crop_Type</th>\n",
       "      <td>-0.088830</td>\n",
       "      <td>1.000000</td>\n",
       "      <td>-0.287372</td>\n",
       "      <td>0.235779</td>\n",
       "      <td>-0.192161</td>\n",
       "      <td>-0.041679</td>\n",
       "      <td>-0.233394</td>\n",
       "      <td>0.002161</td>\n",
       "      <td>-0.016495</td>\n",
       "    </tr>\n",
       "    <tr>\n",
       "      <th>Soil_Type</th>\n",
       "      <td>-0.056375</td>\n",
       "      <td>-0.287372</td>\n",
       "      <td>1.000000</td>\n",
       "      <td>0.032657</td>\n",
       "      <td>0.079447</td>\n",
       "      <td>-0.066420</td>\n",
       "      <td>0.009364</td>\n",
       "      <td>0.002327</td>\n",
       "      <td>-0.021997</td>\n",
       "    </tr>\n",
       "    <tr>\n",
       "      <th>Pesticide_Use_Category</th>\n",
       "      <td>-0.079904</td>\n",
       "      <td>0.235779</td>\n",
       "      <td>0.032657</td>\n",
       "      <td>1.000000</td>\n",
       "      <td>-0.003498</td>\n",
       "      <td>0.326233</td>\n",
       "      <td>-0.554169</td>\n",
       "      <td>0.002811</td>\n",
       "      <td>0.175002</td>\n",
       "    </tr>\n",
       "    <tr>\n",
       "      <th>Number_Doses_Week</th>\n",
       "      <td>-0.102461</td>\n",
       "      <td>-0.192161</td>\n",
       "      <td>0.079447</td>\n",
       "      <td>-0.003498</td>\n",
       "      <td>1.000000</td>\n",
       "      <td>0.119778</td>\n",
       "      <td>-0.037131</td>\n",
       "      <td>-0.001401</td>\n",
       "      <td>-0.030874</td>\n",
       "    </tr>\n",
       "    <tr>\n",
       "      <th>Number_Weeks_Used</th>\n",
       "      <td>0.412904</td>\n",
       "      <td>-0.041679</td>\n",
       "      <td>-0.066420</td>\n",
       "      <td>0.326233</td>\n",
       "      <td>0.119778</td>\n",
       "      <td>1.000000</td>\n",
       "      <td>-0.425763</td>\n",
       "      <td>0.004188</td>\n",
       "      <td>0.219621</td>\n",
       "    </tr>\n",
       "    <tr>\n",
       "      <th>Number_Weeks_Quit</th>\n",
       "      <td>0.299279</td>\n",
       "      <td>-0.233394</td>\n",
       "      <td>0.009364</td>\n",
       "      <td>-0.554169</td>\n",
       "      <td>-0.037131</td>\n",
       "      <td>-0.425763</td>\n",
       "      <td>1.000000</td>\n",
       "      <td>0.000595</td>\n",
       "      <td>-0.133117</td>\n",
       "    </tr>\n",
       "    <tr>\n",
       "      <th>Season</th>\n",
       "      <td>0.002304</td>\n",
       "      <td>0.002161</td>\n",
       "      <td>0.002327</td>\n",
       "      <td>0.002811</td>\n",
       "      <td>-0.001401</td>\n",
       "      <td>0.004188</td>\n",
       "      <td>0.000595</td>\n",
       "      <td>1.000000</td>\n",
       "      <td>-0.000184</td>\n",
       "    </tr>\n",
       "    <tr>\n",
       "      <th>Crop_Damage</th>\n",
       "      <td>0.202888</td>\n",
       "      <td>-0.016495</td>\n",
       "      <td>-0.021997</td>\n",
       "      <td>0.175002</td>\n",
       "      <td>-0.030874</td>\n",
       "      <td>0.219621</td>\n",
       "      <td>-0.133117</td>\n",
       "      <td>-0.000184</td>\n",
       "      <td>1.000000</td>\n",
       "    </tr>\n",
       "  </tbody>\n",
       "</table>\n",
       "</div>"
      ],
      "text/plain": [
       "                         Estimated_Insects_Count  Crop_Type  Soil_Type  \\\n",
       "Estimated_Insects_Count                 1.000000  -0.088830  -0.056375   \n",
       "Crop_Type                              -0.088830   1.000000  -0.287372   \n",
       "Soil_Type                              -0.056375  -0.287372   1.000000   \n",
       "Pesticide_Use_Category                 -0.079904   0.235779   0.032657   \n",
       "Number_Doses_Week                      -0.102461  -0.192161   0.079447   \n",
       "Number_Weeks_Used                       0.412904  -0.041679  -0.066420   \n",
       "Number_Weeks_Quit                       0.299279  -0.233394   0.009364   \n",
       "Season                                  0.002304   0.002161   0.002327   \n",
       "Crop_Damage                             0.202888  -0.016495  -0.021997   \n",
       "\n",
       "                         Pesticide_Use_Category  Number_Doses_Week  \\\n",
       "Estimated_Insects_Count               -0.079904          -0.102461   \n",
       "Crop_Type                              0.235779          -0.192161   \n",
       "Soil_Type                              0.032657           0.079447   \n",
       "Pesticide_Use_Category                 1.000000          -0.003498   \n",
       "Number_Doses_Week                     -0.003498           1.000000   \n",
       "Number_Weeks_Used                      0.326233           0.119778   \n",
       "Number_Weeks_Quit                     -0.554169          -0.037131   \n",
       "Season                                 0.002811          -0.001401   \n",
       "Crop_Damage                            0.175002          -0.030874   \n",
       "\n",
       "                         Number_Weeks_Used  Number_Weeks_Quit    Season  \\\n",
       "Estimated_Insects_Count           0.412904           0.299279  0.002304   \n",
       "Crop_Type                        -0.041679          -0.233394  0.002161   \n",
       "Soil_Type                        -0.066420           0.009364  0.002327   \n",
       "Pesticide_Use_Category            0.326233          -0.554169  0.002811   \n",
       "Number_Doses_Week                 0.119778          -0.037131 -0.001401   \n",
       "Number_Weeks_Used                 1.000000          -0.425763  0.004188   \n",
       "Number_Weeks_Quit                -0.425763           1.000000  0.000595   \n",
       "Season                            0.004188           0.000595  1.000000   \n",
       "Crop_Damage                       0.219621          -0.133117 -0.000184   \n",
       "\n",
       "                         Crop_Damage  \n",
       "Estimated_Insects_Count     0.202888  \n",
       "Crop_Type                  -0.016495  \n",
       "Soil_Type                  -0.021997  \n",
       "Pesticide_Use_Category      0.175002  \n",
       "Number_Doses_Week          -0.030874  \n",
       "Number_Weeks_Used           0.219621  \n",
       "Number_Weeks_Quit          -0.133117  \n",
       "Season                     -0.000184  \n",
       "Crop_Damage                 1.000000  "
      ]
     },
     "execution_count": 17,
     "metadata": {},
     "output_type": "execute_result"
    }
   ],
   "source": [
    "# Correlation\n",
    "\n",
    "df.corr()"
   ]
  },
  {
   "cell_type": "code",
   "execution_count": 18,
   "metadata": {},
   "outputs": [
    {
     "data": {
      "image/png": "[encoded data removed]",
      "text/plain": [
       "<Figure size 864x432 with 2 Axes>"
      ]
     },
     "metadata": {
      "needs_background": "light"
     },
     "output_type": "display_data"
    }
   ],
   "source": [
    "# Visualizing correlation with heatmap\n",
    "\n",
    "plt.figure(figsize=(12,6))\n",
    "plt.title(\"Correlation\")\n",
    "sns.heatmap(df.corr(),annot=True,cmap='Greens')\n",
    "plt.show()"
   ]
  },
  {
   "cell_type": "markdown",
   "metadata": {},
   "source": [
    "The target variable has weak positive correlation with estimated insect counts, pesticide category and number of weeks used and does not have any significant correlation with any independent variables."
   ]
  },
  {
   "cell_type": "code",
   "execution_count": 19,
   "metadata": {},
   "outputs": [
    {
     "data": {
      "image/png": "[encoded data removed]",
      "text/plain": [
       "<Figure size 1152x3240 with 9 Axes>"
      ]
     },
     "metadata": {
      "needs_background": "light"
     },
     "output_type": "display_data"
    }
   ],
   "source": [
    "# Checking for outliers\n",
    "\n",
    "collist = df.columns.values\n",
    "ncol = 9\n",
    "nrows = 5\n",
    "\n",
    "plt.figure(figsize=(16,5*ncol))\n",
    "for i in range(len(collist)):\n",
    "    plt.subplot(nrows,ncol,i+1)\n",
    "    sns.boxplot(df[collist[i]],orient = \"v\")\n",
    "    plt.tight_layout()"
   ]
  },
  {
   "cell_type": "code",
   "execution_count": 20,
   "metadata": {},
   "outputs": [
    {
     "data": {
      "text/html": [
       "<div>\n",
       "<style scoped>\n",
       "    .dataframe tbody tr th:only-of-type {\n",
       "        vertical-align: middle;\n",
       "    }\n",
       "\n",
       "    .dataframe tbody tr th {\n",
       "        vertical-align: top;\n",
       "    }\n",
       "\n",
       "    .dataframe thead th {\n",
       "        text-align: right;\n",
       "    }\n",
       "</style>\n",
       "<table border=\"1\" class=\"dataframe\">\n",
       "  <thead>\n",
       "    <tr style=\"text-align: right;\">\n",
       "      <th></th>\n",
       "      <th>Estimated_Insects_Count</th>\n",
       "      <th>Crop_Type</th>\n",
       "      <th>Soil_Type</th>\n",
       "      <th>Pesticide_Use_Category</th>\n",
       "      <th>Number_Doses_Week</th>\n",
       "      <th>Number_Weeks_Used</th>\n",
       "      <th>Number_Weeks_Quit</th>\n",
       "      <th>Season</th>\n",
       "      <th>Crop_Damage</th>\n",
       "    </tr>\n",
       "    <tr>\n",
       "      <th>ID</th>\n",
       "      <th></th>\n",
       "      <th></th>\n",
       "      <th></th>\n",
       "      <th></th>\n",
       "      <th></th>\n",
       "      <th></th>\n",
       "      <th></th>\n",
       "      <th></th>\n",
       "      <th></th>\n",
       "    </tr>\n",
       "  </thead>\n",
       "  <tbody>\n",
       "    <tr>\n",
       "      <th>F00000001</th>\n",
       "      <td>188</td>\n",
       "      <td>1</td>\n",
       "      <td>0</td>\n",
       "      <td>1</td>\n",
       "      <td>0</td>\n",
       "      <td>0.0</td>\n",
       "      <td>0</td>\n",
       "      <td>1</td>\n",
       "      <td>0</td>\n",
       "    </tr>\n",
       "    <tr>\n",
       "      <th>F00000003</th>\n",
       "      <td>209</td>\n",
       "      <td>1</td>\n",
       "      <td>0</td>\n",
       "      <td>1</td>\n",
       "      <td>0</td>\n",
       "      <td>0.0</td>\n",
       "      <td>0</td>\n",
       "      <td>2</td>\n",
       "      <td>1</td>\n",
       "    </tr>\n",
       "    <tr>\n",
       "      <th>F00000004</th>\n",
       "      <td>257</td>\n",
       "      <td>1</td>\n",
       "      <td>0</td>\n",
       "      <td>1</td>\n",
       "      <td>0</td>\n",
       "      <td>0.0</td>\n",
       "      <td>0</td>\n",
       "      <td>2</td>\n",
       "      <td>1</td>\n",
       "    </tr>\n",
       "    <tr>\n",
       "      <th>F00000005</th>\n",
       "      <td>257</td>\n",
       "      <td>1</td>\n",
       "      <td>1</td>\n",
       "      <td>1</td>\n",
       "      <td>0</td>\n",
       "      <td>0.0</td>\n",
       "      <td>0</td>\n",
       "      <td>2</td>\n",
       "      <td>1</td>\n",
       "    </tr>\n",
       "    <tr>\n",
       "      <th>F00000006</th>\n",
       "      <td>342</td>\n",
       "      <td>1</td>\n",
       "      <td>0</td>\n",
       "      <td>1</td>\n",
       "      <td>0</td>\n",
       "      <td>0.0</td>\n",
       "      <td>0</td>\n",
       "      <td>2</td>\n",
       "      <td>1</td>\n",
       "    </tr>\n",
       "  </tbody>\n",
       "</table>\n",
       "</div>"
      ],
      "text/plain": [
       "           Estimated_Insects_Count  Crop_Type  Soil_Type  \\\n",
       "ID                                                         \n",
       "F00000001                      188          1          0   \n",
       "F00000003                      209          1          0   \n",
       "F00000004                      257          1          0   \n",
       "F00000005                      257          1          1   \n",
       "F00000006                      342          1          0   \n",
       "\n",
       "           Pesticide_Use_Category  Number_Doses_Week  Number_Weeks_Used  \\\n",
       "ID                                                                        \n",
       "F00000001                       1                  0                0.0   \n",
       "F00000003                       1                  0                0.0   \n",
       "F00000004                       1                  0                0.0   \n",
       "F00000005                       1                  0                0.0   \n",
       "F00000006                       1                  0                0.0   \n",
       "\n",
       "           Number_Weeks_Quit  Season  Crop_Damage  \n",
       "ID                                                 \n",
       "F00000001                  0       1            0  \n",
       "F00000003                  0       2            1  \n",
       "F00000004                  0       2            1  \n",
       "F00000005                  0       2            1  \n",
       "F00000006                  0       2            1  "
      ]
     },
     "execution_count": 20,
     "metadata": {},
     "output_type": "execute_result"
    }
   ],
   "source": [
    "# Removing outliers\n",
    "\n",
    "from scipy.stats import zscore\n",
    "z=np.abs(zscore(df))\n",
    "df_new=df[(z<3).all(axis=1)]\n",
    "df_new.head()"
   ]
  },
  {
   "cell_type": "code",
   "execution_count": 21,
   "metadata": {},
   "outputs": [
    {
     "data": {
      "text/plain": [
       "(88858, 9)"
      ]
     },
     "execution_count": 21,
     "metadata": {},
     "output_type": "execute_result"
    }
   ],
   "source": [
    "df.shape"
   ]
  },
  {
   "cell_type": "code",
   "execution_count": 22,
   "metadata": {},
   "outputs": [
    {
     "data": {
      "text/plain": [
       "(84853, 9)"
      ]
     },
     "execution_count": 22,
     "metadata": {},
     "output_type": "execute_result"
    }
   ],
   "source": [
    "df_new.shape"
   ]
  },
  {
   "cell_type": "code",
   "execution_count": 23,
   "metadata": {},
   "outputs": [
    {
     "data": {
      "text/plain": [
       "array([0, 1], dtype=int64)"
      ]
     },
     "execution_count": 23,
     "metadata": {},
     "output_type": "execute_result"
    }
   ],
   "source": [
    "df_new[\"Crop_Damage\"].unique()"
   ]
  },
  {
   "cell_type": "markdown",
   "metadata": {},
   "source": [
    "removing outliers results in the loss of entire class 2 in crop_damage \n",
    "\n",
    "=> Outliers consist of relavent data for the crop damage to be classifiued as class 2\n",
    "\n",
    "=> we continue with the dataset with outliers"
   ]
  },
  {
   "cell_type": "code",
   "execution_count": 24,
   "metadata": {},
   "outputs": [
    {
     "name": "stdout",
     "output_type": "stream",
     "text": [
      "           Estimated_Insects_Count  Crop_Type  Soil_Type  \\\n",
      "ID                                                         \n",
      "F00000001                      188          1          0   \n",
      "F00000003                      209          1          0   \n",
      "F00000004                      257          1          0   \n",
      "F00000005                      257          1          1   \n",
      "F00000006                      342          1          0   \n",
      "\n",
      "           Pesticide_Use_Category  Number_Doses_Week  Number_Weeks_Used  \\\n",
      "ID                                                                        \n",
      "F00000001                       1                  0                0.0   \n",
      "F00000003                       1                  0                0.0   \n",
      "F00000004                       1                  0                0.0   \n",
      "F00000005                       1                  0                0.0   \n",
      "F00000006                       1                  0                0.0   \n",
      "\n",
      "           Number_Weeks_Quit  Season  \n",
      "ID                                    \n",
      "F00000001                  0       1  \n",
      "F00000003                  0       2  \n",
      "F00000004                  0       2  \n",
      "F00000005                  0       2  \n",
      "F00000006                  0       2  \n",
      "\n",
      "\n",
      "           Crop_Damage\n",
      "ID                    \n",
      "F00000001            0\n",
      "F00000003            1\n",
      "F00000004            1\n",
      "F00000005            1\n",
      "F00000006            1\n"
     ]
    }
   ],
   "source": [
    "# Splitting independent variables and target\n",
    "\n",
    "x = df.drop('Crop_Damage',axis=1)\n",
    "print(x.head())\n",
    "y = df[['Crop_Damage']]\n",
    "print(\"\\n\")\n",
    "print(y.head())"
   ]
  },
  {
   "cell_type": "code",
   "execution_count": 25,
   "metadata": {},
   "outputs": [
    {
     "data": {
      "text/plain": [
       "Estimated_Insects_Count    0.839146\n",
       "Crop_Type                  0.955978\n",
       "Soil_Type                  0.166914\n",
       "Pesticide_Use_Category     0.779488\n",
       "Number_Doses_Week          0.962879\n",
       "Number_Weeks_Used          0.258007\n",
       "Number_Weeks_Quit          0.892773\n",
       "Season                     0.145228\n",
       "dtype: float64"
      ]
     },
     "execution_count": 25,
     "metadata": {},
     "output_type": "execute_result"
    }
   ],
   "source": [
    "# Skewness\n",
    "\n",
    "x.skew()"
   ]
  },
  {
   "cell_type": "code",
   "execution_count": 26,
   "metadata": {},
   "outputs": [
    {
     "data": {
      "text/plain": [
       "Estimated_Insects_Count    0.233920\n",
       "Crop_Type                  0.955978\n",
       "Soil_Type                  0.166914\n",
       "Pesticide_Use_Category     0.589801\n",
       "Number_Doses_Week          0.057880\n",
       "Number_Weeks_Used          0.258007\n",
       "Number_Weeks_Quit          0.015768\n",
       "Season                     0.145228\n",
       "dtype: float64"
      ]
     },
     "execution_count": 26,
     "metadata": {},
     "output_type": "execute_result"
    }
   ],
   "source": [
    "for i in x.columns:\n",
    "    if x[i].skew() > 0.55:\n",
    "        x[i]=np.sqrt(x[i])\n",
    "        \n",
    "x.skew()"
   ]
  },
  {
   "cell_type": "code",
   "execution_count": 27,
   "metadata": {},
   "outputs": [
    {
     "data": {
      "text/html": [
       "<div>\n",
       "<style scoped>\n",
       "    .dataframe tbody tr th:only-of-type {\n",
       "        vertical-align: middle;\n",
       "    }\n",
       "\n",
       "    .dataframe tbody tr th {\n",
       "        vertical-align: top;\n",
       "    }\n",
       "\n",
       "    .dataframe thead th {\n",
       "        text-align: right;\n",
       "    }\n",
       "</style>\n",
       "<table border=\"1\" class=\"dataframe\">\n",
       "  <thead>\n",
       "    <tr style=\"text-align: right;\">\n",
       "      <th></th>\n",
       "      <th>0</th>\n",
       "      <th>1</th>\n",
       "      <th>2</th>\n",
       "      <th>3</th>\n",
       "      <th>4</th>\n",
       "      <th>5</th>\n",
       "      <th>6</th>\n",
       "      <th>7</th>\n",
       "    </tr>\n",
       "  </thead>\n",
       "  <tbody>\n",
       "    <tr>\n",
       "      <th>0</th>\n",
       "      <td>-1.940906</td>\n",
       "      <td>1.586343</td>\n",
       "      <td>-0.920021</td>\n",
       "      <td>-3.325754</td>\n",
       "      <td>-3.123897</td>\n",
       "      <td>-2.436601</td>\n",
       "      <td>-1.25114</td>\n",
       "      <td>-1.278962</td>\n",
       "    </tr>\n",
       "    <tr>\n",
       "      <th>1</th>\n",
       "      <td>-1.874962</td>\n",
       "      <td>1.586343</td>\n",
       "      <td>-0.920021</td>\n",
       "      <td>-3.325754</td>\n",
       "      <td>-3.123897</td>\n",
       "      <td>-2.436601</td>\n",
       "      <td>-1.25114</td>\n",
       "      <td>0.146924</td>\n",
       "    </tr>\n",
       "    <tr>\n",
       "      <th>2</th>\n",
       "      <td>-1.735701</td>\n",
       "      <td>1.586343</td>\n",
       "      <td>-0.920021</td>\n",
       "      <td>-3.325754</td>\n",
       "      <td>-3.123897</td>\n",
       "      <td>-2.436601</td>\n",
       "      <td>-1.25114</td>\n",
       "      <td>0.146924</td>\n",
       "    </tr>\n",
       "    <tr>\n",
       "      <th>3</th>\n",
       "      <td>-1.735701</td>\n",
       "      <td>1.586343</td>\n",
       "      <td>1.086932</td>\n",
       "      <td>-3.325754</td>\n",
       "      <td>-3.123897</td>\n",
       "      <td>-2.436601</td>\n",
       "      <td>-1.25114</td>\n",
       "      <td>0.146924</td>\n",
       "    </tr>\n",
       "    <tr>\n",
       "      <th>4</th>\n",
       "      <td>-1.517926</td>\n",
       "      <td>1.586343</td>\n",
       "      <td>-0.920021</td>\n",
       "      <td>-3.325754</td>\n",
       "      <td>-3.123897</td>\n",
       "      <td>-2.436601</td>\n",
       "      <td>-1.25114</td>\n",
       "      <td>0.146924</td>\n",
       "    </tr>\n",
       "  </tbody>\n",
       "</table>\n",
       "</div>"
      ],
      "text/plain": [
       "          0         1         2         3         4         5        6  \\\n",
       "0 -1.940906  1.586343 -0.920021 -3.325754 -3.123897 -2.436601 -1.25114   \n",
       "1 -1.874962  1.586343 -0.920021 -3.325754 -3.123897 -2.436601 -1.25114   \n",
       "2 -1.735701  1.586343 -0.920021 -3.325754 -3.123897 -2.436601 -1.25114   \n",
       "3 -1.735701  1.586343  1.086932 -3.325754 -3.123897 -2.436601 -1.25114   \n",
       "4 -1.517926  1.586343 -0.920021 -3.325754 -3.123897 -2.436601 -1.25114   \n",
       "\n",
       "          7  \n",
       "0 -1.278962  \n",
       "1  0.146924  \n",
       "2  0.146924  \n",
       "3  0.146924  \n",
       "4  0.146924  "
      ]
     },
     "execution_count": 27,
     "metadata": {},
     "output_type": "execute_result"
    }
   ],
   "source": [
    "# Using Standard scaler for uniform range in all columns\n",
    "\n",
    "from sklearn.preprocessing import StandardScaler\n",
    "\n",
    "sc = StandardScaler()\n",
    "x = sc.fit_transform(x)\n",
    "x = pd.DataFrame(x)\n",
    "x.head()"
   ]
  },
  {
   "cell_type": "code",
   "execution_count": 28,
   "metadata": {},
   "outputs": [],
   "source": [
    "# Splitting into training and testing data\n",
    "\n",
    "from sklearn.model_selection import train_test_split\n",
    "from sklearn.metrics import accuracy_score,classification_report,confusion_matrix"
   ]
  },
  {
   "cell_type": "code",
   "execution_count": 31,
   "metadata": {},
   "outputs": [],
   "source": [
    "x_train,x_test,y_train,y_test=train_test_split(x,y,test_size=0.20,random_state=52)"
   ]
  },
  {
   "cell_type": "code",
   "execution_count": 35,
   "metadata": {},
   "outputs": [],
   "source": [
    "from sklearn.neighbors import KNeighborsClassifier\n",
    "from sklearn.naive_bayes import GaussianNB\n",
    "from sklearn.svm import SVC"
   ]
  },
  {
   "cell_type": "code",
   "execution_count": 36,
   "metadata": {},
   "outputs": [
    {
     "name": "stdout",
     "output_type": "stream",
     "text": [
      "0.8237768336943984\n",
      "accuracy score of GaussianNB() is\n",
      "0.8220796758946658\n",
      "[[13960   882     0]\n",
      " [ 1799   649     0]\n",
      " [  283   198     1]]\n",
      "              precision    recall  f1-score   support\n",
      "\n",
      "           0       0.87      0.94      0.90     14842\n",
      "           1       0.38      0.27      0.31      2448\n",
      "           2       1.00      0.00      0.00       482\n",
      "\n",
      "    accuracy                           0.82     17772\n",
      "   macro avg       0.75      0.40      0.41     17772\n",
      "weighted avg       0.81      0.82      0.80     17772\n",
      "\n",
      "\n",
      "\n",
      "0.842303688489998\n",
      "accuracy score of SVC() is\n",
      "0.8411546252532073\n",
      "[[14715   127     0]\n",
      " [ 2214   234     0]\n",
      " [  383    99     0]]\n",
      "              precision    recall  f1-score   support\n",
      "\n",
      "           0       0.85      0.99      0.92     14842\n",
      "           1       0.51      0.10      0.16      2448\n",
      "           2       0.00      0.00      0.00       482\n",
      "\n",
      "    accuracy                           0.84     17772\n",
      "   macro avg       0.45      0.36      0.36     17772\n",
      "weighted avg       0.78      0.84      0.79     17772\n",
      "\n",
      "\n",
      "\n",
      "0.8355513040542442\n",
      "accuracy score of SVC(kernel='linear') is\n",
      "0.8351339185235201\n",
      "[[14842     0     0]\n",
      " [ 2448     0     0]\n",
      " [  482     0     0]]\n",
      "              precision    recall  f1-score   support\n",
      "\n",
      "           0       0.84      1.00      0.91     14842\n",
      "           1       0.00      0.00      0.00      2448\n",
      "           2       0.00      0.00      0.00       482\n",
      "\n",
      "    accuracy                           0.84     17772\n",
      "   macro avg       0.28      0.33      0.30     17772\n",
      "weighted avg       0.70      0.84      0.76     17772\n",
      "\n",
      "\n",
      "\n",
      "0.8404186478350167\n",
      "accuracy score of SVC(kernel='poly') is\n",
      "0.8401980643709206\n",
      "[[14822    20     0]\n",
      " [ 2338   110     0]\n",
      " [  437    45     0]]\n",
      "              precision    recall  f1-score   support\n",
      "\n",
      "           0       0.84      1.00      0.91     14842\n",
      "           1       0.63      0.04      0.08      2448\n",
      "           2       0.00      0.00      0.00       482\n",
      "\n",
      "    accuracy                           0.84     17772\n",
      "   macro avg       0.49      0.35      0.33     17772\n",
      "weighted avg       0.79      0.84      0.77     17772\n",
      "\n",
      "\n",
      "\n",
      "0.8651070534282419\n",
      "accuracy score of KNeighborsClassifier() is\n",
      "0.8281566509115462\n",
      "[[14146   683    13]\n",
      " [ 1863   561    24]\n",
      " [  324   147    11]]\n",
      "              precision    recall  f1-score   support\n",
      "\n",
      "           0       0.87      0.95      0.91     14842\n",
      "           1       0.40      0.23      0.29      2448\n",
      "           2       0.23      0.02      0.04       482\n",
      "\n",
      "    accuracy                           0.83     17772\n",
      "   macro avg       0.50      0.40      0.41     17772\n",
      "weighted avg       0.79      0.83      0.80     17772\n",
      "\n",
      "\n",
      "\n"
     ]
    }
   ],
   "source": [
    "model = [GaussianNB(),SVC(),SVC(kernel='linear'),SVC(kernel='poly'),KNeighborsClassifier()]\n",
    "\n",
    "for m in model:\n",
    "    m.fit(x_train,y_train)\n",
    "    print(m.score(x_train,y_train))\n",
    "    predm=m.predict(x_test)\n",
    "    print(\"accuracy score of\", m,\"is\")\n",
    "    print(accuracy_score(y_test,predm))\n",
    "    print(confusion_matrix(y_test,predm))\n",
    "    print(classification_report(y_test,predm))\n",
    "    print(\"\\n\")"
   ]
  },
  {
   "cell_type": "markdown",
   "metadata": {},
   "source": [
    "The SVC model with rbf(default) kernel has highest accuracy"
   ]
  },
  {
   "cell_type": "code",
   "execution_count": 38,
   "metadata": {},
   "outputs": [
    {
     "name": "stdout",
     "output_type": "stream",
     "text": [
      "Cross_val_score for SVC() is  0.841668721910897\n"
     ]
    }
   ],
   "source": [
    "# cross_val_score\n",
    "\n",
    "svc=SVC()\n",
    "\n",
    "from sklearn.model_selection import cross_val_score\n",
    "\n",
    "print(\"Cross_val_score for\",svc ,'is ',cross_val_score(svc,x,y,cv=5).mean())"
   ]
  },
  {
   "cell_type": "markdown",
   "metadata": {},
   "source": [
    "cross_val_score does not indicate overfitting"
   ]
  },
  {
   "cell_type": "code",
   "execution_count": 39,
   "metadata": {},
   "outputs": [
    {
     "data": {
      "text/plain": [
       "['svc_agriculture.csv']"
      ]
     },
     "execution_count": 39,
     "metadata": {},
     "output_type": "execute_result"
    }
   ],
   "source": [
    "# saving the model\n",
    "\n",
    "import joblib\n",
    "joblib.dump(SVC(),'svc_agriculture.csv')"
   ]
  },
  {
   "cell_type": "code",
   "execution_count": 40,
   "metadata": {},
   "outputs": [
    {
     "data": {
      "text/html": [
       "<div>\n",
       "<style scoped>\n",
       "    .dataframe tbody tr th:only-of-type {\n",
       "        vertical-align: middle;\n",
       "    }\n",
       "\n",
       "    .dataframe tbody tr th {\n",
       "        vertical-align: top;\n",
       "    }\n",
       "\n",
       "    .dataframe thead th {\n",
       "        text-align: right;\n",
       "    }\n",
       "</style>\n",
       "<table border=\"1\" class=\"dataframe\">\n",
       "  <thead>\n",
       "    <tr style=\"text-align: right;\">\n",
       "      <th></th>\n",
       "      <th>ID</th>\n",
       "      <th>Estimated_Insects_Count</th>\n",
       "      <th>Crop_Type</th>\n",
       "      <th>Soil_Type</th>\n",
       "      <th>Pesticide_Use_Category</th>\n",
       "      <th>Number_Doses_Week</th>\n",
       "      <th>Number_Weeks_Used</th>\n",
       "      <th>Number_Weeks_Quit</th>\n",
       "      <th>Season</th>\n",
       "    </tr>\n",
       "  </thead>\n",
       "  <tbody>\n",
       "    <tr>\n",
       "      <th>0</th>\n",
       "      <td>F00000002</td>\n",
       "      <td>188</td>\n",
       "      <td>1</td>\n",
       "      <td>1</td>\n",
       "      <td>1</td>\n",
       "      <td>0</td>\n",
       "      <td>NaN</td>\n",
       "      <td>0</td>\n",
       "      <td>2</td>\n",
       "    </tr>\n",
       "    <tr>\n",
       "      <th>1</th>\n",
       "      <td>F00000007</td>\n",
       "      <td>410</td>\n",
       "      <td>1</td>\n",
       "      <td>1</td>\n",
       "      <td>1</td>\n",
       "      <td>0</td>\n",
       "      <td>0.0</td>\n",
       "      <td>0</td>\n",
       "      <td>2</td>\n",
       "    </tr>\n",
       "    <tr>\n",
       "      <th>2</th>\n",
       "      <td>F00000011</td>\n",
       "      <td>626</td>\n",
       "      <td>1</td>\n",
       "      <td>0</td>\n",
       "      <td>1</td>\n",
       "      <td>0</td>\n",
       "      <td>0.0</td>\n",
       "      <td>0</td>\n",
       "      <td>2</td>\n",
       "    </tr>\n",
       "    <tr>\n",
       "      <th>3</th>\n",
       "      <td>F00000013</td>\n",
       "      <td>731</td>\n",
       "      <td>1</td>\n",
       "      <td>0</td>\n",
       "      <td>1</td>\n",
       "      <td>0</td>\n",
       "      <td>0.0</td>\n",
       "      <td>0</td>\n",
       "      <td>2</td>\n",
       "    </tr>\n",
       "    <tr>\n",
       "      <th>4</th>\n",
       "      <td>F00000014</td>\n",
       "      <td>789</td>\n",
       "      <td>0</td>\n",
       "      <td>0</td>\n",
       "      <td>1</td>\n",
       "      <td>0</td>\n",
       "      <td>0.0</td>\n",
       "      <td>0</td>\n",
       "      <td>1</td>\n",
       "    </tr>\n",
       "  </tbody>\n",
       "</table>\n",
       "</div>"
      ],
      "text/plain": [
       "          ID  Estimated_Insects_Count  Crop_Type  Soil_Type  \\\n",
       "0  F00000002                      188          1          1   \n",
       "1  F00000007                      410          1          1   \n",
       "2  F00000011                      626          1          0   \n",
       "3  F00000013                      731          1          0   \n",
       "4  F00000014                      789          0          0   \n",
       "\n",
       "   Pesticide_Use_Category  Number_Doses_Week  Number_Weeks_Used  \\\n",
       "0                       1                  0                NaN   \n",
       "1                       1                  0                0.0   \n",
       "2                       1                  0                0.0   \n",
       "3                       1                  0                0.0   \n",
       "4                       1                  0                0.0   \n",
       "\n",
       "   Number_Weeks_Quit  Season  \n",
       "0                  0       2  \n",
       "1                  0       2  \n",
       "2                  0       2  \n",
       "3                  0       2  \n",
       "4                  0       1  "
      ]
     },
     "execution_count": 40,
     "metadata": {},
     "output_type": "execute_result"
    }
   ],
   "source": [
    "# Preparing the test data\n",
    "\n",
    "df1 = pd.read_csv(\"test_agriculture.csv\")\n",
    "df1.head()"
   ]
  },
  {
   "cell_type": "code",
   "execution_count": 42,
   "metadata": {},
   "outputs": [
    {
     "data": {
      "text/html": [
       "<div>\n",
       "<style scoped>\n",
       "    .dataframe tbody tr th:only-of-type {\n",
       "        vertical-align: middle;\n",
       "    }\n",
       "\n",
       "    .dataframe tbody tr th {\n",
       "        vertical-align: top;\n",
       "    }\n",
       "\n",
       "    .dataframe thead th {\n",
       "        text-align: right;\n",
       "    }\n",
       "</style>\n",
       "<table border=\"1\" class=\"dataframe\">\n",
       "  <thead>\n",
       "    <tr style=\"text-align: right;\">\n",
       "      <th></th>\n",
       "      <th>Estimated_Insects_Count</th>\n",
       "      <th>Crop_Type</th>\n",
       "      <th>Soil_Type</th>\n",
       "      <th>Pesticide_Use_Category</th>\n",
       "      <th>Number_Doses_Week</th>\n",
       "      <th>Number_Weeks_Used</th>\n",
       "      <th>Number_Weeks_Quit</th>\n",
       "      <th>Season</th>\n",
       "    </tr>\n",
       "    <tr>\n",
       "      <th>ID</th>\n",
       "      <th></th>\n",
       "      <th></th>\n",
       "      <th></th>\n",
       "      <th></th>\n",
       "      <th></th>\n",
       "      <th></th>\n",
       "      <th></th>\n",
       "      <th></th>\n",
       "    </tr>\n",
       "  </thead>\n",
       "  <tbody>\n",
       "    <tr>\n",
       "      <th>F00000002</th>\n",
       "      <td>188</td>\n",
       "      <td>1</td>\n",
       "      <td>1</td>\n",
       "      <td>1</td>\n",
       "      <td>0</td>\n",
       "      <td>NaN</td>\n",
       "      <td>0</td>\n",
       "      <td>2</td>\n",
       "    </tr>\n",
       "    <tr>\n",
       "      <th>F00000007</th>\n",
       "      <td>410</td>\n",
       "      <td>1</td>\n",
       "      <td>1</td>\n",
       "      <td>1</td>\n",
       "      <td>0</td>\n",
       "      <td>0.0</td>\n",
       "      <td>0</td>\n",
       "      <td>2</td>\n",
       "    </tr>\n",
       "    <tr>\n",
       "      <th>F00000011</th>\n",
       "      <td>626</td>\n",
       "      <td>1</td>\n",
       "      <td>0</td>\n",
       "      <td>1</td>\n",
       "      <td>0</td>\n",
       "      <td>0.0</td>\n",
       "      <td>0</td>\n",
       "      <td>2</td>\n",
       "    </tr>\n",
       "    <tr>\n",
       "      <th>F00000013</th>\n",
       "      <td>731</td>\n",
       "      <td>1</td>\n",
       "      <td>0</td>\n",
       "      <td>1</td>\n",
       "      <td>0</td>\n",
       "      <td>0.0</td>\n",
       "      <td>0</td>\n",
       "      <td>2</td>\n",
       "    </tr>\n",
       "    <tr>\n",
       "      <th>F00000014</th>\n",
       "      <td>789</td>\n",
       "      <td>0</td>\n",
       "      <td>0</td>\n",
       "      <td>1</td>\n",
       "      <td>0</td>\n",
       "      <td>0.0</td>\n",
       "      <td>0</td>\n",
       "      <td>1</td>\n",
       "    </tr>\n",
       "  </tbody>\n",
       "</table>\n",
       "</div>"
      ],
      "text/plain": [
       "           Estimated_Insects_Count  Crop_Type  Soil_Type  \\\n",
       "ID                                                         \n",
       "F00000002                      188          1          1   \n",
       "F00000007                      410          1          1   \n",
       "F00000011                      626          1          0   \n",
       "F00000013                      731          1          0   \n",
       "F00000014                      789          0          0   \n",
       "\n",
       "           Pesticide_Use_Category  Number_Doses_Week  Number_Weeks_Used  \\\n",
       "ID                                                                        \n",
       "F00000002                       1                  0                NaN   \n",
       "F00000007                       1                  0                0.0   \n",
       "F00000011                       1                  0                0.0   \n",
       "F00000013                       1                  0                0.0   \n",
       "F00000014                       1                  0                0.0   \n",
       "\n",
       "           Number_Weeks_Quit  Season  \n",
       "ID                                    \n",
       "F00000002                  0       2  \n",
       "F00000007                  0       2  \n",
       "F00000011                  0       2  \n",
       "F00000013                  0       2  \n",
       "F00000014                  0       1  "
      ]
     },
     "execution_count": 42,
     "metadata": {},
     "output_type": "execute_result"
    }
   ],
   "source": [
    "# Setting ID as index\n",
    "\n",
    "df1 = df1.set_index(df1[\"ID\"])\n",
    "df1.drop(\"ID\",axis=1,inplace=True)\n",
    "df1.head()"
   ]
  },
  {
   "cell_type": "code",
   "execution_count": 45,
   "metadata": {},
   "outputs": [
    {
     "data": {
      "text/plain": [
       "Estimated_Insects_Count      int64\n",
       "Crop_Type                    int64\n",
       "Soil_Type                    int64\n",
       "Pesticide_Use_Category       int64\n",
       "Number_Doses_Week            int64\n",
       "Number_Weeks_Used          float64\n",
       "Number_Weeks_Quit            int64\n",
       "Season                       int64\n",
       "dtype: object"
      ]
     },
     "execution_count": 45,
     "metadata": {},
     "output_type": "execute_result"
    }
   ],
   "source": [
    "df1.dtypes"
   ]
  },
  {
   "cell_type": "code",
   "execution_count": 46,
   "metadata": {},
   "outputs": [
    {
     "data": {
      "text/plain": [
       "(1199, 8)"
      ]
     },
     "execution_count": 46,
     "metadata": {},
     "output_type": "execute_result"
    }
   ],
   "source": [
    "df1.shape"
   ]
  },
  {
   "cell_type": "markdown",
   "metadata": {},
   "source": [
    "There are 1199 entries for which the target needs to be predicted"
   ]
  },
  {
   "cell_type": "code",
   "execution_count": 47,
   "metadata": {},
   "outputs": [
    {
     "data": {
      "text/plain": [
       "Estimated_Insects_Count      0\n",
       "Crop_Type                    0\n",
       "Soil_Type                    0\n",
       "Pesticide_Use_Category       0\n",
       "Number_Doses_Week            0\n",
       "Number_Weeks_Used          119\n",
       "Number_Weeks_Quit            0\n",
       "Season                       0\n",
       "dtype: int64"
      ]
     },
     "execution_count": 47,
     "metadata": {},
     "output_type": "execute_result"
    }
   ],
   "source": [
    "# checking for null values\n",
    "\n",
    "df1.isnull().sum()"
   ]
  },
  {
   "cell_type": "code",
   "execution_count": 49,
   "metadata": {},
   "outputs": [
    {
     "data": {
      "text/plain": [
       "Estimated_Insects_Count    0\n",
       "Crop_Type                  0\n",
       "Soil_Type                  0\n",
       "Pesticide_Use_Category     0\n",
       "Number_Doses_Week          0\n",
       "Number_Weeks_Used          0\n",
       "Number_Weeks_Quit          0\n",
       "Season                     0\n",
       "dtype: int64"
      ]
     },
     "execution_count": 49,
     "metadata": {},
     "output_type": "execute_result"
    }
   ],
   "source": [
    "# Imputing with mean\n",
    "\n",
    "df1[\"Number_Weeks_Used\"]=df1[\"Number_Weeks_Used\"].replace(np.nan,df1[\"Number_Weeks_Used\"].mean())\n",
    "df1.isnull().sum()"
   ]
  },
  {
   "cell_type": "code",
   "execution_count": 54,
   "metadata": {},
   "outputs": [
    {
     "data": {
      "text/plain": [
       "Estimated_Insects_Count    1.098665\n",
       "Crop_Type                  1.546968\n",
       "Soil_Type                  0.179422\n",
       "Pesticide_Use_Category     0.089675\n",
       "Number_Doses_Week          0.872028\n",
       "Number_Weeks_Used          0.220343\n",
       "Number_Weeks_Quit          1.191013\n",
       "Season                     0.155872\n",
       "dtype: float64"
      ]
     },
     "execution_count": 54,
     "metadata": {},
     "output_type": "execute_result"
    }
   ],
   "source": [
    "# Skewness\n",
    "\n",
    "df1.skew()"
   ]
  },
  {
   "cell_type": "code",
   "execution_count": 55,
   "metadata": {},
   "outputs": [
    {
     "data": {
      "text/plain": [
       "Estimated_Insects_Count    0.481273\n",
       "Crop_Type                  1.546968\n",
       "Soil_Type                  0.179422\n",
       "Pesticide_Use_Category     0.089675\n",
       "Number_Doses_Week         -0.149741\n",
       "Number_Weeks_Used          0.220343\n",
       "Number_Weeks_Quit          0.391417\n",
       "Season                     0.155872\n",
       "dtype: float64"
      ]
     },
     "execution_count": 55,
     "metadata": {},
     "output_type": "execute_result"
    }
   ],
   "source": [
    "for i in df1.columns:\n",
    "    if df1[i].skew() > 0.55:\n",
    "        df1[i]=np.sqrt(df1[i])\n",
    "        \n",
    "df1.skew()"
   ]
  },
  {
   "cell_type": "code",
   "execution_count": 57,
   "metadata": {},
   "outputs": [
    {
     "data": {
      "text/plain": [
       "SVC()"
      ]
     },
     "execution_count": 57,
     "metadata": {},
     "output_type": "execute_result"
    }
   ],
   "source": [
    "# Loading the model\n",
    "\n",
    "joblib_model = joblib.load('svc_agriculture.csv')\n",
    "joblib_model"
   ]
  },
  {
   "cell_type": "code",
   "execution_count": 60,
   "metadata": {},
   "outputs": [
    {
     "data": {
      "text/plain": [
       "array([0, 0, 0, ..., 0, 0, 0], dtype=int64)"
      ]
     },
     "execution_count": 60,
     "metadata": {},
     "output_type": "execute_result"
    }
   ],
   "source": [
    "# Using the loaded model\n",
    "\n",
    "joblib_model.fit(x_train,y_train)\n",
    "y_pred = joblib_model.predict(df1)\n",
    "y_pred"
   ]
  },
  {
   "cell_type": "code",
   "execution_count": 62,
   "metadata": {},
   "outputs": [
    {
     "data": {
      "text/html": [
       "<div>\n",
       "<style scoped>\n",
       "    .dataframe tbody tr th:only-of-type {\n",
       "        vertical-align: middle;\n",
       "    }\n",
       "\n",
       "    .dataframe tbody tr th {\n",
       "        vertical-align: top;\n",
       "    }\n",
       "\n",
       "    .dataframe thead th {\n",
       "        text-align: right;\n",
       "    }\n",
       "</style>\n",
       "<table border=\"1\" class=\"dataframe\">\n",
       "  <thead>\n",
       "    <tr style=\"text-align: right;\">\n",
       "      <th></th>\n",
       "      <th>0</th>\n",
       "    </tr>\n",
       "  </thead>\n",
       "  <tbody>\n",
       "    <tr>\n",
       "      <th>0</th>\n",
       "      <td>0</td>\n",
       "    </tr>\n",
       "    <tr>\n",
       "      <th>1</th>\n",
       "      <td>0</td>\n",
       "    </tr>\n",
       "    <tr>\n",
       "      <th>2</th>\n",
       "      <td>0</td>\n",
       "    </tr>\n",
       "    <tr>\n",
       "      <th>3</th>\n",
       "      <td>0</td>\n",
       "    </tr>\n",
       "    <tr>\n",
       "      <th>4</th>\n",
       "      <td>0</td>\n",
       "    </tr>\n",
       "    <tr>\n",
       "      <th>...</th>\n",
       "      <td>...</td>\n",
       "    </tr>\n",
       "    <tr>\n",
       "      <th>1194</th>\n",
       "      <td>0</td>\n",
       "    </tr>\n",
       "    <tr>\n",
       "      <th>1195</th>\n",
       "      <td>0</td>\n",
       "    </tr>\n",
       "    <tr>\n",
       "      <th>1196</th>\n",
       "      <td>0</td>\n",
       "    </tr>\n",
       "    <tr>\n",
       "      <th>1197</th>\n",
       "      <td>0</td>\n",
       "    </tr>\n",
       "    <tr>\n",
       "      <th>1198</th>\n",
       "      <td>0</td>\n",
       "    </tr>\n",
       "  </tbody>\n",
       "</table>\n",
       "<p>1199 rows × 1 columns</p>\n",
       "</div>"
      ],
      "text/plain": [
       "      0\n",
       "0     0\n",
       "1     0\n",
       "2     0\n",
       "3     0\n",
       "4     0\n",
       "...  ..\n",
       "1194  0\n",
       "1195  0\n",
       "1196  0\n",
       "1197  0\n",
       "1198  0\n",
       "\n",
       "[1199 rows x 1 columns]"
      ]
     },
     "execution_count": 62,
     "metadata": {},
     "output_type": "execute_result"
    }
   ],
   "source": [
    "predicted_class = pd.DataFrame(y_pred)\n",
    "predicted_class"
   ]
  },
  {
   "cell_type": "code",
   "execution_count": null,
   "metadata": {},
   "outputs": [],
   "source": []
  }
 ],
 "metadata": {
  "kernelspec": {
   "display_name": "Python 3",
   "language": "python",
   "name": "python3"
  },
  "language_info": {
   "codemirror_mode": {
    "name": "ipython",
    "version": 3
   },
   "file_extension": ".py",
   "mimetype": "text/x-python",
   "name": "python",
   "nbconvert_exporter": "python",
   "pygments_lexer": "ipython3",
   "version": "3.8.3"
  }
 },
 "nbformat": 4,
 "nbformat_minor": 4
}
