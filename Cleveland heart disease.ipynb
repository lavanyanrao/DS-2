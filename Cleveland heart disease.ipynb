{
 "cells": [
  {
   "cell_type": "code",
   "execution_count": 1,
   "metadata": {},
   "outputs": [],
   "source": [
    "import pandas as pd\n",
    "import numpy as np\n",
    "import warnings\n",
    "warnings.filterwarnings('ignore')"
   ]
  },
  {
   "cell_type": "code",
   "execution_count": 2,
   "metadata": {},
   "outputs": [
    {
     "data": {
      "text/html": [
       "<div>\n",
       "<style scoped>\n",
       "    .dataframe tbody tr th:only-of-type {\n",
       "        vertical-align: middle;\n",
       "    }\n",
       "\n",
       "    .dataframe tbody tr th {\n",
       "        vertical-align: top;\n",
       "    }\n",
       "\n",
       "    .dataframe thead th {\n",
       "        text-align: right;\n",
       "    }\n",
       "</style>\n",
       "<table border=\"1\" class=\"dataframe\">\n",
       "  <thead>\n",
       "    <tr style=\"text-align: right;\">\n",
       "      <th></th>\n",
       "      <th>Age</th>\n",
       "      <th>Sex</th>\n",
       "      <th>cp</th>\n",
       "      <th>trestbps</th>\n",
       "      <th>chol</th>\n",
       "      <th>fbs</th>\n",
       "      <th>rest_ecg</th>\n",
       "      <th>thalach</th>\n",
       "      <th>exang</th>\n",
       "      <th>oldpeak</th>\n",
       "      <th>slope</th>\n",
       "      <th>ca</th>\n",
       "      <th>thal</th>\n",
       "      <th>num</th>\n",
       "    </tr>\n",
       "  </thead>\n",
       "  <tbody>\n",
       "    <tr>\n",
       "      <th>0</th>\n",
       "      <td>63.0</td>\n",
       "      <td>1.0</td>\n",
       "      <td>1.0</td>\n",
       "      <td>145.0</td>\n",
       "      <td>233.0</td>\n",
       "      <td>1.0</td>\n",
       "      <td>2.0</td>\n",
       "      <td>150.0</td>\n",
       "      <td>0.0</td>\n",
       "      <td>2.3</td>\n",
       "      <td>3.0</td>\n",
       "      <td>0.0</td>\n",
       "      <td>6.0</td>\n",
       "      <td>0</td>\n",
       "    </tr>\n",
       "    <tr>\n",
       "      <th>1</th>\n",
       "      <td>67.0</td>\n",
       "      <td>1.0</td>\n",
       "      <td>4.0</td>\n",
       "      <td>160.0</td>\n",
       "      <td>286.0</td>\n",
       "      <td>0.0</td>\n",
       "      <td>2.0</td>\n",
       "      <td>108.0</td>\n",
       "      <td>1.0</td>\n",
       "      <td>1.5</td>\n",
       "      <td>2.0</td>\n",
       "      <td>3.0</td>\n",
       "      <td>3.0</td>\n",
       "      <td>2</td>\n",
       "    </tr>\n",
       "    <tr>\n",
       "      <th>2</th>\n",
       "      <td>67.0</td>\n",
       "      <td>1.0</td>\n",
       "      <td>4.0</td>\n",
       "      <td>120.0</td>\n",
       "      <td>229.0</td>\n",
       "      <td>0.0</td>\n",
       "      <td>2.0</td>\n",
       "      <td>129.0</td>\n",
       "      <td>1.0</td>\n",
       "      <td>2.6</td>\n",
       "      <td>2.0</td>\n",
       "      <td>2.0</td>\n",
       "      <td>7.0</td>\n",
       "      <td>1</td>\n",
       "    </tr>\n",
       "    <tr>\n",
       "      <th>3</th>\n",
       "      <td>37.0</td>\n",
       "      <td>1.0</td>\n",
       "      <td>3.0</td>\n",
       "      <td>130.0</td>\n",
       "      <td>250.0</td>\n",
       "      <td>0.0</td>\n",
       "      <td>0.0</td>\n",
       "      <td>187.0</td>\n",
       "      <td>0.0</td>\n",
       "      <td>3.5</td>\n",
       "      <td>3.0</td>\n",
       "      <td>0.0</td>\n",
       "      <td>3.0</td>\n",
       "      <td>0</td>\n",
       "    </tr>\n",
       "    <tr>\n",
       "      <th>4</th>\n",
       "      <td>41.0</td>\n",
       "      <td>0.0</td>\n",
       "      <td>2.0</td>\n",
       "      <td>130.0</td>\n",
       "      <td>204.0</td>\n",
       "      <td>0.0</td>\n",
       "      <td>2.0</td>\n",
       "      <td>172.0</td>\n",
       "      <td>0.0</td>\n",
       "      <td>1.4</td>\n",
       "      <td>1.0</td>\n",
       "      <td>0.0</td>\n",
       "      <td>3.0</td>\n",
       "      <td>0</td>\n",
       "    </tr>\n",
       "  </tbody>\n",
       "</table>\n",
       "</div>"
      ],
      "text/plain": [
       "    Age  Sex   cp  trestbps   chol  fbs  rest_ecg  thalach  exang  oldpeak  \\\n",
       "0  63.0  1.0  1.0     145.0  233.0  1.0       2.0    150.0    0.0      2.3   \n",
       "1  67.0  1.0  4.0     160.0  286.0  0.0       2.0    108.0    1.0      1.5   \n",
       "2  67.0  1.0  4.0     120.0  229.0  0.0       2.0    129.0    1.0      2.6   \n",
       "3  37.0  1.0  3.0     130.0  250.0  0.0       0.0    187.0    0.0      3.5   \n",
       "4  41.0  0.0  2.0     130.0  204.0  0.0       2.0    172.0    0.0      1.4   \n",
       "\n",
       "   slope   ca  thal  num  \n",
       "0    3.0  0.0   6.0    0  \n",
       "1    2.0  3.0   3.0    2  \n",
       "2    2.0  2.0   7.0    1  \n",
       "3    3.0  0.0   3.0    0  \n",
       "4    1.0  0.0   3.0    0  "
      ]
     },
     "execution_count": 2,
     "metadata": {},
     "output_type": "execute_result"
    }
   ],
   "source": [
    "df = pd.read_csv(\"Cleveland_heart_disease.csv\")\n",
    "df.head()"
   ]
  },
  {
   "cell_type": "code",
   "execution_count": 3,
   "metadata": {},
   "outputs": [
    {
     "data": {
      "text/plain": [
       "Age         float64\n",
       "Sex         float64\n",
       "cp          float64\n",
       "trestbps    float64\n",
       "chol        float64\n",
       "fbs         float64\n",
       "rest_ecg    float64\n",
       "thalach     float64\n",
       "exang       float64\n",
       "oldpeak     float64\n",
       "slope       float64\n",
       "ca          float64\n",
       "thal        float64\n",
       "num           int64\n",
       "dtype: object"
      ]
     },
     "execution_count": 3,
     "metadata": {},
     "output_type": "execute_result"
    }
   ],
   "source": [
    "df.dtypes"
   ]
  },
  {
   "cell_type": "code",
   "execution_count": 4,
   "metadata": {},
   "outputs": [
    {
     "data": {
      "text/plain": [
       "(303, 14)"
      ]
     },
     "execution_count": 4,
     "metadata": {},
     "output_type": "execute_result"
    }
   ],
   "source": [
    "df.shape"
   ]
  },
  {
   "cell_type": "code",
   "execution_count": 5,
   "metadata": {},
   "outputs": [
    {
     "data": {
      "text/plain": [
       "Age         0\n",
       "Sex         0\n",
       "cp          0\n",
       "trestbps    0\n",
       "chol        0\n",
       "fbs         0\n",
       "rest_ecg    0\n",
       "thalach     0\n",
       "exang       0\n",
       "oldpeak     0\n",
       "slope       0\n",
       "ca          4\n",
       "thal        2\n",
       "num         0\n",
       "dtype: int64"
      ]
     },
     "execution_count": 5,
     "metadata": {},
     "output_type": "execute_result"
    }
   ],
   "source": [
    "# Checking for null values\n",
    "\n",
    "df.isnull().sum()"
   ]
  },
  {
   "cell_type": "code",
   "execution_count": 6,
   "metadata": {},
   "outputs": [
    {
     "data": {
      "text/plain": [
       "Age         0\n",
       "Sex         0\n",
       "cp          0\n",
       "trestbps    0\n",
       "chol        0\n",
       "fbs         0\n",
       "rest_ecg    0\n",
       "thalach     0\n",
       "exang       0\n",
       "oldpeak     0\n",
       "slope       0\n",
       "ca          0\n",
       "thal        0\n",
       "num         0\n",
       "dtype: int64"
      ]
     },
     "execution_count": 6,
     "metadata": {},
     "output_type": "execute_result"
    }
   ],
   "source": [
    "df[\"ca\"]=df[\"ca\"].replace(np.nan,df[\"ca\"].mean())\n",
    "df[\"thal\"]=df[\"thal\"].replace(np.nan,df[\"thal\"].mean())\n",
    "df.isnull().sum()"
   ]
  },
  {
   "cell_type": "code",
   "execution_count": 7,
   "metadata": {},
   "outputs": [
    {
     "data": {
      "text/html": [
       "<div>\n",
       "<style scoped>\n",
       "    .dataframe tbody tr th:only-of-type {\n",
       "        vertical-align: middle;\n",
       "    }\n",
       "\n",
       "    .dataframe tbody tr th {\n",
       "        vertical-align: top;\n",
       "    }\n",
       "\n",
       "    .dataframe thead th {\n",
       "        text-align: right;\n",
       "    }\n",
       "</style>\n",
       "<table border=\"1\" class=\"dataframe\">\n",
       "  <thead>\n",
       "    <tr style=\"text-align: right;\">\n",
       "      <th></th>\n",
       "      <th>Age</th>\n",
       "      <th>Sex</th>\n",
       "      <th>cp</th>\n",
       "      <th>trestbps</th>\n",
       "      <th>chol</th>\n",
       "      <th>fbs</th>\n",
       "      <th>rest_ecg</th>\n",
       "      <th>thalach</th>\n",
       "      <th>exang</th>\n",
       "      <th>oldpeak</th>\n",
       "      <th>slope</th>\n",
       "      <th>ca</th>\n",
       "      <th>thal</th>\n",
       "      <th>num</th>\n",
       "    </tr>\n",
       "  </thead>\n",
       "  <tbody>\n",
       "    <tr>\n",
       "      <th>Age</th>\n",
       "      <td>1.000000</td>\n",
       "      <td>-0.097542</td>\n",
       "      <td>0.104139</td>\n",
       "      <td>0.284946</td>\n",
       "      <td>0.208950</td>\n",
       "      <td>0.118530</td>\n",
       "      <td>0.148868</td>\n",
       "      <td>-0.393806</td>\n",
       "      <td>0.091661</td>\n",
       "      <td>0.203805</td>\n",
       "      <td>0.161770</td>\n",
       "      <td>0.359489</td>\n",
       "      <td>0.127368</td>\n",
       "      <td>0.222853</td>\n",
       "    </tr>\n",
       "    <tr>\n",
       "      <th>Sex</th>\n",
       "      <td>-0.097542</td>\n",
       "      <td>1.000000</td>\n",
       "      <td>0.010084</td>\n",
       "      <td>-0.064456</td>\n",
       "      <td>-0.199915</td>\n",
       "      <td>0.047862</td>\n",
       "      <td>0.021647</td>\n",
       "      <td>-0.048663</td>\n",
       "      <td>0.146201</td>\n",
       "      <td>0.102173</td>\n",
       "      <td>0.037533</td>\n",
       "      <td>0.092891</td>\n",
       "      <td>0.379300</td>\n",
       "      <td>0.224469</td>\n",
       "    </tr>\n",
       "    <tr>\n",
       "      <th>cp</th>\n",
       "      <td>0.104139</td>\n",
       "      <td>0.010084</td>\n",
       "      <td>1.000000</td>\n",
       "      <td>-0.036077</td>\n",
       "      <td>0.072319</td>\n",
       "      <td>-0.039975</td>\n",
       "      <td>0.067505</td>\n",
       "      <td>-0.334422</td>\n",
       "      <td>0.384060</td>\n",
       "      <td>0.202277</td>\n",
       "      <td>0.152050</td>\n",
       "      <td>0.232332</td>\n",
       "      <td>0.264895</td>\n",
       "      <td>0.407075</td>\n",
       "    </tr>\n",
       "    <tr>\n",
       "      <th>trestbps</th>\n",
       "      <td>0.284946</td>\n",
       "      <td>-0.064456</td>\n",
       "      <td>-0.036077</td>\n",
       "      <td>1.000000</td>\n",
       "      <td>0.130120</td>\n",
       "      <td>0.175340</td>\n",
       "      <td>0.146560</td>\n",
       "      <td>-0.045351</td>\n",
       "      <td>0.064762</td>\n",
       "      <td>0.189171</td>\n",
       "      <td>0.117382</td>\n",
       "      <td>0.098707</td>\n",
       "      <td>0.133534</td>\n",
       "      <td>0.157754</td>\n",
       "    </tr>\n",
       "    <tr>\n",
       "      <th>chol</th>\n",
       "      <td>0.208950</td>\n",
       "      <td>-0.199915</td>\n",
       "      <td>0.072319</td>\n",
       "      <td>0.130120</td>\n",
       "      <td>1.000000</td>\n",
       "      <td>0.009841</td>\n",
       "      <td>0.171043</td>\n",
       "      <td>-0.003432</td>\n",
       "      <td>0.061310</td>\n",
       "      <td>0.046564</td>\n",
       "      <td>-0.004062</td>\n",
       "      <td>0.118525</td>\n",
       "      <td>0.014190</td>\n",
       "      <td>0.070909</td>\n",
       "    </tr>\n",
       "    <tr>\n",
       "      <th>fbs</th>\n",
       "      <td>0.118530</td>\n",
       "      <td>0.047862</td>\n",
       "      <td>-0.039975</td>\n",
       "      <td>0.175340</td>\n",
       "      <td>0.009841</td>\n",
       "      <td>1.000000</td>\n",
       "      <td>0.069564</td>\n",
       "      <td>-0.007854</td>\n",
       "      <td>0.025665</td>\n",
       "      <td>0.005747</td>\n",
       "      <td>0.059894</td>\n",
       "      <td>0.143967</td>\n",
       "      <td>0.070658</td>\n",
       "      <td>0.059186</td>\n",
       "    </tr>\n",
       "    <tr>\n",
       "      <th>rest_ecg</th>\n",
       "      <td>0.148868</td>\n",
       "      <td>0.021647</td>\n",
       "      <td>0.067505</td>\n",
       "      <td>0.146560</td>\n",
       "      <td>0.171043</td>\n",
       "      <td>0.069564</td>\n",
       "      <td>1.000000</td>\n",
       "      <td>-0.083389</td>\n",
       "      <td>0.084867</td>\n",
       "      <td>0.114133</td>\n",
       "      <td>0.133946</td>\n",
       "      <td>0.127487</td>\n",
       "      <td>0.024449</td>\n",
       "      <td>0.183696</td>\n",
       "    </tr>\n",
       "    <tr>\n",
       "      <th>thalach</th>\n",
       "      <td>-0.393806</td>\n",
       "      <td>-0.048663</td>\n",
       "      <td>-0.334422</td>\n",
       "      <td>-0.045351</td>\n",
       "      <td>-0.003432</td>\n",
       "      <td>-0.007854</td>\n",
       "      <td>-0.083389</td>\n",
       "      <td>1.000000</td>\n",
       "      <td>-0.378103</td>\n",
       "      <td>-0.343085</td>\n",
       "      <td>-0.385601</td>\n",
       "      <td>-0.263408</td>\n",
       "      <td>-0.278530</td>\n",
       "      <td>-0.415040</td>\n",
       "    </tr>\n",
       "    <tr>\n",
       "      <th>exang</th>\n",
       "      <td>0.091661</td>\n",
       "      <td>0.146201</td>\n",
       "      <td>0.384060</td>\n",
       "      <td>0.064762</td>\n",
       "      <td>0.061310</td>\n",
       "      <td>0.025665</td>\n",
       "      <td>0.084867</td>\n",
       "      <td>-0.378103</td>\n",
       "      <td>1.000000</td>\n",
       "      <td>0.288223</td>\n",
       "      <td>0.257748</td>\n",
       "      <td>0.144722</td>\n",
       "      <td>0.328291</td>\n",
       "      <td>0.397057</td>\n",
       "    </tr>\n",
       "    <tr>\n",
       "      <th>oldpeak</th>\n",
       "      <td>0.203805</td>\n",
       "      <td>0.102173</td>\n",
       "      <td>0.202277</td>\n",
       "      <td>0.189171</td>\n",
       "      <td>0.046564</td>\n",
       "      <td>0.005747</td>\n",
       "      <td>0.114133</td>\n",
       "      <td>-0.343085</td>\n",
       "      <td>0.288223</td>\n",
       "      <td>1.000000</td>\n",
       "      <td>0.577537</td>\n",
       "      <td>0.294558</td>\n",
       "      <td>0.340549</td>\n",
       "      <td>0.504092</td>\n",
       "    </tr>\n",
       "    <tr>\n",
       "      <th>slope</th>\n",
       "      <td>0.161770</td>\n",
       "      <td>0.037533</td>\n",
       "      <td>0.152050</td>\n",
       "      <td>0.117382</td>\n",
       "      <td>-0.004062</td>\n",
       "      <td>0.059894</td>\n",
       "      <td>0.133946</td>\n",
       "      <td>-0.385601</td>\n",
       "      <td>0.257748</td>\n",
       "      <td>0.577537</td>\n",
       "      <td>1.000000</td>\n",
       "      <td>0.109618</td>\n",
       "      <td>0.286580</td>\n",
       "      <td>0.377957</td>\n",
       "    </tr>\n",
       "    <tr>\n",
       "      <th>ca</th>\n",
       "      <td>0.359489</td>\n",
       "      <td>0.092891</td>\n",
       "      <td>0.232332</td>\n",
       "      <td>0.098707</td>\n",
       "      <td>0.118525</td>\n",
       "      <td>0.143967</td>\n",
       "      <td>0.127487</td>\n",
       "      <td>-0.263408</td>\n",
       "      <td>0.144722</td>\n",
       "      <td>0.294558</td>\n",
       "      <td>0.109618</td>\n",
       "      <td>1.000000</td>\n",
       "      <td>0.254075</td>\n",
       "      <td>0.517390</td>\n",
       "    </tr>\n",
       "    <tr>\n",
       "      <th>thal</th>\n",
       "      <td>0.127368</td>\n",
       "      <td>0.379300</td>\n",
       "      <td>0.264895</td>\n",
       "      <td>0.133534</td>\n",
       "      <td>0.014190</td>\n",
       "      <td>0.070658</td>\n",
       "      <td>0.024449</td>\n",
       "      <td>-0.278530</td>\n",
       "      <td>0.328291</td>\n",
       "      <td>0.340549</td>\n",
       "      <td>0.286580</td>\n",
       "      <td>0.254075</td>\n",
       "      <td>1.000000</td>\n",
       "      <td>0.508799</td>\n",
       "    </tr>\n",
       "    <tr>\n",
       "      <th>num</th>\n",
       "      <td>0.222853</td>\n",
       "      <td>0.224469</td>\n",
       "      <td>0.407075</td>\n",
       "      <td>0.157754</td>\n",
       "      <td>0.070909</td>\n",
       "      <td>0.059186</td>\n",
       "      <td>0.183696</td>\n",
       "      <td>-0.415040</td>\n",
       "      <td>0.397057</td>\n",
       "      <td>0.504092</td>\n",
       "      <td>0.377957</td>\n",
       "      <td>0.517390</td>\n",
       "      <td>0.508799</td>\n",
       "      <td>1.000000</td>\n",
       "    </tr>\n",
       "  </tbody>\n",
       "</table>\n",
       "</div>"
      ],
      "text/plain": [
       "               Age       Sex        cp  trestbps      chol       fbs  \\\n",
       "Age       1.000000 -0.097542  0.104139  0.284946  0.208950  0.118530   \n",
       "Sex      -0.097542  1.000000  0.010084 -0.064456 -0.199915  0.047862   \n",
       "cp        0.104139  0.010084  1.000000 -0.036077  0.072319 -0.039975   \n",
       "trestbps  0.284946 -0.064456 -0.036077  1.000000  0.130120  0.175340   \n",
       "chol      0.208950 -0.199915  0.072319  0.130120  1.000000  0.009841   \n",
       "fbs       0.118530  0.047862 -0.039975  0.175340  0.009841  1.000000   \n",
       "rest_ecg  0.148868  0.021647  0.067505  0.146560  0.171043  0.069564   \n",
       "thalach  -0.393806 -0.048663 -0.334422 -0.045351 -0.003432 -0.007854   \n",
       "exang     0.091661  0.146201  0.384060  0.064762  0.061310  0.025665   \n",
       "oldpeak   0.203805  0.102173  0.202277  0.189171  0.046564  0.005747   \n",
       "slope     0.161770  0.037533  0.152050  0.117382 -0.004062  0.059894   \n",
       "ca        0.359489  0.092891  0.232332  0.098707  0.118525  0.143967   \n",
       "thal      0.127368  0.379300  0.264895  0.133534  0.014190  0.070658   \n",
       "num       0.222853  0.224469  0.407075  0.157754  0.070909  0.059186   \n",
       "\n",
       "          rest_ecg   thalach     exang   oldpeak     slope        ca  \\\n",
       "Age       0.148868 -0.393806  0.091661  0.203805  0.161770  0.359489   \n",
       "Sex       0.021647 -0.048663  0.146201  0.102173  0.037533  0.092891   \n",
       "cp        0.067505 -0.334422  0.384060  0.202277  0.152050  0.232332   \n",
       "trestbps  0.146560 -0.045351  0.064762  0.189171  0.117382  0.098707   \n",
       "chol      0.171043 -0.003432  0.061310  0.046564 -0.004062  0.118525   \n",
       "fbs       0.069564 -0.007854  0.025665  0.005747  0.059894  0.143967   \n",
       "rest_ecg  1.000000 -0.083389  0.084867  0.114133  0.133946  0.127487   \n",
       "thalach  -0.083389  1.000000 -0.378103 -0.343085 -0.385601 -0.263408   \n",
       "exang     0.084867 -0.378103  1.000000  0.288223  0.257748  0.144722   \n",
       "oldpeak   0.114133 -0.343085  0.288223  1.000000  0.577537  0.294558   \n",
       "slope     0.133946 -0.385601  0.257748  0.577537  1.000000  0.109618   \n",
       "ca        0.127487 -0.263408  0.144722  0.294558  0.109618  1.000000   \n",
       "thal      0.024449 -0.278530  0.328291  0.340549  0.286580  0.254075   \n",
       "num       0.183696 -0.415040  0.397057  0.504092  0.377957  0.517390   \n",
       "\n",
       "              thal       num  \n",
       "Age       0.127368  0.222853  \n",
       "Sex       0.379300  0.224469  \n",
       "cp        0.264895  0.407075  \n",
       "trestbps  0.133534  0.157754  \n",
       "chol      0.014190  0.070909  \n",
       "fbs       0.070658  0.059186  \n",
       "rest_ecg  0.024449  0.183696  \n",
       "thalach  -0.278530 -0.415040  \n",
       "exang     0.328291  0.397057  \n",
       "oldpeak   0.340549  0.504092  \n",
       "slope     0.286580  0.377957  \n",
       "ca        0.254075  0.517390  \n",
       "thal      1.000000  0.508799  \n",
       "num       0.508799  1.000000  "
      ]
     },
     "execution_count": 7,
     "metadata": {},
     "output_type": "execute_result"
    }
   ],
   "source": [
    "# Correlation\n",
    "\n",
    "df.corr()"
   ]
  },
  {
   "cell_type": "code",
   "execution_count": 8,
   "metadata": {},
   "outputs": [
    {
     "data": {
      "image/png": "[encoded data removed]",
      "text/plain": [
       "<Figure size 1008x576 with 2 Axes>"
      ]
     },
     "metadata": {
      "needs_background": "light"
     },
     "output_type": "display_data"
    }
   ],
   "source": [
    "# Visualizing correlation\n",
    "\n",
    "import seaborn as sns\n",
    "import matplotlib.pyplot as plt\n",
    "plt.figure(figsize=(14,8))\n",
    "plt.title(\"Correlation\")\n",
    "sns.heatmap(df.corr(),annot=True,cmap='Reds')\n",
    "plt.show()"
   ]
  },
  {
   "cell_type": "raw",
   "metadata": {},
   "source": [
    "The target variable num has positive correlation with most of the independent variables and has significant negative correlation with rest_ecg."
   ]
  },
  {
   "cell_type": "code",
   "execution_count": 9,
   "metadata": {},
   "outputs": [
    {
     "data": {
      "text/html": [
       "<div>\n",
       "<style scoped>\n",
       "    .dataframe tbody tr th:only-of-type {\n",
       "        vertical-align: middle;\n",
       "    }\n",
       "\n",
       "    .dataframe tbody tr th {\n",
       "        vertical-align: top;\n",
       "    }\n",
       "\n",
       "    .dataframe thead th {\n",
       "        text-align: right;\n",
       "    }\n",
       "</style>\n",
       "<table border=\"1\" class=\"dataframe\">\n",
       "  <thead>\n",
       "    <tr style=\"text-align: right;\">\n",
       "      <th></th>\n",
       "      <th>Age</th>\n",
       "      <th>Sex</th>\n",
       "      <th>cp</th>\n",
       "      <th>trestbps</th>\n",
       "      <th>chol</th>\n",
       "      <th>fbs</th>\n",
       "      <th>rest_ecg</th>\n",
       "      <th>exang</th>\n",
       "      <th>oldpeak</th>\n",
       "      <th>slope</th>\n",
       "      <th>ca</th>\n",
       "      <th>thal</th>\n",
       "      <th>num</th>\n",
       "    </tr>\n",
       "  </thead>\n",
       "  <tbody>\n",
       "    <tr>\n",
       "      <th>0</th>\n",
       "      <td>63.0</td>\n",
       "      <td>1.0</td>\n",
       "      <td>1.0</td>\n",
       "      <td>145.0</td>\n",
       "      <td>233.0</td>\n",
       "      <td>1.0</td>\n",
       "      <td>2.0</td>\n",
       "      <td>0.0</td>\n",
       "      <td>2.3</td>\n",
       "      <td>3.0</td>\n",
       "      <td>0.0</td>\n",
       "      <td>6.0</td>\n",
       "      <td>0</td>\n",
       "    </tr>\n",
       "    <tr>\n",
       "      <th>1</th>\n",
       "      <td>67.0</td>\n",
       "      <td>1.0</td>\n",
       "      <td>4.0</td>\n",
       "      <td>160.0</td>\n",
       "      <td>286.0</td>\n",
       "      <td>0.0</td>\n",
       "      <td>2.0</td>\n",
       "      <td>1.0</td>\n",
       "      <td>1.5</td>\n",
       "      <td>2.0</td>\n",
       "      <td>3.0</td>\n",
       "      <td>3.0</td>\n",
       "      <td>2</td>\n",
       "    </tr>\n",
       "    <tr>\n",
       "      <th>2</th>\n",
       "      <td>67.0</td>\n",
       "      <td>1.0</td>\n",
       "      <td>4.0</td>\n",
       "      <td>120.0</td>\n",
       "      <td>229.0</td>\n",
       "      <td>0.0</td>\n",
       "      <td>2.0</td>\n",
       "      <td>1.0</td>\n",
       "      <td>2.6</td>\n",
       "      <td>2.0</td>\n",
       "      <td>2.0</td>\n",
       "      <td>7.0</td>\n",
       "      <td>1</td>\n",
       "    </tr>\n",
       "    <tr>\n",
       "      <th>3</th>\n",
       "      <td>37.0</td>\n",
       "      <td>1.0</td>\n",
       "      <td>3.0</td>\n",
       "      <td>130.0</td>\n",
       "      <td>250.0</td>\n",
       "      <td>0.0</td>\n",
       "      <td>0.0</td>\n",
       "      <td>0.0</td>\n",
       "      <td>3.5</td>\n",
       "      <td>3.0</td>\n",
       "      <td>0.0</td>\n",
       "      <td>3.0</td>\n",
       "      <td>0</td>\n",
       "    </tr>\n",
       "    <tr>\n",
       "      <th>4</th>\n",
       "      <td>41.0</td>\n",
       "      <td>0.0</td>\n",
       "      <td>2.0</td>\n",
       "      <td>130.0</td>\n",
       "      <td>204.0</td>\n",
       "      <td>0.0</td>\n",
       "      <td>2.0</td>\n",
       "      <td>0.0</td>\n",
       "      <td>1.4</td>\n",
       "      <td>1.0</td>\n",
       "      <td>0.0</td>\n",
       "      <td>3.0</td>\n",
       "      <td>0</td>\n",
       "    </tr>\n",
       "  </tbody>\n",
       "</table>\n",
       "</div>"
      ],
      "text/plain": [
       "    Age  Sex   cp  trestbps   chol  fbs  rest_ecg  exang  oldpeak  slope   ca  \\\n",
       "0  63.0  1.0  1.0     145.0  233.0  1.0       2.0    0.0      2.3    3.0  0.0   \n",
       "1  67.0  1.0  4.0     160.0  286.0  0.0       2.0    1.0      1.5    2.0  3.0   \n",
       "2  67.0  1.0  4.0     120.0  229.0  0.0       2.0    1.0      2.6    2.0  2.0   \n",
       "3  37.0  1.0  3.0     130.0  250.0  0.0       0.0    0.0      3.5    3.0  0.0   \n",
       "4  41.0  0.0  2.0     130.0  204.0  0.0       2.0    0.0      1.4    1.0  0.0   \n",
       "\n",
       "   thal  num  \n",
       "0   6.0    0  \n",
       "1   3.0    2  \n",
       "2   7.0    1  \n",
       "3   3.0    0  \n",
       "4   3.0    0  "
      ]
     },
     "execution_count": 9,
     "metadata": {},
     "output_type": "execute_result"
    }
   ],
   "source": [
    "# dropping significantly negatively correlated column - thalach\n",
    "\n",
    "df.drop(\"thalach\",axis=1,inplace=True)\n",
    "df.head()"
   ]
  },
  {
   "cell_type": "code",
   "execution_count": 10,
   "metadata": {},
   "outputs": [
    {
     "data": {
      "image/png": "[encoded data removed]",
      "text/plain": [
       "<Figure size 432x288 with 1 Axes>"
      ]
     },
     "metadata": {
      "needs_background": "light"
     },
     "output_type": "display_data"
    }
   ],
   "source": [
    "# Univariate analysis of target\n",
    "\n",
    "sns.countplot(df['num'])\n",
    "plt.show()"
   ]
  },
  {
   "cell_type": "raw",
   "metadata": {},
   "source": [
    "Maximum cases are of class 1 with minimum being class 4."
   ]
  },
  {
   "cell_type": "code",
   "execution_count": 11,
   "metadata": {},
   "outputs": [
    {
     "data": {
      "image/png": "[encoded data removed]",
      "text/plain": [
       "<Figure size 432x288 with 1 Axes>"
      ]
     },
     "metadata": {
      "needs_background": "light"
     },
     "output_type": "display_data"
    }
   ],
   "source": [
    "# Bivariate analysis\n",
    "\n",
    "sns.barplot(df[\"cp\"],df[\"num\"])\n",
    "plt.show()"
   ]
  },
  {
   "cell_type": "raw",
   "metadata": {},
   "source": [
    "cp 4.0 corresponds to maximum num."
   ]
  },
  {
   "cell_type": "code",
   "execution_count": 12,
   "metadata": {},
   "outputs": [
    {
     "data": {
      "image/png": "[encoded data removed]",
      "text/plain": [
       "<Figure size 432x288 with 1 Axes>"
      ]
     },
     "metadata": {
      "needs_background": "light"
     },
     "output_type": "display_data"
    }
   ],
   "source": [
    "sns.lineplot(df[\"oldpeak\"],df[\"num\"])\n",
    "plt.show()"
   ]
  },
  {
   "cell_type": "raw",
   "metadata": {},
   "source": [
    "Similar interpretation as above - increasing trend. "
   ]
  },
  {
   "cell_type": "code",
   "execution_count": 13,
   "metadata": {},
   "outputs": [
    {
     "data": {
      "image/png": "[encoded data removed]",
      "text/plain": [
       "<Figure size 432x288 with 1 Axes>"
      ]
     },
     "metadata": {
      "needs_background": "light"
     },
     "output_type": "display_data"
    }
   ],
   "source": [
    "sns.barplot(df[\"Sex\"],df[\"num\"])\n",
    "plt.show()"
   ]
  },
  {
   "cell_type": "raw",
   "metadata": {},
   "source": [
    "Class 1 in sex corresponds with higher heart diesease cases."
   ]
  },
  {
   "cell_type": "code",
   "execution_count": 14,
   "metadata": {},
   "outputs": [
    {
     "data": {
      "image/png": "[encoded data removed]",
      "text/plain": [
       "<Figure size 432x288 with 1 Axes>"
      ]
     },
     "metadata": {
      "needs_background": "light"
     },
     "output_type": "display_data"
    }
   ],
   "source": [
    "sns.regplot(df[\"Age\"],df[\"num\"])\n",
    "plt.show()"
   ]
  },
  {
   "cell_type": "raw",
   "metadata": {},
   "source": [
    "There is a slight increasing trent => as age increases the risk of heart disease also increases."
   ]
  },
  {
   "cell_type": "code",
   "execution_count": 15,
   "metadata": {},
   "outputs": [
    {
     "data": {
      "image/png": "[encoded data removed]",
      "text/plain": [
       "<Figure size 1152x4680 with 13 Axes>"
      ]
     },
     "metadata": {
      "needs_background": "light"
     },
     "output_type": "display_data"
    }
   ],
   "source": [
    "# Checking for outliers using boxplot\n",
    "\n",
    "collist = df.columns.values\n",
    "ncol = 13\n",
    "nrows = 5\n",
    "\n",
    "plt.figure(figsize=(16,5*ncol))\n",
    "for i in range(len(collist)):\n",
    "    plt.subplot(nrows,ncol,i+1)\n",
    "    sns.boxplot(df[collist[i]],orient = \"v\")\n",
    "    plt.tight_layout()"
   ]
  },
  {
   "cell_type": "code",
   "execution_count": 16,
   "metadata": {},
   "outputs": [
    {
     "data": {
      "text/html": [
       "<div>\n",
       "<style scoped>\n",
       "    .dataframe tbody tr th:only-of-type {\n",
       "        vertical-align: middle;\n",
       "    }\n",
       "\n",
       "    .dataframe tbody tr th {\n",
       "        vertical-align: top;\n",
       "    }\n",
       "\n",
       "    .dataframe thead th {\n",
       "        text-align: right;\n",
       "    }\n",
       "</style>\n",
       "<table border=\"1\" class=\"dataframe\">\n",
       "  <thead>\n",
       "    <tr style=\"text-align: right;\">\n",
       "      <th></th>\n",
       "      <th>Age</th>\n",
       "      <th>Sex</th>\n",
       "      <th>cp</th>\n",
       "      <th>trestbps</th>\n",
       "      <th>chol</th>\n",
       "      <th>fbs</th>\n",
       "      <th>rest_ecg</th>\n",
       "      <th>exang</th>\n",
       "      <th>oldpeak</th>\n",
       "      <th>slope</th>\n",
       "      <th>ca</th>\n",
       "      <th>thal</th>\n",
       "      <th>num</th>\n",
       "    </tr>\n",
       "  </thead>\n",
       "  <tbody>\n",
       "    <tr>\n",
       "      <th>0</th>\n",
       "      <td>63.0</td>\n",
       "      <td>1.0</td>\n",
       "      <td>1.0</td>\n",
       "      <td>145.0</td>\n",
       "      <td>233.0</td>\n",
       "      <td>1.0</td>\n",
       "      <td>2.0</td>\n",
       "      <td>0.0</td>\n",
       "      <td>2.3</td>\n",
       "      <td>3.0</td>\n",
       "      <td>0.0</td>\n",
       "      <td>6.0</td>\n",
       "      <td>0</td>\n",
       "    </tr>\n",
       "    <tr>\n",
       "      <th>1</th>\n",
       "      <td>67.0</td>\n",
       "      <td>1.0</td>\n",
       "      <td>4.0</td>\n",
       "      <td>160.0</td>\n",
       "      <td>286.0</td>\n",
       "      <td>0.0</td>\n",
       "      <td>2.0</td>\n",
       "      <td>1.0</td>\n",
       "      <td>1.5</td>\n",
       "      <td>2.0</td>\n",
       "      <td>3.0</td>\n",
       "      <td>3.0</td>\n",
       "      <td>2</td>\n",
       "    </tr>\n",
       "    <tr>\n",
       "      <th>2</th>\n",
       "      <td>67.0</td>\n",
       "      <td>1.0</td>\n",
       "      <td>4.0</td>\n",
       "      <td>120.0</td>\n",
       "      <td>229.0</td>\n",
       "      <td>0.0</td>\n",
       "      <td>2.0</td>\n",
       "      <td>1.0</td>\n",
       "      <td>2.6</td>\n",
       "      <td>2.0</td>\n",
       "      <td>2.0</td>\n",
       "      <td>7.0</td>\n",
       "      <td>1</td>\n",
       "    </tr>\n",
       "    <tr>\n",
       "      <th>3</th>\n",
       "      <td>37.0</td>\n",
       "      <td>1.0</td>\n",
       "      <td>3.0</td>\n",
       "      <td>130.0</td>\n",
       "      <td>250.0</td>\n",
       "      <td>0.0</td>\n",
       "      <td>0.0</td>\n",
       "      <td>0.0</td>\n",
       "      <td>3.5</td>\n",
       "      <td>3.0</td>\n",
       "      <td>0.0</td>\n",
       "      <td>3.0</td>\n",
       "      <td>0</td>\n",
       "    </tr>\n",
       "    <tr>\n",
       "      <th>4</th>\n",
       "      <td>41.0</td>\n",
       "      <td>0.0</td>\n",
       "      <td>2.0</td>\n",
       "      <td>130.0</td>\n",
       "      <td>204.0</td>\n",
       "      <td>0.0</td>\n",
       "      <td>2.0</td>\n",
       "      <td>0.0</td>\n",
       "      <td>1.4</td>\n",
       "      <td>1.0</td>\n",
       "      <td>0.0</td>\n",
       "      <td>3.0</td>\n",
       "      <td>0</td>\n",
       "    </tr>\n",
       "  </tbody>\n",
       "</table>\n",
       "</div>"
      ],
      "text/plain": [
       "    Age  Sex   cp  trestbps   chol  fbs  rest_ecg  exang  oldpeak  slope   ca  \\\n",
       "0  63.0  1.0  1.0     145.0  233.0  1.0       2.0    0.0      2.3    3.0  0.0   \n",
       "1  67.0  1.0  4.0     160.0  286.0  0.0       2.0    1.0      1.5    2.0  3.0   \n",
       "2  67.0  1.0  4.0     120.0  229.0  0.0       2.0    1.0      2.6    2.0  2.0   \n",
       "3  37.0  1.0  3.0     130.0  250.0  0.0       0.0    0.0      3.5    3.0  0.0   \n",
       "4  41.0  0.0  2.0     130.0  204.0  0.0       2.0    0.0      1.4    1.0  0.0   \n",
       "\n",
       "   thal  num  \n",
       "0   6.0    0  \n",
       "1   3.0    2  \n",
       "2   7.0    1  \n",
       "3   3.0    0  \n",
       "4   3.0    0  "
      ]
     },
     "execution_count": 16,
     "metadata": {},
     "output_type": "execute_result"
    }
   ],
   "source": [
    "# Removing outliers\n",
    "\n",
    "from scipy.stats import zscore\n",
    "z=np.abs(zscore(df))\n",
    "df_new=df[(z<3).all(axis=1)]\n",
    "df_new.head()"
   ]
  },
  {
   "cell_type": "code",
   "execution_count": 17,
   "metadata": {},
   "outputs": [
    {
     "data": {
      "text/plain": [
       "(303, 13)"
      ]
     },
     "execution_count": 17,
     "metadata": {},
     "output_type": "execute_result"
    }
   ],
   "source": [
    "df.shape"
   ]
  },
  {
   "cell_type": "code",
   "execution_count": 18,
   "metadata": {},
   "outputs": [
    {
     "data": {
      "text/plain": [
       "(295, 13)"
      ]
     },
     "execution_count": 18,
     "metadata": {},
     "output_type": "execute_result"
    }
   ],
   "source": [
    "df_new.shape"
   ]
  },
  {
   "cell_type": "code",
   "execution_count": 19,
   "metadata": {},
   "outputs": [],
   "source": [
    "df = df_new"
   ]
  },
  {
   "cell_type": "code",
   "execution_count": 20,
   "metadata": {},
   "outputs": [
    {
     "data": {
      "text/plain": [
       "Age        -0.182996\n",
       "Sex        -0.833604\n",
       "cp         -0.829778\n",
       "trestbps    0.530284\n",
       "chol        0.262385\n",
       "fbs         2.018036\n",
       "rest_ecg    0.061353\n",
       "exang       0.749018\n",
       "oldpeak     1.014160\n",
       "slope       0.499896\n",
       "ca          1.238591\n",
       "thal        0.293910\n",
       "num         1.104319\n",
       "dtype: float64"
      ]
     },
     "execution_count": 20,
     "metadata": {},
     "output_type": "execute_result"
    }
   ],
   "source": [
    "# Skewness\n",
    "\n",
    "df.skew()"
   ]
  },
  {
   "cell_type": "code",
   "execution_count": 21,
   "metadata": {},
   "outputs": [],
   "source": [
    "for i in df[['fbs','oldpeak','ca']]:\n",
    "    df[i]=np.log(df[i]+1)"
   ]
  },
  {
   "cell_type": "code",
   "execution_count": 22,
   "metadata": {},
   "outputs": [
    {
     "name": "stdout",
     "output_type": "stream",
     "text": [
      "    Age  Sex   cp  trestbps   chol       fbs  rest_ecg  exang   oldpeak  \\\n",
      "0  63.0  1.0  1.0     145.0  233.0  0.693147       2.0    0.0  1.193922   \n",
      "1  67.0  1.0  4.0     160.0  286.0  0.000000       2.0    1.0  0.916291   \n",
      "2  67.0  1.0  4.0     120.0  229.0  0.000000       2.0    1.0  1.280934   \n",
      "3  37.0  1.0  3.0     130.0  250.0  0.000000       0.0    0.0  1.504077   \n",
      "4  41.0  0.0  2.0     130.0  204.0  0.000000       2.0    0.0  0.875469   \n",
      "\n",
      "   slope        ca  thal  \n",
      "0    3.0  0.000000   6.0  \n",
      "1    2.0  1.386294   3.0  \n",
      "2    2.0  1.098612   7.0  \n",
      "3    3.0  0.000000   3.0  \n",
      "4    1.0  0.000000   3.0  \n",
      "\n",
      "\n",
      "   num\n",
      "0    0\n",
      "1    2\n",
      "2    1\n",
      "3    0\n",
      "4    0\n"
     ]
    }
   ],
   "source": [
    "# Splitting independent variables and target\n",
    "\n",
    "x = df.drop('num',axis=1)\n",
    "print(x.head())\n",
    "y = df[['num']]\n",
    "print(\"\\n\")\n",
    "print(y.head())"
   ]
  },
  {
   "cell_type": "code",
   "execution_count": 23,
   "metadata": {},
   "outputs": [
    {
     "data": {
      "text/html": [
       "<div>\n",
       "<style scoped>\n",
       "    .dataframe tbody tr th:only-of-type {\n",
       "        vertical-align: middle;\n",
       "    }\n",
       "\n",
       "    .dataframe tbody tr th {\n",
       "        vertical-align: top;\n",
       "    }\n",
       "\n",
       "    .dataframe thead th {\n",
       "        text-align: right;\n",
       "    }\n",
       "</style>\n",
       "<table border=\"1\" class=\"dataframe\">\n",
       "  <thead>\n",
       "    <tr style=\"text-align: right;\">\n",
       "      <th></th>\n",
       "      <th>0</th>\n",
       "      <th>1</th>\n",
       "      <th>2</th>\n",
       "      <th>3</th>\n",
       "      <th>4</th>\n",
       "      <th>5</th>\n",
       "      <th>6</th>\n",
       "      <th>7</th>\n",
       "      <th>8</th>\n",
       "      <th>9</th>\n",
       "      <th>10</th>\n",
       "      <th>11</th>\n",
       "    </tr>\n",
       "  </thead>\n",
       "  <tbody>\n",
       "    <tr>\n",
       "      <th>0</th>\n",
       "      <td>0.959901</td>\n",
       "      <td>0.667891</td>\n",
       "      <td>-2.232284</td>\n",
       "      <td>0.826526</td>\n",
       "      <td>-0.242306</td>\n",
       "      <td>2.42084</td>\n",
       "      <td>1.038057</td>\n",
       "      <td>-0.694559</td>\n",
       "      <td>1.260672</td>\n",
       "      <td>2.341145</td>\n",
       "      <td>-0.777229</td>\n",
       "      <td>0.683689</td>\n",
       "    </tr>\n",
       "    <tr>\n",
       "      <th>1</th>\n",
       "      <td>1.400978</td>\n",
       "      <td>0.667891</td>\n",
       "      <td>0.883759</td>\n",
       "      <td>1.717699</td>\n",
       "      <td>0.918374</td>\n",
       "      <td>-0.41308</td>\n",
       "      <td>1.038057</td>\n",
       "      <td>1.439763</td>\n",
       "      <td>0.714955</td>\n",
       "      <td>0.684939</td>\n",
       "      <td>2.106361</td>\n",
       "      <td>-0.877642</td>\n",
       "    </tr>\n",
       "    <tr>\n",
       "      <th>2</th>\n",
       "      <td>1.400978</td>\n",
       "      <td>0.667891</td>\n",
       "      <td>0.883759</td>\n",
       "      <td>-0.658763</td>\n",
       "      <td>-0.329905</td>\n",
       "      <td>-0.41308</td>\n",
       "      <td>1.038057</td>\n",
       "      <td>1.439763</td>\n",
       "      <td>1.431703</td>\n",
       "      <td>0.684939</td>\n",
       "      <td>1.507962</td>\n",
       "      <td>1.204133</td>\n",
       "    </tr>\n",
       "    <tr>\n",
       "      <th>3</th>\n",
       "      <td>-1.907094</td>\n",
       "      <td>0.667891</td>\n",
       "      <td>-0.154922</td>\n",
       "      <td>-0.064648</td>\n",
       "      <td>0.129987</td>\n",
       "      <td>-0.41308</td>\n",
       "      <td>-0.976593</td>\n",
       "      <td>-0.694559</td>\n",
       "      <td>1.870317</td>\n",
       "      <td>2.341145</td>\n",
       "      <td>-0.777229</td>\n",
       "      <td>-0.877642</td>\n",
       "    </tr>\n",
       "    <tr>\n",
       "      <th>4</th>\n",
       "      <td>-1.466018</td>\n",
       "      <td>-1.497250</td>\n",
       "      <td>-1.193603</td>\n",
       "      <td>-0.064648</td>\n",
       "      <td>-0.877396</td>\n",
       "      <td>-0.41308</td>\n",
       "      <td>1.038057</td>\n",
       "      <td>-0.694559</td>\n",
       "      <td>0.634715</td>\n",
       "      <td>-0.971267</td>\n",
       "      <td>-0.777229</td>\n",
       "      <td>-0.877642</td>\n",
       "    </tr>\n",
       "  </tbody>\n",
       "</table>\n",
       "</div>"
      ],
      "text/plain": [
       "          0         1         2         3         4        5         6  \\\n",
       "0  0.959901  0.667891 -2.232284  0.826526 -0.242306  2.42084  1.038057   \n",
       "1  1.400978  0.667891  0.883759  1.717699  0.918374 -0.41308  1.038057   \n",
       "2  1.400978  0.667891  0.883759 -0.658763 -0.329905 -0.41308  1.038057   \n",
       "3 -1.907094  0.667891 -0.154922 -0.064648  0.129987 -0.41308 -0.976593   \n",
       "4 -1.466018 -1.497250 -1.193603 -0.064648 -0.877396 -0.41308  1.038057   \n",
       "\n",
       "          7         8         9        10        11  \n",
       "0 -0.694559  1.260672  2.341145 -0.777229  0.683689  \n",
       "1  1.439763  0.714955  0.684939  2.106361 -0.877642  \n",
       "2  1.439763  1.431703  0.684939  1.507962  1.204133  \n",
       "3 -0.694559  1.870317  2.341145 -0.777229 -0.877642  \n",
       "4 -0.694559  0.634715 -0.971267 -0.777229 -0.877642  "
      ]
     },
     "execution_count": 23,
     "metadata": {},
     "output_type": "execute_result"
    }
   ],
   "source": [
    "# Using Standard scaler for uniform range in all columns\n",
    "\n",
    "from sklearn.preprocessing import StandardScaler\n",
    "\n",
    "sc = StandardScaler()\n",
    "x = sc.fit_transform(x)\n",
    "x = pd.DataFrame(x)\n",
    "x.head()"
   ]
  },
  {
   "cell_type": "code",
   "execution_count": 24,
   "metadata": {},
   "outputs": [],
   "source": [
    "# Splitting into training and testing data\n",
    "\n",
    "from sklearn.model_selection import train_test_split\n",
    "from sklearn.metrics import accuracy_score,classification_report,confusion_matrix"
   ]
  },
  {
   "cell_type": "code",
   "execution_count": 25,
   "metadata": {},
   "outputs": [],
   "source": [
    "x_train,x_test,y_train,y_test=train_test_split(x,y,test_size=0.20,random_state=10)"
   ]
  },
  {
   "cell_type": "code",
   "execution_count": 26,
   "metadata": {},
   "outputs": [],
   "source": [
    "from sklearn.neighbors import KNeighborsClassifier\n",
    "from sklearn.naive_bayes import GaussianNB\n",
    "from sklearn.svm import SVC\n",
    "from sklearn.tree import DecisionTreeClassifier"
   ]
  },
  {
   "cell_type": "code",
   "execution_count": 27,
   "metadata": {},
   "outputs": [
    {
     "name": "stdout",
     "output_type": "stream",
     "text": [
      "0.6101694915254238\n",
      "accuracy score of GaussianNB() is\n",
      "0.5932203389830508\n",
      "[[34  1  4  0  0]\n",
      " [ 4  0  1  1  0]\n",
      " [ 0  1  0  4  0]\n",
      " [ 0  1  4  1  0]\n",
      " [ 0  1  0  2  0]]\n",
      "              precision    recall  f1-score   support\n",
      "\n",
      "           0       0.89      0.87      0.88        39\n",
      "           1       0.00      0.00      0.00         6\n",
      "           2       0.00      0.00      0.00         5\n",
      "           3       0.12      0.17      0.14         6\n",
      "           4       0.00      0.00      0.00         3\n",
      "\n",
      "    accuracy                           0.59        59\n",
      "   macro avg       0.20      0.21      0.21        59\n",
      "weighted avg       0.60      0.59      0.60        59\n",
      "\n",
      "\n",
      "\n",
      "0.7415254237288136\n",
      "accuracy score of SVC() is\n",
      "0.6610169491525424\n",
      "[[37  1  1  0  0]\n",
      " [ 4  2  0  0  0]\n",
      " [ 1  4  0  0  0]\n",
      " [ 0  4  2  0  0]\n",
      " [ 1  2  0  0  0]]\n",
      "              precision    recall  f1-score   support\n",
      "\n",
      "           0       0.86      0.95      0.90        39\n",
      "           1       0.15      0.33      0.21         6\n",
      "           2       0.00      0.00      0.00         5\n",
      "           3       0.00      0.00      0.00         6\n",
      "           4       0.00      0.00      0.00         3\n",
      "\n",
      "    accuracy                           0.66        59\n",
      "   macro avg       0.20      0.26      0.22        59\n",
      "weighted avg       0.58      0.66      0.62        59\n",
      "\n",
      "\n",
      "\n",
      "1.0\n",
      "accuracy score of DecisionTreeClassifier() is\n",
      "0.6271186440677966\n",
      "[[30  6  2  1  0]\n",
      " [ 3  3  0  0  0]\n",
      " [ 0  3  2  0  0]\n",
      " [ 0  3  1  2  0]\n",
      " [ 0  1  0  2  0]]\n",
      "              precision    recall  f1-score   support\n",
      "\n",
      "           0       0.91      0.77      0.83        39\n",
      "           1       0.19      0.50      0.27         6\n",
      "           2       0.40      0.40      0.40         5\n",
      "           3       0.40      0.33      0.36         6\n",
      "           4       0.00      0.00      0.00         3\n",
      "\n",
      "    accuracy                           0.63        59\n",
      "   macro avg       0.38      0.40      0.37        59\n",
      "weighted avg       0.69      0.63      0.65        59\n",
      "\n",
      "\n",
      "\n",
      "0.6779661016949152\n",
      "accuracy score of KNeighborsClassifier() is\n",
      "0.6271186440677966\n",
      "[[34  3  2  0  0]\n",
      " [ 4  2  0  0  0]\n",
      " [ 1  4  0  0  0]\n",
      " [ 0  1  4  1  0]\n",
      " [ 1  1  0  1  0]]\n",
      "              precision    recall  f1-score   support\n",
      "\n",
      "           0       0.85      0.87      0.86        39\n",
      "           1       0.18      0.33      0.24         6\n",
      "           2       0.00      0.00      0.00         5\n",
      "           3       0.50      0.17      0.25         6\n",
      "           4       0.00      0.00      0.00         3\n",
      "\n",
      "    accuracy                           0.63        59\n",
      "   macro avg       0.31      0.27      0.27        59\n",
      "weighted avg       0.63      0.63      0.62        59\n",
      "\n",
      "\n",
      "\n"
     ]
    }
   ],
   "source": [
    "model = [GaussianNB(),SVC(),DecisionTreeClassifier(),KNeighborsClassifier()]\n",
    "\n",
    "for m in model:\n",
    "    m.fit(x_train,y_train)\n",
    "    print(m.score(x_train,y_train))\n",
    "    predm=m.predict(x_test)\n",
    "    print(\"accuracy score of\", m,\"is\")\n",
    "    print(accuracy_score(y_test,predm))\n",
    "    print(confusion_matrix(y_test,predm))\n",
    "    print(classification_report(y_test,predm))\n",
    "    print(\"\\n\")"
   ]
  },
  {
   "cell_type": "code",
   "execution_count": 28,
   "metadata": {},
   "outputs": [
    {
     "data": {
      "text/plain": [
       "{'gamma': 'scale', 'kernel': 'rbf', 'random_state': 0}"
      ]
     },
     "execution_count": 28,
     "metadata": {},
     "output_type": "execute_result"
    }
   ],
   "source": [
    "# Gridsearch cv on SVC\n",
    "\n",
    "from sklearn.model_selection import GridSearchCV\n",
    "\n",
    "svc = SVC()\n",
    "p = {'kernel':['linear', 'poly', 'rbf'], 'gamma':['scale','auto'],'random_state':range(0,100)}\n",
    "a = GridSearchCV(svc,p)\n",
    "a.fit(x,y)\n",
    "a.best_params_"
   ]
  },
  {
   "cell_type": "code",
   "execution_count": 29,
   "metadata": {},
   "outputs": [
    {
     "name": "stdout",
     "output_type": "stream",
     "text": [
      "0.7415254237288136\n",
      "Accuracy score of SVC(random_state=0) is\n",
      "0.6610169491525424\n",
      "[[37  1  1  0  0]\n",
      " [ 4  2  0  0  0]\n",
      " [ 1  4  0  0  0]\n",
      " [ 0  4  2  0  0]\n",
      " [ 1  2  0  0  0]]\n",
      "              precision    recall  f1-score   support\n",
      "\n",
      "           0       0.86      0.95      0.90        39\n",
      "           1       0.15      0.33      0.21         6\n",
      "           2       0.00      0.00      0.00         5\n",
      "           3       0.00      0.00      0.00         6\n",
      "           4       0.00      0.00      0.00         3\n",
      "\n",
      "    accuracy                           0.66        59\n",
      "   macro avg       0.20      0.26      0.22        59\n",
      "weighted avg       0.58      0.66      0.62        59\n",
      "\n"
     ]
    }
   ],
   "source": [
    "# SVC after hyperparameter tuning\n",
    "\n",
    "svc = SVC(random_state=0) #gamma=scale and kernel = rbf are default\n",
    "svc.fit(x_train,y_train)\n",
    "print(svc.score(x_train,y_train))\n",
    "pred=svc.predict(x_test)\n",
    "print(\"Accuracy score of\", svc ,\"is\")\n",
    "print(accuracy_score(y_test,pred))\n",
    "print(confusion_matrix(y_test,pred))\n",
    "print(classification_report(y_test,pred))\n",
    "# Svc after hyperparameter tuning has higher accuracy score than gaussianNB, so we continue with this model"
   ]
  },
  {
   "cell_type": "code",
   "execution_count": 30,
   "metadata": {},
   "outputs": [
    {
     "name": "stdout",
     "output_type": "stream",
     "text": [
      "Cross_val_score for SVC(random_state=0) is  0.5928070175438598\n"
     ]
    }
   ],
   "source": [
    "# cross_val_score\n",
    "\n",
    "from sklearn.model_selection import cross_val_score\n",
    "\n",
    "print(\"Cross_val_score for\",svc ,'is ',cross_val_score(svc,x,y,cv=15).mean())"
   ]
  },
  {
   "cell_type": "code",
   "execution_count": 31,
   "metadata": {},
   "outputs": [
    {
     "name": "stdout",
     "output_type": "stream",
     "text": [
      "1.0\n",
      "Accuracy score of RandomForestClassifier() is\n",
      "0.6271186440677966\n",
      "[[34  2  3  0  0]\n",
      " [ 4  1  0  1  0]\n",
      " [ 0  4  1  0  0]\n",
      " [ 1  1  2  1  1]\n",
      " [ 0  3  0  0  0]]\n",
      "              precision    recall  f1-score   support\n",
      "\n",
      "           0       0.87      0.87      0.87        39\n",
      "           1       0.09      0.17      0.12         6\n",
      "           2       0.17      0.20      0.18         5\n",
      "           3       0.50      0.17      0.25         6\n",
      "           4       0.00      0.00      0.00         3\n",
      "\n",
      "    accuracy                           0.63        59\n",
      "   macro avg       0.33      0.28      0.28        59\n",
      "weighted avg       0.65      0.63      0.63        59\n",
      "\n"
     ]
    }
   ],
   "source": [
    "from sklearn.ensemble import RandomForestClassifier\n",
    "\n",
    "rf=RandomForestClassifier()\n",
    "rf.fit(x_train,y_train)\n",
    "print(rf.score(x_train,y_train))\n",
    "pred=rf.predict(x_test)\n",
    "print(\"Accuracy score of\", rf ,\"is\")\n",
    "print(accuracy_score(y_test,pred))\n",
    "print(confusion_matrix(y_test,pred))\n",
    "print(classification_report(y_test,pred))"
   ]
  },
  {
   "cell_type": "code",
   "execution_count": 32,
   "metadata": {},
   "outputs": [
    {
     "data": {
      "text/plain": [
       "['svc_cleveland_heart_disease.pkl']"
      ]
     },
     "execution_count": 32,
     "metadata": {},
     "output_type": "execute_result"
    }
   ],
   "source": [
    "# Saving the model\n",
    "\n",
    "import joblib\n",
    "joblib.dump(svc,'svc_cleveland_heart_disease.pkl')"
   ]
  },
  {
   "cell_type": "code",
   "execution_count": null,
   "metadata": {},
   "outputs": [],
   "source": []
  }
 ],
 "metadata": {
  "kernelspec": {
   "display_name": "Python 3",
   "language": "python",
   "name": "python3"
  },
  "language_info": {
   "codemirror_mode": {
    "name": "ipython",
    "version": 3
   },
   "file_extension": ".py",
   "mimetype": "text/x-python",
   "name": "python",
   "nbconvert_exporter": "python",
   "pygments_lexer": "ipython3",
   "version": "3.8.3"
  }
 },
 "nbformat": 4,
 "nbformat_minor": 4
}
