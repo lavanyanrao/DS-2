{
 "cells": [
  {
   "cell_type": "code",
   "execution_count": 1,
   "metadata": {},
   "outputs": [],
   "source": [
    "import pandas as pd\n",
    "import numpy as np\n",
    "import warnings\n",
    "warnings.filterwarnings(\"ignore\")"
   ]
  },
  {
   "cell_type": "code",
   "execution_count": 2,
   "metadata": {},
   "outputs": [
    {
     "data": {
      "text/html": [
       "<div>\n",
       "<style scoped>\n",
       "    .dataframe tbody tr th:only-of-type {\n",
       "        vertical-align: middle;\n",
       "    }\n",
       "\n",
       "    .dataframe tbody tr th {\n",
       "        vertical-align: top;\n",
       "    }\n",
       "\n",
       "    .dataframe thead th {\n",
       "        text-align: right;\n",
       "    }\n",
       "</style>\n",
       "<table border=\"1\" class=\"dataframe\">\n",
       "  <thead>\n",
       "    <tr style=\"text-align: right;\">\n",
       "      <th></th>\n",
       "      <th>Age</th>\n",
       "      <th>Attrition</th>\n",
       "      <th>BusinessTravel</th>\n",
       "      <th>DailyRate</th>\n",
       "      <th>Department</th>\n",
       "      <th>DistanceFromHome</th>\n",
       "      <th>Education</th>\n",
       "      <th>EducationField</th>\n",
       "      <th>EmployeeCount</th>\n",
       "      <th>EmployeeNumber</th>\n",
       "      <th>...</th>\n",
       "      <th>RelationshipSatisfaction</th>\n",
       "      <th>StandardHours</th>\n",
       "      <th>StockOptionLevel</th>\n",
       "      <th>TotalWorkingYears</th>\n",
       "      <th>TrainingTimesLastYear</th>\n",
       "      <th>WorkLifeBalance</th>\n",
       "      <th>YearsAtCompany</th>\n",
       "      <th>YearsInCurrentRole</th>\n",
       "      <th>YearsSinceLastPromotion</th>\n",
       "      <th>YearsWithCurrManager</th>\n",
       "    </tr>\n",
       "  </thead>\n",
       "  <tbody>\n",
       "    <tr>\n",
       "      <th>0</th>\n",
       "      <td>41</td>\n",
       "      <td>Yes</td>\n",
       "      <td>Travel_Rarely</td>\n",
       "      <td>1102</td>\n",
       "      <td>Sales</td>\n",
       "      <td>1</td>\n",
       "      <td>2</td>\n",
       "      <td>Life Sciences</td>\n",
       "      <td>1</td>\n",
       "      <td>1</td>\n",
       "      <td>...</td>\n",
       "      <td>1</td>\n",
       "      <td>80</td>\n",
       "      <td>0</td>\n",
       "      <td>8</td>\n",
       "      <td>0</td>\n",
       "      <td>1</td>\n",
       "      <td>6</td>\n",
       "      <td>4</td>\n",
       "      <td>0</td>\n",
       "      <td>5</td>\n",
       "    </tr>\n",
       "    <tr>\n",
       "      <th>1</th>\n",
       "      <td>49</td>\n",
       "      <td>No</td>\n",
       "      <td>Travel_Frequently</td>\n",
       "      <td>279</td>\n",
       "      <td>Research &amp; Development</td>\n",
       "      <td>8</td>\n",
       "      <td>1</td>\n",
       "      <td>Life Sciences</td>\n",
       "      <td>1</td>\n",
       "      <td>2</td>\n",
       "      <td>...</td>\n",
       "      <td>4</td>\n",
       "      <td>80</td>\n",
       "      <td>1</td>\n",
       "      <td>10</td>\n",
       "      <td>3</td>\n",
       "      <td>3</td>\n",
       "      <td>10</td>\n",
       "      <td>7</td>\n",
       "      <td>1</td>\n",
       "      <td>7</td>\n",
       "    </tr>\n",
       "    <tr>\n",
       "      <th>2</th>\n",
       "      <td>37</td>\n",
       "      <td>Yes</td>\n",
       "      <td>Travel_Rarely</td>\n",
       "      <td>1373</td>\n",
       "      <td>Research &amp; Development</td>\n",
       "      <td>2</td>\n",
       "      <td>2</td>\n",
       "      <td>Other</td>\n",
       "      <td>1</td>\n",
       "      <td>4</td>\n",
       "      <td>...</td>\n",
       "      <td>2</td>\n",
       "      <td>80</td>\n",
       "      <td>0</td>\n",
       "      <td>7</td>\n",
       "      <td>3</td>\n",
       "      <td>3</td>\n",
       "      <td>0</td>\n",
       "      <td>0</td>\n",
       "      <td>0</td>\n",
       "      <td>0</td>\n",
       "    </tr>\n",
       "    <tr>\n",
       "      <th>3</th>\n",
       "      <td>33</td>\n",
       "      <td>No</td>\n",
       "      <td>Travel_Frequently</td>\n",
       "      <td>1392</td>\n",
       "      <td>Research &amp; Development</td>\n",
       "      <td>3</td>\n",
       "      <td>4</td>\n",
       "      <td>Life Sciences</td>\n",
       "      <td>1</td>\n",
       "      <td>5</td>\n",
       "      <td>...</td>\n",
       "      <td>3</td>\n",
       "      <td>80</td>\n",
       "      <td>0</td>\n",
       "      <td>8</td>\n",
       "      <td>3</td>\n",
       "      <td>3</td>\n",
       "      <td>8</td>\n",
       "      <td>7</td>\n",
       "      <td>3</td>\n",
       "      <td>0</td>\n",
       "    </tr>\n",
       "    <tr>\n",
       "      <th>4</th>\n",
       "      <td>27</td>\n",
       "      <td>No</td>\n",
       "      <td>Travel_Rarely</td>\n",
       "      <td>591</td>\n",
       "      <td>Research &amp; Development</td>\n",
       "      <td>2</td>\n",
       "      <td>1</td>\n",
       "      <td>Medical</td>\n",
       "      <td>1</td>\n",
       "      <td>7</td>\n",
       "      <td>...</td>\n",
       "      <td>4</td>\n",
       "      <td>80</td>\n",
       "      <td>1</td>\n",
       "      <td>6</td>\n",
       "      <td>3</td>\n",
       "      <td>3</td>\n",
       "      <td>2</td>\n",
       "      <td>2</td>\n",
       "      <td>2</td>\n",
       "      <td>2</td>\n",
       "    </tr>\n",
       "  </tbody>\n",
       "</table>\n",
       "<p>5 rows × 35 columns</p>\n",
       "</div>"
      ],
      "text/plain": [
       "   Age Attrition     BusinessTravel  DailyRate              Department  \\\n",
       "0   41       Yes      Travel_Rarely       1102                   Sales   \n",
       "1   49        No  Travel_Frequently        279  Research & Development   \n",
       "2   37       Yes      Travel_Rarely       1373  Research & Development   \n",
       "3   33        No  Travel_Frequently       1392  Research & Development   \n",
       "4   27        No      Travel_Rarely        591  Research & Development   \n",
       "\n",
       "   DistanceFromHome  Education EducationField  EmployeeCount  EmployeeNumber  \\\n",
       "0                 1          2  Life Sciences              1               1   \n",
       "1                 8          1  Life Sciences              1               2   \n",
       "2                 2          2          Other              1               4   \n",
       "3                 3          4  Life Sciences              1               5   \n",
       "4                 2          1        Medical              1               7   \n",
       "\n",
       "   ...  RelationshipSatisfaction StandardHours  StockOptionLevel  \\\n",
       "0  ...                         1            80                 0   \n",
       "1  ...                         4            80                 1   \n",
       "2  ...                         2            80                 0   \n",
       "3  ...                         3            80                 0   \n",
       "4  ...                         4            80                 1   \n",
       "\n",
       "   TotalWorkingYears  TrainingTimesLastYear WorkLifeBalance  YearsAtCompany  \\\n",
       "0                  8                      0               1               6   \n",
       "1                 10                      3               3              10   \n",
       "2                  7                      3               3               0   \n",
       "3                  8                      3               3               8   \n",
       "4                  6                      3               3               2   \n",
       "\n",
       "  YearsInCurrentRole  YearsSinceLastPromotion  YearsWithCurrManager  \n",
       "0                  4                        0                     5  \n",
       "1                  7                        1                     7  \n",
       "2                  0                        0                     0  \n",
       "3                  7                        3                     0  \n",
       "4                  2                        2                     2  \n",
       "\n",
       "[5 rows x 35 columns]"
      ]
     },
     "execution_count": 2,
     "metadata": {},
     "output_type": "execute_result"
    }
   ],
   "source": [
    "df = pd.read_csv(\"Hr_analytics.csv\")\n",
    "df.head()"
   ]
  },
  {
   "cell_type": "code",
   "execution_count": 3,
   "metadata": {},
   "outputs": [
    {
     "data": {
      "text/plain": [
       "Age                          int64\n",
       "Attrition                   object\n",
       "BusinessTravel              object\n",
       "DailyRate                    int64\n",
       "Department                  object\n",
       "DistanceFromHome             int64\n",
       "Education                    int64\n",
       "EducationField              object\n",
       "EmployeeCount                int64\n",
       "EmployeeNumber               int64\n",
       "EnvironmentSatisfaction      int64\n",
       "Gender                      object\n",
       "HourlyRate                   int64\n",
       "JobInvolvement               int64\n",
       "JobLevel                     int64\n",
       "JobRole                     object\n",
       "JobSatisfaction              int64\n",
       "MaritalStatus               object\n",
       "MonthlyIncome                int64\n",
       "MonthlyRate                  int64\n",
       "NumCompaniesWorked           int64\n",
       "Over18                      object\n",
       "OverTime                    object\n",
       "PercentSalaryHike            int64\n",
       "PerformanceRating            int64\n",
       "RelationshipSatisfaction     int64\n",
       "StandardHours                int64\n",
       "StockOptionLevel             int64\n",
       "TotalWorkingYears            int64\n",
       "TrainingTimesLastYear        int64\n",
       "WorkLifeBalance              int64\n",
       "YearsAtCompany               int64\n",
       "YearsInCurrentRole           int64\n",
       "YearsSinceLastPromotion      int64\n",
       "YearsWithCurrManager         int64\n",
       "dtype: object"
      ]
     },
     "execution_count": 3,
     "metadata": {},
     "output_type": "execute_result"
    }
   ],
   "source": [
    "df.dtypes"
   ]
  },
  {
   "cell_type": "code",
   "execution_count": 4,
   "metadata": {},
   "outputs": [
    {
     "data": {
      "text/plain": [
       "(1470, 35)"
      ]
     },
     "execution_count": 4,
     "metadata": {},
     "output_type": "execute_result"
    }
   ],
   "source": [
    "df.shape"
   ]
  },
  {
   "cell_type": "code",
   "execution_count": 5,
   "metadata": {},
   "outputs": [
    {
     "data": {
      "text/plain": [
       "array(['Single', 'Married', 'Divorced'], dtype=object)"
      ]
     },
     "execution_count": 5,
     "metadata": {},
     "output_type": "execute_result"
    }
   ],
   "source": [
    "df[\"MaritalStatus\"].unique()"
   ]
  },
  {
   "cell_type": "code",
   "execution_count": 6,
   "metadata": {},
   "outputs": [
    {
     "data": {
      "text/plain": [
       "array(['Female', 'Male'], dtype=object)"
      ]
     },
     "execution_count": 6,
     "metadata": {},
     "output_type": "execute_result"
    }
   ],
   "source": [
    "df[\"Gender\"].unique()"
   ]
  },
  {
   "cell_type": "raw",
   "metadata": {},
   "source": [
    "Here the target variable is attrition."
   ]
  },
  {
   "cell_type": "code",
   "execution_count": 7,
   "metadata": {},
   "outputs": [
    {
     "data": {
      "text/plain": [
       "Age                         0\n",
       "Attrition                   0\n",
       "BusinessTravel              0\n",
       "DailyRate                   0\n",
       "Department                  0\n",
       "DistanceFromHome            0\n",
       "Education                   0\n",
       "EducationField              0\n",
       "EmployeeCount               0\n",
       "EmployeeNumber              0\n",
       "EnvironmentSatisfaction     0\n",
       "Gender                      0\n",
       "HourlyRate                  0\n",
       "JobInvolvement              0\n",
       "JobLevel                    0\n",
       "JobRole                     0\n",
       "JobSatisfaction             0\n",
       "MaritalStatus               0\n",
       "MonthlyIncome               0\n",
       "MonthlyRate                 0\n",
       "NumCompaniesWorked          0\n",
       "Over18                      0\n",
       "OverTime                    0\n",
       "PercentSalaryHike           0\n",
       "PerformanceRating           0\n",
       "RelationshipSatisfaction    0\n",
       "StandardHours               0\n",
       "StockOptionLevel            0\n",
       "TotalWorkingYears           0\n",
       "TrainingTimesLastYear       0\n",
       "WorkLifeBalance             0\n",
       "YearsAtCompany              0\n",
       "YearsInCurrentRole          0\n",
       "YearsSinceLastPromotion     0\n",
       "YearsWithCurrManager        0\n",
       "dtype: int64"
      ]
     },
     "execution_count": 7,
     "metadata": {},
     "output_type": "execute_result"
    }
   ],
   "source": [
    "# Checking for null values\n",
    "\n",
    "df.isnull().sum()\n",
    "# We see that there are no null values"
   ]
  },
  {
   "cell_type": "code",
   "execution_count": 8,
   "metadata": {},
   "outputs": [
    {
     "data": {
      "text/html": [
       "<div>\n",
       "<style scoped>\n",
       "    .dataframe tbody tr th:only-of-type {\n",
       "        vertical-align: middle;\n",
       "    }\n",
       "\n",
       "    .dataframe tbody tr th {\n",
       "        vertical-align: top;\n",
       "    }\n",
       "\n",
       "    .dataframe thead th {\n",
       "        text-align: right;\n",
       "    }\n",
       "</style>\n",
       "<table border=\"1\" class=\"dataframe\">\n",
       "  <thead>\n",
       "    <tr style=\"text-align: right;\">\n",
       "      <th></th>\n",
       "      <th>Age</th>\n",
       "      <th>Attrition</th>\n",
       "      <th>BusinessTravel</th>\n",
       "      <th>DailyRate</th>\n",
       "      <th>Department</th>\n",
       "      <th>DistanceFromHome</th>\n",
       "      <th>Education</th>\n",
       "      <th>EducationField</th>\n",
       "      <th>EmployeeCount</th>\n",
       "      <th>EmployeeNumber</th>\n",
       "      <th>...</th>\n",
       "      <th>RelationshipSatisfaction</th>\n",
       "      <th>StandardHours</th>\n",
       "      <th>StockOptionLevel</th>\n",
       "      <th>TotalWorkingYears</th>\n",
       "      <th>TrainingTimesLastYear</th>\n",
       "      <th>WorkLifeBalance</th>\n",
       "      <th>YearsAtCompany</th>\n",
       "      <th>YearsInCurrentRole</th>\n",
       "      <th>YearsSinceLastPromotion</th>\n",
       "      <th>YearsWithCurrManager</th>\n",
       "    </tr>\n",
       "  </thead>\n",
       "  <tbody>\n",
       "    <tr>\n",
       "      <th>0</th>\n",
       "      <td>41</td>\n",
       "      <td>1</td>\n",
       "      <td>2</td>\n",
       "      <td>1102</td>\n",
       "      <td>2</td>\n",
       "      <td>1</td>\n",
       "      <td>2</td>\n",
       "      <td>1</td>\n",
       "      <td>1</td>\n",
       "      <td>1</td>\n",
       "      <td>...</td>\n",
       "      <td>1</td>\n",
       "      <td>80</td>\n",
       "      <td>0</td>\n",
       "      <td>8</td>\n",
       "      <td>0</td>\n",
       "      <td>1</td>\n",
       "      <td>6</td>\n",
       "      <td>4</td>\n",
       "      <td>0</td>\n",
       "      <td>5</td>\n",
       "    </tr>\n",
       "    <tr>\n",
       "      <th>1</th>\n",
       "      <td>49</td>\n",
       "      <td>0</td>\n",
       "      <td>1</td>\n",
       "      <td>279</td>\n",
       "      <td>1</td>\n",
       "      <td>8</td>\n",
       "      <td>1</td>\n",
       "      <td>1</td>\n",
       "      <td>1</td>\n",
       "      <td>2</td>\n",
       "      <td>...</td>\n",
       "      <td>4</td>\n",
       "      <td>80</td>\n",
       "      <td>1</td>\n",
       "      <td>10</td>\n",
       "      <td>3</td>\n",
       "      <td>3</td>\n",
       "      <td>10</td>\n",
       "      <td>7</td>\n",
       "      <td>1</td>\n",
       "      <td>7</td>\n",
       "    </tr>\n",
       "    <tr>\n",
       "      <th>2</th>\n",
       "      <td>37</td>\n",
       "      <td>1</td>\n",
       "      <td>2</td>\n",
       "      <td>1373</td>\n",
       "      <td>1</td>\n",
       "      <td>2</td>\n",
       "      <td>2</td>\n",
       "      <td>4</td>\n",
       "      <td>1</td>\n",
       "      <td>4</td>\n",
       "      <td>...</td>\n",
       "      <td>2</td>\n",
       "      <td>80</td>\n",
       "      <td>0</td>\n",
       "      <td>7</td>\n",
       "      <td>3</td>\n",
       "      <td>3</td>\n",
       "      <td>0</td>\n",
       "      <td>0</td>\n",
       "      <td>0</td>\n",
       "      <td>0</td>\n",
       "    </tr>\n",
       "    <tr>\n",
       "      <th>3</th>\n",
       "      <td>33</td>\n",
       "      <td>0</td>\n",
       "      <td>1</td>\n",
       "      <td>1392</td>\n",
       "      <td>1</td>\n",
       "      <td>3</td>\n",
       "      <td>4</td>\n",
       "      <td>1</td>\n",
       "      <td>1</td>\n",
       "      <td>5</td>\n",
       "      <td>...</td>\n",
       "      <td>3</td>\n",
       "      <td>80</td>\n",
       "      <td>0</td>\n",
       "      <td>8</td>\n",
       "      <td>3</td>\n",
       "      <td>3</td>\n",
       "      <td>8</td>\n",
       "      <td>7</td>\n",
       "      <td>3</td>\n",
       "      <td>0</td>\n",
       "    </tr>\n",
       "    <tr>\n",
       "      <th>4</th>\n",
       "      <td>27</td>\n",
       "      <td>0</td>\n",
       "      <td>2</td>\n",
       "      <td>591</td>\n",
       "      <td>1</td>\n",
       "      <td>2</td>\n",
       "      <td>1</td>\n",
       "      <td>3</td>\n",
       "      <td>1</td>\n",
       "      <td>7</td>\n",
       "      <td>...</td>\n",
       "      <td>4</td>\n",
       "      <td>80</td>\n",
       "      <td>1</td>\n",
       "      <td>6</td>\n",
       "      <td>3</td>\n",
       "      <td>3</td>\n",
       "      <td>2</td>\n",
       "      <td>2</td>\n",
       "      <td>2</td>\n",
       "      <td>2</td>\n",
       "    </tr>\n",
       "  </tbody>\n",
       "</table>\n",
       "<p>5 rows × 35 columns</p>\n",
       "</div>"
      ],
      "text/plain": [
       "   Age  Attrition  BusinessTravel  DailyRate  Department  DistanceFromHome  \\\n",
       "0   41          1               2       1102           2                 1   \n",
       "1   49          0               1        279           1                 8   \n",
       "2   37          1               2       1373           1                 2   \n",
       "3   33          0               1       1392           1                 3   \n",
       "4   27          0               2        591           1                 2   \n",
       "\n",
       "   Education  EducationField  EmployeeCount  EmployeeNumber  ...  \\\n",
       "0          2               1              1               1  ...   \n",
       "1          1               1              1               2  ...   \n",
       "2          2               4              1               4  ...   \n",
       "3          4               1              1               5  ...   \n",
       "4          1               3              1               7  ...   \n",
       "\n",
       "   RelationshipSatisfaction  StandardHours  StockOptionLevel  \\\n",
       "0                         1             80                 0   \n",
       "1                         4             80                 1   \n",
       "2                         2             80                 0   \n",
       "3                         3             80                 0   \n",
       "4                         4             80                 1   \n",
       "\n",
       "   TotalWorkingYears  TrainingTimesLastYear  WorkLifeBalance  YearsAtCompany  \\\n",
       "0                  8                      0                1               6   \n",
       "1                 10                      3                3              10   \n",
       "2                  7                      3                3               0   \n",
       "3                  8                      3                3               8   \n",
       "4                  6                      3                3               2   \n",
       "\n",
       "   YearsInCurrentRole  YearsSinceLastPromotion  YearsWithCurrManager  \n",
       "0                   4                        0                     5  \n",
       "1                   7                        1                     7  \n",
       "2                   0                        0                     0  \n",
       "3                   7                        3                     0  \n",
       "4                   2                        2                     2  \n",
       "\n",
       "[5 rows x 35 columns]"
      ]
     },
     "execution_count": 8,
     "metadata": {},
     "output_type": "execute_result"
    }
   ],
   "source": [
    "# Converting categorical to numerical data - i.e type and region\n",
    "\n",
    "from sklearn import preprocessing\n",
    "label_encoder = preprocessing.LabelEncoder() \n",
    "\n",
    "df[['Attrition','BusinessTravel','Department','EducationField','Gender','JobRole','MaritalStatus','Over18','OverTime']] = df[['Attrition','BusinessTravel','Department','EducationField','Gender','JobRole','MaritalStatus','Over18','OverTime']].apply(label_encoder.fit_transform)\n",
    "df.head()"
   ]
  },
  {
   "cell_type": "code",
   "execution_count": 9,
   "metadata": {},
   "outputs": [
    {
     "data": {
      "image/png": "[encoded data removed]",
      "text/plain": [
       "<Figure size 432x288 with 1 Axes>"
      ]
     },
     "metadata": {
      "needs_background": "light"
     },
     "output_type": "display_data"
    }
   ],
   "source": [
    "# Univariate analysis\n",
    "\n",
    "import seaborn as sns\n",
    "import matplotlib.pyplot as plt\n",
    "\n",
    "sns.countplot(df[\"Attrition\"])\n",
    "plt.show()"
   ]
  },
  {
   "cell_type": "raw",
   "metadata": {},
   "source": [
    "In the given data set we see a lower rate of attrition cases."
   ]
  },
  {
   "cell_type": "code",
   "execution_count": 10,
   "metadata": {},
   "outputs": [
    {
     "data": {
      "image/png": "[encoded data removed]",
      "text/plain": [
       "<Figure size 432x288 with 1 Axes>"
      ]
     },
     "metadata": {
      "needs_background": "light"
     },
     "output_type": "display_data"
    }
   ],
   "source": [
    "# Bivariate analysis\n",
    "\n",
    "sns.barplot(x=df[\"Department\"],y=df[\"Attrition\"])\n",
    "plt.show()"
   ]
  },
  {
   "cell_type": "raw",
   "metadata": {},
   "source": [
    "Department 2 has the highest attrition."
   ]
  },
  {
   "cell_type": "code",
   "execution_count": 35,
   "metadata": {},
   "outputs": [
    {
     "data": {
      "image/png": "[encoded data removed]",
      "text/plain": [
       "<Figure size 432x288 with 1 Axes>"
      ]
     },
     "metadata": {
      "needs_background": "light"
     },
     "output_type": "display_data"
    }
   ],
   "source": [
    "sns.barplot(x=df[\"Education\"],y=df[\"Attrition\"])\n",
    "plt.show()"
   ]
  },
  {
   "cell_type": "raw",
   "metadata": {},
   "source": [
    "Education 1 corresponds to maximum attrition."
   ]
  },
  {
   "cell_type": "code",
   "execution_count": 12,
   "metadata": {},
   "outputs": [
    {
     "data": {
      "image/png": "[encoded data removed]",
      "text/plain": [
       "<Figure size 432x288 with 1 Axes>"
      ]
     },
     "metadata": {
      "needs_background": "light"
     },
     "output_type": "display_data"
    }
   ],
   "source": [
    "sns.barplot(x=df[\"Gender\"],y=df[\"Attrition\"],hue=df[\"MaritalStatus\"])\n",
    "plt.show()"
   ]
  },
  {
   "cell_type": "raw",
   "metadata": {},
   "source": [
    "Divorced people have high attrition in both the genders."
   ]
  },
  {
   "cell_type": "code",
   "execution_count": 13,
   "metadata": {},
   "outputs": [
    {
     "data": {
      "image/png": "[encoded data removed]",
      "text/plain": [
       "<Figure size 864x432 with 1 Axes>"
      ]
     },
     "metadata": {
      "needs_background": "light"
     },
     "output_type": "display_data"
    }
   ],
   "source": [
    "plt.figure(figsize=(12,6))\n",
    "sns.barplot(x=df[\"OverTime\"],y=df[\"Attrition\"],hue=df[\"YearsSinceLastPromotion\"])\n",
    "plt.show()"
   ]
  },
  {
   "cell_type": "raw",
   "metadata": {},
   "source": [
    "Employees that are worked over time with 6 years since promotion are more prone to leave the job."
   ]
  },
  {
   "cell_type": "code",
   "execution_count": 14,
   "metadata": {},
   "outputs": [
    {
     "data": {
      "text/html": [
       "<div>\n",
       "<style scoped>\n",
       "    .dataframe tbody tr th:only-of-type {\n",
       "        vertical-align: middle;\n",
       "    }\n",
       "\n",
       "    .dataframe tbody tr th {\n",
       "        vertical-align: top;\n",
       "    }\n",
       "\n",
       "    .dataframe thead th {\n",
       "        text-align: right;\n",
       "    }\n",
       "</style>\n",
       "<table border=\"1\" class=\"dataframe\">\n",
       "  <thead>\n",
       "    <tr style=\"text-align: right;\">\n",
       "      <th></th>\n",
       "      <th>0</th>\n",
       "      <th>1</th>\n",
       "      <th>2</th>\n",
       "      <th>3</th>\n",
       "      <th>4</th>\n",
       "      <th>5</th>\n",
       "      <th>6</th>\n",
       "      <th>7</th>\n",
       "      <th>8</th>\n",
       "      <th>9</th>\n",
       "    </tr>\n",
       "  </thead>\n",
       "  <tbody>\n",
       "    <tr>\n",
       "      <th>0</th>\n",
       "      <td>5139.144002</td>\n",
       "      <td>-718.086191</td>\n",
       "      <td>-1047.618131</td>\n",
       "      <td>-246.007141</td>\n",
       "      <td>-29.136113</td>\n",
       "      <td>1.102347</td>\n",
       "      <td>-8.859410</td>\n",
       "      <td>-2.056755</td>\n",
       "      <td>-3.903597</td>\n",
       "      <td>-3.042514</td>\n",
       "    </tr>\n",
       "    <tr>\n",
       "      <th>1</th>\n",
       "      <td>10528.865129</td>\n",
       "      <td>-1802.653430</td>\n",
       "      <td>-1004.883381</td>\n",
       "      <td>565.245196</td>\n",
       "      <td>2.458596</td>\n",
       "      <td>12.782940</td>\n",
       "      <td>-2.587402</td>\n",
       "      <td>-0.036459</td>\n",
       "      <td>8.333818</td>\n",
       "      <td>-5.521375</td>\n",
       "    </tr>\n",
       "    <tr>\n",
       "      <th>2</th>\n",
       "      <td>-12089.425921</td>\n",
       "      <td>-3920.145490</td>\n",
       "      <td>-1048.000222</td>\n",
       "      <td>-488.847990</td>\n",
       "      <td>-25.899679</td>\n",
       "      <td>1.413627</td>\n",
       "      <td>-7.626811</td>\n",
       "      <td>-6.546913</td>\n",
       "      <td>-0.704655</td>\n",
       "      <td>2.265187</td>\n",
       "    </tr>\n",
       "    <tr>\n",
       "      <th>3</th>\n",
       "      <td>8689.622047</td>\n",
       "      <td>-3949.517598</td>\n",
       "      <td>-1072.175400</td>\n",
       "      <td>-544.170543</td>\n",
       "      <td>9.364752</td>\n",
       "      <td>0.367456</td>\n",
       "      <td>-5.841633</td>\n",
       "      <td>4.627869</td>\n",
       "      <td>-4.249530</td>\n",
       "      <td>-0.734101</td>\n",
       "    </tr>\n",
       "    <tr>\n",
       "      <th>4</th>\n",
       "      <td>2192.360869</td>\n",
       "      <td>-3125.191133</td>\n",
       "      <td>-1012.117528</td>\n",
       "      <td>267.180275</td>\n",
       "      <td>24.634854</td>\n",
       "      <td>-7.528494</td>\n",
       "      <td>-5.877370</td>\n",
       "      <td>-1.019278</td>\n",
       "      <td>-3.540293</td>\n",
       "      <td>3.531609</td>\n",
       "    </tr>\n",
       "  </tbody>\n",
       "</table>\n",
       "</div>"
      ],
      "text/plain": [
       "              0            1            2           3          4          5  \\\n",
       "0   5139.144002  -718.086191 -1047.618131 -246.007141 -29.136113   1.102347   \n",
       "1  10528.865129 -1802.653430 -1004.883381  565.245196   2.458596  12.782940   \n",
       "2 -12089.425921 -3920.145490 -1048.000222 -488.847990 -25.899679   1.413627   \n",
       "3   8689.622047 -3949.517598 -1072.175400 -544.170543   9.364752   0.367456   \n",
       "4   2192.360869 -3125.191133 -1012.117528  267.180275  24.634854  -7.528494   \n",
       "\n",
       "          6         7         8         9  \n",
       "0 -8.859410 -2.056755 -3.903597 -3.042514  \n",
       "1 -2.587402 -0.036459  8.333818 -5.521375  \n",
       "2 -7.626811 -6.546913 -0.704655  2.265187  \n",
       "3 -5.841633  4.627869 -4.249530 -0.734101  \n",
       "4 -5.877370 -1.019278 -3.540293  3.531609  "
      ]
     },
     "execution_count": 14,
     "metadata": {},
     "output_type": "execute_result"
    }
   ],
   "source": [
    "# PCA\n",
    "# There are 34 independent variables, we use pca to reduce dimension\n",
    "\n",
    "x=df.drop(\"Attrition\",axis=1)\n",
    "from sklearn.decomposition import PCA\n",
    "pca = PCA(n_components=10)\n",
    "x=pca.fit_transform(x)\n",
    "x = pd.DataFrame(x)\n",
    "x.head()"
   ]
  },
  {
   "cell_type": "code",
   "execution_count": 15,
   "metadata": {},
   "outputs": [
    {
     "data": {
      "text/html": [
       "<div>\n",
       "<style scoped>\n",
       "    .dataframe tbody tr th:only-of-type {\n",
       "        vertical-align: middle;\n",
       "    }\n",
       "\n",
       "    .dataframe tbody tr th {\n",
       "        vertical-align: top;\n",
       "    }\n",
       "\n",
       "    .dataframe thead th {\n",
       "        text-align: right;\n",
       "    }\n",
       "</style>\n",
       "<table border=\"1\" class=\"dataframe\">\n",
       "  <thead>\n",
       "    <tr style=\"text-align: right;\">\n",
       "      <th></th>\n",
       "      <th>0</th>\n",
       "      <th>1</th>\n",
       "      <th>2</th>\n",
       "      <th>3</th>\n",
       "      <th>4</th>\n",
       "      <th>5</th>\n",
       "      <th>6</th>\n",
       "      <th>7</th>\n",
       "      <th>8</th>\n",
       "      <th>9</th>\n",
       "      <th>Attrition</th>\n",
       "    </tr>\n",
       "  </thead>\n",
       "  <tbody>\n",
       "    <tr>\n",
       "      <th>0</th>\n",
       "      <td>5139.144002</td>\n",
       "      <td>-718.086191</td>\n",
       "      <td>-1047.618131</td>\n",
       "      <td>-246.007141</td>\n",
       "      <td>-29.136113</td>\n",
       "      <td>1.102347</td>\n",
       "      <td>-8.859410</td>\n",
       "      <td>-2.056755</td>\n",
       "      <td>-3.903597</td>\n",
       "      <td>-3.042514</td>\n",
       "      <td>1</td>\n",
       "    </tr>\n",
       "    <tr>\n",
       "      <th>1</th>\n",
       "      <td>10528.865129</td>\n",
       "      <td>-1802.653430</td>\n",
       "      <td>-1004.883381</td>\n",
       "      <td>565.245196</td>\n",
       "      <td>2.458596</td>\n",
       "      <td>12.782940</td>\n",
       "      <td>-2.587402</td>\n",
       "      <td>-0.036459</td>\n",
       "      <td>8.333818</td>\n",
       "      <td>-5.521375</td>\n",
       "      <td>0</td>\n",
       "    </tr>\n",
       "    <tr>\n",
       "      <th>2</th>\n",
       "      <td>-12089.425921</td>\n",
       "      <td>-3920.145490</td>\n",
       "      <td>-1048.000222</td>\n",
       "      <td>-488.847990</td>\n",
       "      <td>-25.899679</td>\n",
       "      <td>1.413627</td>\n",
       "      <td>-7.626811</td>\n",
       "      <td>-6.546913</td>\n",
       "      <td>-0.704655</td>\n",
       "      <td>2.265187</td>\n",
       "      <td>1</td>\n",
       "    </tr>\n",
       "    <tr>\n",
       "      <th>3</th>\n",
       "      <td>8689.622047</td>\n",
       "      <td>-3949.517598</td>\n",
       "      <td>-1072.175400</td>\n",
       "      <td>-544.170543</td>\n",
       "      <td>9.364752</td>\n",
       "      <td>0.367456</td>\n",
       "      <td>-5.841633</td>\n",
       "      <td>4.627869</td>\n",
       "      <td>-4.249530</td>\n",
       "      <td>-0.734101</td>\n",
       "      <td>0</td>\n",
       "    </tr>\n",
       "    <tr>\n",
       "      <th>4</th>\n",
       "      <td>2192.360869</td>\n",
       "      <td>-3125.191133</td>\n",
       "      <td>-1012.117528</td>\n",
       "      <td>267.180275</td>\n",
       "      <td>24.634854</td>\n",
       "      <td>-7.528494</td>\n",
       "      <td>-5.877370</td>\n",
       "      <td>-1.019278</td>\n",
       "      <td>-3.540293</td>\n",
       "      <td>3.531609</td>\n",
       "      <td>0</td>\n",
       "    </tr>\n",
       "  </tbody>\n",
       "</table>\n",
       "</div>"
      ],
      "text/plain": [
       "              0            1            2           3          4          5  \\\n",
       "0   5139.144002  -718.086191 -1047.618131 -246.007141 -29.136113   1.102347   \n",
       "1  10528.865129 -1802.653430 -1004.883381  565.245196   2.458596  12.782940   \n",
       "2 -12089.425921 -3920.145490 -1048.000222 -488.847990 -25.899679   1.413627   \n",
       "3   8689.622047 -3949.517598 -1072.175400 -544.170543   9.364752   0.367456   \n",
       "4   2192.360869 -3125.191133 -1012.117528  267.180275  24.634854  -7.528494   \n",
       "\n",
       "          6         7         8         9  Attrition  \n",
       "0 -8.859410 -2.056755 -3.903597 -3.042514          1  \n",
       "1 -2.587402 -0.036459  8.333818 -5.521375          0  \n",
       "2 -7.626811 -6.546913 -0.704655  2.265187          1  \n",
       "3 -5.841633  4.627869 -4.249530 -0.734101          0  \n",
       "4 -5.877370 -1.019278 -3.540293  3.531609          0  "
      ]
     },
     "execution_count": 15,
     "metadata": {},
     "output_type": "execute_result"
    }
   ],
   "source": [
    "y = df[[\"Attrition\"]]\n",
    "dfn =  pd.concat([x,y],axis=1)\n",
    "dfn.head()"
   ]
  },
  {
   "cell_type": "code",
   "execution_count": 16,
   "metadata": {},
   "outputs": [
    {
     "data": {
      "text/html": [
       "<div>\n",
       "<style scoped>\n",
       "    .dataframe tbody tr th:only-of-type {\n",
       "        vertical-align: middle;\n",
       "    }\n",
       "\n",
       "    .dataframe tbody tr th {\n",
       "        vertical-align: top;\n",
       "    }\n",
       "\n",
       "    .dataframe thead th {\n",
       "        text-align: right;\n",
       "    }\n",
       "</style>\n",
       "<table border=\"1\" class=\"dataframe\">\n",
       "  <thead>\n",
       "    <tr style=\"text-align: right;\">\n",
       "      <th></th>\n",
       "      <th>0</th>\n",
       "      <th>1</th>\n",
       "      <th>2</th>\n",
       "      <th>3</th>\n",
       "      <th>4</th>\n",
       "      <th>5</th>\n",
       "      <th>6</th>\n",
       "      <th>7</th>\n",
       "      <th>8</th>\n",
       "      <th>9</th>\n",
       "      <th>Attrition</th>\n",
       "    </tr>\n",
       "  </thead>\n",
       "  <tbody>\n",
       "    <tr>\n",
       "      <th>0</th>\n",
       "      <td>1.000000e+00</td>\n",
       "      <td>3.403700e-17</td>\n",
       "      <td>0.000000e+00</td>\n",
       "      <td>1.229424e-17</td>\n",
       "      <td>4.794125e-19</td>\n",
       "      <td>-3.638787e-17</td>\n",
       "      <td>1.890720e-18</td>\n",
       "      <td>-4.565894e-18</td>\n",
       "      <td>1.356323e-17</td>\n",
       "      <td>-2.441027e-17</td>\n",
       "      <td>0.010840</td>\n",
       "    </tr>\n",
       "    <tr>\n",
       "      <th>1</th>\n",
       "      <td>3.403700e-17</td>\n",
       "      <td>1.000000e+00</td>\n",
       "      <td>-2.449906e-17</td>\n",
       "      <td>1.916040e-18</td>\n",
       "      <td>1.031853e-17</td>\n",
       "      <td>-3.574124e-17</td>\n",
       "      <td>1.005279e-17</td>\n",
       "      <td>-2.278811e-18</td>\n",
       "      <td>-3.935148e-17</td>\n",
       "      <td>7.442153e-18</td>\n",
       "      <td>-0.160817</td>\n",
       "    </tr>\n",
       "    <tr>\n",
       "      <th>2</th>\n",
       "      <td>0.000000e+00</td>\n",
       "      <td>-2.449906e-17</td>\n",
       "      <td>1.000000e+00</td>\n",
       "      <td>3.636668e-18</td>\n",
       "      <td>-3.298471e-17</td>\n",
       "      <td>-8.051807e-18</td>\n",
       "      <td>-2.142555e-17</td>\n",
       "      <td>4.175382e-17</td>\n",
       "      <td>-8.407404e-19</td>\n",
       "      <td>-5.151791e-18</td>\n",
       "      <td>-0.010991</td>\n",
       "    </tr>\n",
       "    <tr>\n",
       "      <th>3</th>\n",
       "      <td>1.229424e-17</td>\n",
       "      <td>1.916040e-18</td>\n",
       "      <td>3.636668e-18</td>\n",
       "      <td>1.000000e+00</td>\n",
       "      <td>-2.691333e-17</td>\n",
       "      <td>-4.011819e-18</td>\n",
       "      <td>2.854364e-17</td>\n",
       "      <td>1.703538e-17</td>\n",
       "      <td>7.606536e-19</td>\n",
       "      <td>2.245966e-17</td>\n",
       "      <td>0.055998</td>\n",
       "    </tr>\n",
       "    <tr>\n",
       "      <th>4</th>\n",
       "      <td>4.794125e-19</td>\n",
       "      <td>1.031853e-17</td>\n",
       "      <td>-3.298471e-17</td>\n",
       "      <td>-2.691333e-17</td>\n",
       "      <td>1.000000e+00</td>\n",
       "      <td>-3.665414e-16</td>\n",
       "      <td>-2.922647e-16</td>\n",
       "      <td>-3.041164e-16</td>\n",
       "      <td>3.104546e-17</td>\n",
       "      <td>-4.973081e-17</td>\n",
       "      <td>0.007309</td>\n",
       "    </tr>\n",
       "    <tr>\n",
       "      <th>5</th>\n",
       "      <td>-3.638787e-17</td>\n",
       "      <td>-3.574124e-17</td>\n",
       "      <td>-8.051807e-18</td>\n",
       "      <td>-4.011819e-18</td>\n",
       "      <td>-3.665414e-16</td>\n",
       "      <td>1.000000e+00</td>\n",
       "      <td>-9.535379e-16</td>\n",
       "      <td>-1.003354e-16</td>\n",
       "      <td>-4.655494e-17</td>\n",
       "      <td>2.672716e-16</td>\n",
       "      <td>-0.096768</td>\n",
       "    </tr>\n",
       "    <tr>\n",
       "      <th>6</th>\n",
       "      <td>1.890720e-18</td>\n",
       "      <td>1.005279e-17</td>\n",
       "      <td>-2.142555e-17</td>\n",
       "      <td>2.854364e-17</td>\n",
       "      <td>-2.922647e-16</td>\n",
       "      <td>-9.535379e-16</td>\n",
       "      <td>1.000000e+00</td>\n",
       "      <td>1.726021e-16</td>\n",
       "      <td>8.608552e-17</td>\n",
       "      <td>-3.970115e-16</td>\n",
       "      <td>0.085954</td>\n",
       "    </tr>\n",
       "    <tr>\n",
       "      <th>7</th>\n",
       "      <td>-4.565894e-18</td>\n",
       "      <td>-2.278811e-18</td>\n",
       "      <td>4.175382e-17</td>\n",
       "      <td>1.703538e-17</td>\n",
       "      <td>-3.041164e-16</td>\n",
       "      <td>-1.003354e-16</td>\n",
       "      <td>1.726021e-16</td>\n",
       "      <td>1.000000e+00</td>\n",
       "      <td>-1.560966e-16</td>\n",
       "      <td>1.151275e-16</td>\n",
       "      <td>-0.048233</td>\n",
       "    </tr>\n",
       "    <tr>\n",
       "      <th>8</th>\n",
       "      <td>1.356323e-17</td>\n",
       "      <td>-3.935148e-17</td>\n",
       "      <td>-8.407404e-19</td>\n",
       "      <td>7.606536e-19</td>\n",
       "      <td>3.104546e-17</td>\n",
       "      <td>-4.655494e-17</td>\n",
       "      <td>8.608552e-17</td>\n",
       "      <td>-1.560966e-16</td>\n",
       "      <td>1.000000e+00</td>\n",
       "      <td>1.281796e-15</td>\n",
       "      <td>-0.026130</td>\n",
       "    </tr>\n",
       "    <tr>\n",
       "      <th>9</th>\n",
       "      <td>-2.441027e-17</td>\n",
       "      <td>7.442153e-18</td>\n",
       "      <td>-5.151791e-18</td>\n",
       "      <td>2.245966e-17</td>\n",
       "      <td>-4.973081e-17</td>\n",
       "      <td>2.672716e-16</td>\n",
       "      <td>-3.970115e-16</td>\n",
       "      <td>1.151275e-16</td>\n",
       "      <td>1.281796e-15</td>\n",
       "      <td>1.000000e+00</td>\n",
       "      <td>0.034283</td>\n",
       "    </tr>\n",
       "    <tr>\n",
       "      <th>Attrition</th>\n",
       "      <td>1.084045e-02</td>\n",
       "      <td>-1.608166e-01</td>\n",
       "      <td>-1.099116e-02</td>\n",
       "      <td>5.599805e-02</td>\n",
       "      <td>7.308539e-03</td>\n",
       "      <td>-9.676755e-02</td>\n",
       "      <td>8.595430e-02</td>\n",
       "      <td>-4.823310e-02</td>\n",
       "      <td>-2.613024e-02</td>\n",
       "      <td>3.428342e-02</td>\n",
       "      <td>1.000000</td>\n",
       "    </tr>\n",
       "  </tbody>\n",
       "</table>\n",
       "</div>"
      ],
      "text/plain": [
       "                      0             1             2             3  \\\n",
       "0          1.000000e+00  3.403700e-17  0.000000e+00  1.229424e-17   \n",
       "1          3.403700e-17  1.000000e+00 -2.449906e-17  1.916040e-18   \n",
       "2          0.000000e+00 -2.449906e-17  1.000000e+00  3.636668e-18   \n",
       "3          1.229424e-17  1.916040e-18  3.636668e-18  1.000000e+00   \n",
       "4          4.794125e-19  1.031853e-17 -3.298471e-17 -2.691333e-17   \n",
       "5         -3.638787e-17 -3.574124e-17 -8.051807e-18 -4.011819e-18   \n",
       "6          1.890720e-18  1.005279e-17 -2.142555e-17  2.854364e-17   \n",
       "7         -4.565894e-18 -2.278811e-18  4.175382e-17  1.703538e-17   \n",
       "8          1.356323e-17 -3.935148e-17 -8.407404e-19  7.606536e-19   \n",
       "9         -2.441027e-17  7.442153e-18 -5.151791e-18  2.245966e-17   \n",
       "Attrition  1.084045e-02 -1.608166e-01 -1.099116e-02  5.599805e-02   \n",
       "\n",
       "                      4             5             6             7  \\\n",
       "0          4.794125e-19 -3.638787e-17  1.890720e-18 -4.565894e-18   \n",
       "1          1.031853e-17 -3.574124e-17  1.005279e-17 -2.278811e-18   \n",
       "2         -3.298471e-17 -8.051807e-18 -2.142555e-17  4.175382e-17   \n",
       "3         -2.691333e-17 -4.011819e-18  2.854364e-17  1.703538e-17   \n",
       "4          1.000000e+00 -3.665414e-16 -2.922647e-16 -3.041164e-16   \n",
       "5         -3.665414e-16  1.000000e+00 -9.535379e-16 -1.003354e-16   \n",
       "6         -2.922647e-16 -9.535379e-16  1.000000e+00  1.726021e-16   \n",
       "7         -3.041164e-16 -1.003354e-16  1.726021e-16  1.000000e+00   \n",
       "8          3.104546e-17 -4.655494e-17  8.608552e-17 -1.560966e-16   \n",
       "9         -4.973081e-17  2.672716e-16 -3.970115e-16  1.151275e-16   \n",
       "Attrition  7.308539e-03 -9.676755e-02  8.595430e-02 -4.823310e-02   \n",
       "\n",
       "                      8             9  Attrition  \n",
       "0          1.356323e-17 -2.441027e-17   0.010840  \n",
       "1         -3.935148e-17  7.442153e-18  -0.160817  \n",
       "2         -8.407404e-19 -5.151791e-18  -0.010991  \n",
       "3          7.606536e-19  2.245966e-17   0.055998  \n",
       "4          3.104546e-17 -4.973081e-17   0.007309  \n",
       "5         -4.655494e-17  2.672716e-16  -0.096768  \n",
       "6          8.608552e-17 -3.970115e-16   0.085954  \n",
       "7         -1.560966e-16  1.151275e-16  -0.048233  \n",
       "8          1.000000e+00  1.281796e-15  -0.026130  \n",
       "9          1.281796e-15  1.000000e+00   0.034283  \n",
       "Attrition -2.613024e-02  3.428342e-02   1.000000  "
      ]
     },
     "execution_count": 16,
     "metadata": {},
     "output_type": "execute_result"
    }
   ],
   "source": [
    "# Correlation\n",
    "\n",
    "dfn.corr()"
   ]
  },
  {
   "cell_type": "code",
   "execution_count": 17,
   "metadata": {},
   "outputs": [
    {
     "data": {
      "image/png": "[encoded data removed]",
      "text/plain": [
       "<Figure size 1152x576 with 2 Axes>"
      ]
     },
     "metadata": {
      "needs_background": "light"
     },
     "output_type": "display_data"
    }
   ],
   "source": [
    "import seaborn as sns\n",
    "import matplotlib.pyplot as plt\n",
    "plt.figure(figsize=(16,8))\n",
    "plt.title(\"Correlation\")\n",
    "sns.heatmap(dfn.corr(),annot=True,cmap='Blues')\n",
    "plt.show()"
   ]
  },
  {
   "cell_type": "raw",
   "metadata": {},
   "source": [
    "We don't see any significant correlation of target with the  independent variables."
   ]
  },
  {
   "cell_type": "code",
   "execution_count": 18,
   "metadata": {},
   "outputs": [
    {
     "data": {
      "image/png": "[encoded data removed]",
      "text/plain": [
       "<Figure size 1152x3960 with 11 Axes>"
      ]
     },
     "metadata": {
      "needs_background": "light"
     },
     "output_type": "display_data"
    }
   ],
   "source": [
    "# Checking for outliers\n",
    "\n",
    "collist = dfn.columns.values\n",
    "ncol = 11\n",
    "nrows = 5\n",
    "\n",
    "plt.figure(figsize=(16,5*ncol))\n",
    "for i in range(len(collist)):\n",
    "    plt.subplot(nrows,ncol,i+1)\n",
    "    sns.boxplot(dfn[collist[i]],orient = \"v\")\n",
    "    plt.tight_layout()"
   ]
  },
  {
   "cell_type": "code",
   "execution_count": 19,
   "metadata": {},
   "outputs": [
    {
     "data": {
      "text/html": [
       "<div>\n",
       "<style scoped>\n",
       "    .dataframe tbody tr th:only-of-type {\n",
       "        vertical-align: middle;\n",
       "    }\n",
       "\n",
       "    .dataframe tbody tr th {\n",
       "        vertical-align: top;\n",
       "    }\n",
       "\n",
       "    .dataframe thead th {\n",
       "        text-align: right;\n",
       "    }\n",
       "</style>\n",
       "<table border=\"1\" class=\"dataframe\">\n",
       "  <thead>\n",
       "    <tr style=\"text-align: right;\">\n",
       "      <th></th>\n",
       "      <th>0</th>\n",
       "      <th>1</th>\n",
       "      <th>2</th>\n",
       "      <th>3</th>\n",
       "      <th>4</th>\n",
       "      <th>5</th>\n",
       "      <th>6</th>\n",
       "      <th>7</th>\n",
       "      <th>8</th>\n",
       "      <th>9</th>\n",
       "      <th>Attrition</th>\n",
       "    </tr>\n",
       "  </thead>\n",
       "  <tbody>\n",
       "    <tr>\n",
       "      <th>0</th>\n",
       "      <td>5139.144002</td>\n",
       "      <td>-718.086191</td>\n",
       "      <td>-1047.618131</td>\n",
       "      <td>-246.007141</td>\n",
       "      <td>-29.136113</td>\n",
       "      <td>1.102347</td>\n",
       "      <td>-8.859410</td>\n",
       "      <td>-2.056755</td>\n",
       "      <td>-3.903597</td>\n",
       "      <td>-3.042514</td>\n",
       "      <td>1</td>\n",
       "    </tr>\n",
       "    <tr>\n",
       "      <th>1</th>\n",
       "      <td>10528.865129</td>\n",
       "      <td>-1802.653430</td>\n",
       "      <td>-1004.883381</td>\n",
       "      <td>565.245196</td>\n",
       "      <td>2.458596</td>\n",
       "      <td>12.782940</td>\n",
       "      <td>-2.587402</td>\n",
       "      <td>-0.036459</td>\n",
       "      <td>8.333818</td>\n",
       "      <td>-5.521375</td>\n",
       "      <td>0</td>\n",
       "    </tr>\n",
       "    <tr>\n",
       "      <th>2</th>\n",
       "      <td>-12089.425921</td>\n",
       "      <td>-3920.145490</td>\n",
       "      <td>-1048.000222</td>\n",
       "      <td>-488.847990</td>\n",
       "      <td>-25.899679</td>\n",
       "      <td>1.413627</td>\n",
       "      <td>-7.626811</td>\n",
       "      <td>-6.546913</td>\n",
       "      <td>-0.704655</td>\n",
       "      <td>2.265187</td>\n",
       "      <td>1</td>\n",
       "    </tr>\n",
       "    <tr>\n",
       "      <th>3</th>\n",
       "      <td>8689.622047</td>\n",
       "      <td>-3949.517598</td>\n",
       "      <td>-1072.175400</td>\n",
       "      <td>-544.170543</td>\n",
       "      <td>9.364752</td>\n",
       "      <td>0.367456</td>\n",
       "      <td>-5.841633</td>\n",
       "      <td>4.627869</td>\n",
       "      <td>-4.249530</td>\n",
       "      <td>-0.734101</td>\n",
       "      <td>0</td>\n",
       "    </tr>\n",
       "    <tr>\n",
       "      <th>4</th>\n",
       "      <td>2192.360869</td>\n",
       "      <td>-3125.191133</td>\n",
       "      <td>-1012.117528</td>\n",
       "      <td>267.180275</td>\n",
       "      <td>24.634854</td>\n",
       "      <td>-7.528494</td>\n",
       "      <td>-5.877370</td>\n",
       "      <td>-1.019278</td>\n",
       "      <td>-3.540293</td>\n",
       "      <td>3.531609</td>\n",
       "      <td>0</td>\n",
       "    </tr>\n",
       "  </tbody>\n",
       "</table>\n",
       "</div>"
      ],
      "text/plain": [
       "              0            1            2           3          4          5  \\\n",
       "0   5139.144002  -718.086191 -1047.618131 -246.007141 -29.136113   1.102347   \n",
       "1  10528.865129 -1802.653430 -1004.883381  565.245196   2.458596  12.782940   \n",
       "2 -12089.425921 -3920.145490 -1048.000222 -488.847990 -25.899679   1.413627   \n",
       "3   8689.622047 -3949.517598 -1072.175400 -544.170543   9.364752   0.367456   \n",
       "4   2192.360869 -3125.191133 -1012.117528  267.180275  24.634854  -7.528494   \n",
       "\n",
       "          6         7         8         9  Attrition  \n",
       "0 -8.859410 -2.056755 -3.903597 -3.042514          1  \n",
       "1 -2.587402 -0.036459  8.333818 -5.521375          0  \n",
       "2 -7.626811 -6.546913 -0.704655  2.265187          1  \n",
       "3 -5.841633  4.627869 -4.249530 -0.734101          0  \n",
       "4 -5.877370 -1.019278 -3.540293  3.531609          0  "
      ]
     },
     "execution_count": 19,
     "metadata": {},
     "output_type": "execute_result"
    }
   ],
   "source": [
    "# Removing outliers\n",
    "\n",
    "from scipy.stats import zscore\n",
    "z=np.abs(zscore(dfn))\n",
    "df_new=dfn[(z<3).all(axis=1)]\n",
    "df_new.head()"
   ]
  },
  {
   "cell_type": "code",
   "execution_count": 20,
   "metadata": {},
   "outputs": [
    {
     "data": {
      "text/plain": [
       "(1470, 11)"
      ]
     },
     "execution_count": 20,
     "metadata": {},
     "output_type": "execute_result"
    }
   ],
   "source": [
    "dfn.shape"
   ]
  },
  {
   "cell_type": "code",
   "execution_count": 21,
   "metadata": {},
   "outputs": [
    {
     "data": {
      "text/plain": [
       "(1456, 11)"
      ]
     },
     "execution_count": 21,
     "metadata": {},
     "output_type": "execute_result"
    }
   ],
   "source": [
    "df_new.shape"
   ]
  },
  {
   "cell_type": "code",
   "execution_count": 22,
   "metadata": {},
   "outputs": [],
   "source": [
    "dfn = df_new"
   ]
  },
  {
   "cell_type": "code",
   "execution_count": 23,
   "metadata": {},
   "outputs": [
    {
     "data": {
      "text/plain": [
       "0            0.015077\n",
       "1            1.376187\n",
       "2            0.005391\n",
       "3            0.005493\n",
       "4            0.027586\n",
       "5            0.447971\n",
       "6            0.911451\n",
       "7            0.127869\n",
       "8            0.825614\n",
       "9            0.131263\n",
       "Attrition    1.863480\n",
       "dtype: float64"
      ]
     },
     "execution_count": 23,
     "metadata": {},
     "output_type": "execute_result"
    }
   ],
   "source": [
    "# Skewness\n",
    "\n",
    "dfn.skew()"
   ]
  },
  {
   "cell_type": "code",
   "execution_count": 24,
   "metadata": {},
   "outputs": [
    {
     "name": "stdout",
     "output_type": "stream",
     "text": [
      "              0            1            2           3          4          5  \\\n",
      "0   5139.144002  -718.086191 -1047.618131 -246.007141 -29.136113   1.102347   \n",
      "1  10528.865129 -1802.653430 -1004.883381  565.245196   2.458596  12.782940   \n",
      "2 -12089.425921 -3920.145490 -1048.000222 -488.847990 -25.899679   1.413627   \n",
      "3   8689.622047 -3949.517598 -1072.175400 -544.170543   9.364752   0.367456   \n",
      "4   2192.360869 -3125.191133 -1012.117528  267.180275  24.634854  -7.528494   \n",
      "\n",
      "          6         7         8         9  \n",
      "0 -8.859410 -2.056755 -3.903597 -3.042514  \n",
      "1 -2.587402 -0.036459  8.333818 -5.521375  \n",
      "2 -7.626811 -6.546913 -0.704655  2.265187  \n",
      "3 -5.841633  4.627869 -4.249530 -0.734101  \n",
      "4 -5.877370 -1.019278 -3.540293  3.531609  \n",
      "\n",
      "\n",
      "   Attrition\n",
      "0          1\n",
      "1          0\n",
      "2          1\n",
      "3          0\n",
      "4          0\n"
     ]
    }
   ],
   "source": [
    "# Splitting independent variables and target\n",
    "\n",
    "x = dfn.drop('Attrition',axis=1)\n",
    "print(x.head())\n",
    "y = dfn[['Attrition']]\n",
    "print(\"\\n\")\n",
    "print(y.head())"
   ]
  },
  {
   "cell_type": "code",
   "execution_count": 25,
   "metadata": {},
   "outputs": [
    {
     "data": {
      "text/html": [
       "<div>\n",
       "<style scoped>\n",
       "    .dataframe tbody tr th:only-of-type {\n",
       "        vertical-align: middle;\n",
       "    }\n",
       "\n",
       "    .dataframe tbody tr th {\n",
       "        vertical-align: top;\n",
       "    }\n",
       "\n",
       "    .dataframe thead th {\n",
       "        text-align: right;\n",
       "    }\n",
       "</style>\n",
       "<table border=\"1\" class=\"dataframe\">\n",
       "  <thead>\n",
       "    <tr style=\"text-align: right;\">\n",
       "      <th></th>\n",
       "      <th>0</th>\n",
       "      <th>1</th>\n",
       "      <th>2</th>\n",
       "      <th>3</th>\n",
       "      <th>4</th>\n",
       "      <th>5</th>\n",
       "      <th>6</th>\n",
       "      <th>7</th>\n",
       "      <th>8</th>\n",
       "      <th>9</th>\n",
       "    </tr>\n",
       "  </thead>\n",
       "  <tbody>\n",
       "    <tr>\n",
       "      <th>0</th>\n",
       "      <td>0.718979</td>\n",
       "      <td>-0.152241</td>\n",
       "      <td>-1.747783</td>\n",
       "      <td>-0.612488</td>\n",
       "      <td>-1.440208</td>\n",
       "      <td>0.149373</td>\n",
       "      <td>-1.097579</td>\n",
       "      <td>-0.305474</td>\n",
       "      <td>-1.072065</td>\n",
       "      <td>-0.905582</td>\n",
       "    </tr>\n",
       "    <tr>\n",
       "      <th>1</th>\n",
       "      <td>1.477336</td>\n",
       "      <td>-0.382495</td>\n",
       "      <td>-1.676684</td>\n",
       "      <td>1.404016</td>\n",
       "      <td>0.115787</td>\n",
       "      <td>1.524304</td>\n",
       "      <td>-0.319528</td>\n",
       "      <td>-0.007892</td>\n",
       "      <td>2.268985</td>\n",
       "      <td>-1.656336</td>\n",
       "    </tr>\n",
       "    <tr>\n",
       "      <th>2</th>\n",
       "      <td>-1.705156</td>\n",
       "      <td>-0.832040</td>\n",
       "      <td>-1.748419</td>\n",
       "      <td>-1.216110</td>\n",
       "      <td>-1.280818</td>\n",
       "      <td>0.186014</td>\n",
       "      <td>-0.944673</td>\n",
       "      <td>-0.966857</td>\n",
       "      <td>-0.198692</td>\n",
       "      <td>0.701921</td>\n",
       "    </tr>\n",
       "    <tr>\n",
       "      <th>3</th>\n",
       "      <td>1.218547</td>\n",
       "      <td>-0.838276</td>\n",
       "      <td>-1.788639</td>\n",
       "      <td>-1.353623</td>\n",
       "      <td>0.455906</td>\n",
       "      <td>0.062869</td>\n",
       "      <td>-0.723219</td>\n",
       "      <td>0.679146</td>\n",
       "      <td>-1.166512</td>\n",
       "      <td>-0.206451</td>\n",
       "    </tr>\n",
       "    <tr>\n",
       "      <th>4</th>\n",
       "      <td>0.304354</td>\n",
       "      <td>-0.663271</td>\n",
       "      <td>-1.688720</td>\n",
       "      <td>0.663125</td>\n",
       "      <td>1.207937</td>\n",
       "      <td>-0.866570</td>\n",
       "      <td>-0.727653</td>\n",
       "      <td>-0.152657</td>\n",
       "      <td>-0.972876</td>\n",
       "      <td>1.085472</td>\n",
       "    </tr>\n",
       "  </tbody>\n",
       "</table>\n",
       "</div>"
      ],
      "text/plain": [
       "          0         1         2         3         4         5         6  \\\n",
       "0  0.718979 -0.152241 -1.747783 -0.612488 -1.440208  0.149373 -1.097579   \n",
       "1  1.477336 -0.382495 -1.676684  1.404016  0.115787  1.524304 -0.319528   \n",
       "2 -1.705156 -0.832040 -1.748419 -1.216110 -1.280818  0.186014 -0.944673   \n",
       "3  1.218547 -0.838276 -1.788639 -1.353623  0.455906  0.062869 -0.723219   \n",
       "4  0.304354 -0.663271 -1.688720  0.663125  1.207937 -0.866570 -0.727653   \n",
       "\n",
       "          7         8         9  \n",
       "0 -0.305474 -1.072065 -0.905582  \n",
       "1 -0.007892  2.268985 -1.656336  \n",
       "2 -0.966857 -0.198692  0.701921  \n",
       "3  0.679146 -1.166512 -0.206451  \n",
       "4 -0.152657 -0.972876  1.085472  "
      ]
     },
     "execution_count": 25,
     "metadata": {},
     "output_type": "execute_result"
    }
   ],
   "source": [
    "# Using Standard scaler for uniform range in all columns\n",
    "\n",
    "from sklearn.preprocessing import StandardScaler\n",
    "\n",
    "sc = StandardScaler()\n",
    "x = sc.fit_transform(x)\n",
    "x = pd.DataFrame(x)\n",
    "x.head()"
   ]
  },
  {
   "cell_type": "code",
   "execution_count": 26,
   "metadata": {},
   "outputs": [],
   "source": [
    "# Splitting into training and testing data\n",
    "\n",
    "from sklearn.model_selection import train_test_split\n",
    "from sklearn.metrics import accuracy_score,classification_report,confusion_matrix"
   ]
  },
  {
   "cell_type": "code",
   "execution_count": 27,
   "metadata": {},
   "outputs": [],
   "source": [
    "x_train,x_test,y_train,y_test=train_test_split(x,y,test_size=0.20,random_state=52)"
   ]
  },
  {
   "cell_type": "code",
   "execution_count": 28,
   "metadata": {},
   "outputs": [],
   "source": [
    "from sklearn.neighbors import KNeighborsClassifier\n",
    "from sklearn.naive_bayes import GaussianNB\n",
    "from sklearn.svm import SVC\n",
    "from sklearn.tree import DecisionTreeClassifier\n",
    "from sklearn.linear_model import LogisticRegression"
   ]
  },
  {
   "cell_type": "code",
   "execution_count": 29,
   "metadata": {},
   "outputs": [
    {
     "name": "stdout",
     "output_type": "stream",
     "text": [
      "0.8350515463917526\n",
      "accuracy score of GaussianNB() is\n",
      "0.8698630136986302\n",
      "[[254   0]\n",
      " [ 38   0]]\n",
      "              precision    recall  f1-score   support\n",
      "\n",
      "           0       0.87      1.00      0.93       254\n",
      "           1       0.00      0.00      0.00        38\n",
      "\n",
      "    accuracy                           0.87       292\n",
      "   macro avg       0.43      0.50      0.47       292\n",
      "weighted avg       0.76      0.87      0.81       292\n",
      "\n",
      "\n",
      "\n",
      "0.834192439862543\n",
      "accuracy score of SVC() is\n",
      "0.8698630136986302\n",
      "[[254   0]\n",
      " [ 38   0]]\n",
      "              precision    recall  f1-score   support\n",
      "\n",
      "           0       0.87      1.00      0.93       254\n",
      "           1       0.00      0.00      0.00        38\n",
      "\n",
      "    accuracy                           0.87       292\n",
      "   macro avg       0.43      0.50      0.47       292\n",
      "weighted avg       0.76      0.87      0.81       292\n",
      "\n",
      "\n",
      "\n",
      "1.0\n",
      "accuracy score of DecisionTreeClassifier() is\n",
      "0.75\n",
      "[[211  43]\n",
      " [ 30   8]]\n",
      "              precision    recall  f1-score   support\n",
      "\n",
      "           0       0.88      0.83      0.85       254\n",
      "           1       0.16      0.21      0.18        38\n",
      "\n",
      "    accuracy                           0.75       292\n",
      "   macro avg       0.52      0.52      0.52       292\n",
      "weighted avg       0.78      0.75      0.76       292\n",
      "\n",
      "\n",
      "\n",
      "0.8496563573883161\n",
      "accuracy score of KNeighborsClassifier() is\n",
      "0.8356164383561644\n",
      "[[242  12]\n",
      " [ 36   2]]\n",
      "              precision    recall  f1-score   support\n",
      "\n",
      "           0       0.87      0.95      0.91       254\n",
      "           1       0.14      0.05      0.08        38\n",
      "\n",
      "    accuracy                           0.84       292\n",
      "   macro avg       0.51      0.50      0.49       292\n",
      "weighted avg       0.78      0.84      0.80       292\n",
      "\n",
      "\n",
      "\n",
      "0.8333333333333334\n",
      "accuracy score of LogisticRegression() is\n",
      "0.8698630136986302\n",
      "[[254   0]\n",
      " [ 38   0]]\n",
      "              precision    recall  f1-score   support\n",
      "\n",
      "           0       0.87      1.00      0.93       254\n",
      "           1       0.00      0.00      0.00        38\n",
      "\n",
      "    accuracy                           0.87       292\n",
      "   macro avg       0.43      0.50      0.47       292\n",
      "weighted avg       0.76      0.87      0.81       292\n",
      "\n",
      "\n",
      "\n"
     ]
    }
   ],
   "source": [
    "model = [GaussianNB(),SVC(),DecisionTreeClassifier(),KNeighborsClassifier(),LogisticRegression()]\n",
    "\n",
    "for m in model:\n",
    "    m.fit(x_train,y_train)\n",
    "    print(m.score(x_train,y_train))\n",
    "    predm=m.predict(x_test)\n",
    "    print(\"accuracy score of\", m,\"is\")\n",
    "    print(accuracy_score(y_test,predm))\n",
    "    print(confusion_matrix(y_test,predm))\n",
    "    print(classification_report(y_test,predm))\n",
    "    print(\"\\n\")"
   ]
  },
  {
   "cell_type": "raw",
   "metadata": {},
   "source": [
    "Gaussian NB,SVC and Logistic regression show good accuracy scores."
   ]
  },
  {
   "cell_type": "code",
   "execution_count": 30,
   "metadata": {},
   "outputs": [
    {
     "data": {
      "text/plain": [
       "{'gamma': 'scale', 'kernel': 'linear'}"
      ]
     },
     "execution_count": 30,
     "metadata": {},
     "output_type": "execute_result"
    }
   ],
   "source": [
    "# Gridsearch cv on SVC\n",
    "\n",
    "from sklearn.model_selection import GridSearchCV\n",
    "\n",
    "svc = SVC()\n",
    "p = {'kernel':['linear', 'poly', 'rbf'], 'gamma':['scale','auto']}\n",
    "a = GridSearchCV(svc,p)\n",
    "a.fit(x,y)\n",
    "a.best_params_"
   ]
  },
  {
   "cell_type": "code",
   "execution_count": 31,
   "metadata": {},
   "outputs": [
    {
     "name": "stdout",
     "output_type": "stream",
     "text": [
      "0.8333333333333334\n",
      "Accuracy score of SVC(kernel='linear') is\n",
      "0.8698630136986302\n",
      "[[254   0]\n",
      " [ 38   0]]\n",
      "              precision    recall  f1-score   support\n",
      "\n",
      "           0       0.87      1.00      0.93       254\n",
      "           1       0.00      0.00      0.00        38\n",
      "\n",
      "    accuracy                           0.87       292\n",
      "   macro avg       0.43      0.50      0.47       292\n",
      "weighted avg       0.76      0.87      0.81       292\n",
      "\n"
     ]
    }
   ],
   "source": [
    "# SVC after hyperparameter tuning\n",
    "\n",
    "svc = SVC(kernel='linear') #gamma=scale is default\n",
    "svc.fit(x_train,y_train)\n",
    "print(svc.score(x_train,y_train))\n",
    "pred=svc.predict(x_test)\n",
    "print(\"Accuracy score of\", svc ,\"is\")\n",
    "print(accuracy_score(y_test,pred))\n",
    "print(confusion_matrix(y_test,pred))\n",
    "print(classification_report(y_test,pred))"
   ]
  },
  {
   "cell_type": "code",
   "execution_count": 32,
   "metadata": {},
   "outputs": [
    {
     "name": "stdout",
     "output_type": "stream",
     "text": [
      "Cross_val_score for SVC(kernel='linear') is  0.8406604528550581\n"
     ]
    }
   ],
   "source": [
    "# cross_val_score\n",
    "\n",
    "from sklearn.model_selection import cross_val_score\n",
    "\n",
    "print(\"Cross_val_score for\",svc ,'is ',cross_val_score(svc,x,y,cv=5).mean())"
   ]
  },
  {
   "cell_type": "code",
   "execution_count": 33,
   "metadata": {},
   "outputs": [
    {
     "name": "stdout",
     "output_type": "stream",
     "text": [
      "Accuracy score of AdaBoostClassifier(algorithm='SAMME', base_estimator=SVC(kernel='linear')) is\n",
      "0.8698630136986302\n",
      "[[254   0]\n",
      " [ 38   0]]\n",
      "              precision    recall  f1-score   support\n",
      "\n",
      "           0       0.87      1.00      0.93       254\n",
      "           1       0.00      0.00      0.00        38\n",
      "\n",
      "    accuracy                           0.87       292\n",
      "   macro avg       0.43      0.50      0.47       292\n",
      "weighted avg       0.76      0.87      0.81       292\n",
      "\n",
      "Cross_val_score for AdaBoostClassifier(algorithm='SAMME', base_estimator=SVC(kernel='linear')) is  0.8406604528550581\n"
     ]
    }
   ],
   "source": [
    "# Ensemble - adaboost with svc\n",
    "\n",
    "from sklearn.ensemble import AdaBoostClassifier\n",
    "ad = AdaBoostClassifier(base_estimator=svc,algorithm='SAMME')\n",
    "ad.fit(x_train,y_train)\n",
    "pred=ad.predict(x_test)\n",
    "print(\"Accuracy score of\", ad ,\"is\")\n",
    "print(accuracy_score(y_test,pred))\n",
    "print(confusion_matrix(y_test,pred))\n",
    "print(classification_report(y_test,pred))\n",
    "print(\"Cross_val_score for\",ad ,'is ',cross_val_score(ad,x,y,cv=5).mean())"
   ]
  },
  {
   "cell_type": "code",
   "execution_count": 34,
   "metadata": {},
   "outputs": [
    {
     "data": {
      "text/plain": [
       "['ad_hr_analytics.pkl']"
      ]
     },
     "execution_count": 34,
     "metadata": {},
     "output_type": "execute_result"
    }
   ],
   "source": [
    "# Saving the model\n",
    "\n",
    "import joblib\n",
    "\n",
    "joblib.dump(ad,'ad_hr_analytics.pkl')"
   ]
  },
  {
   "cell_type": "code",
   "execution_count": null,
   "metadata": {},
   "outputs": [],
   "source": []
  }
 ],
 "metadata": {
  "kernelspec": {
   "display_name": "Python 3",
   "language": "python",
   "name": "python3"
  },
  "language_info": {
   "codemirror_mode": {
    "name": "ipython",
    "version": 3
   },
   "file_extension": ".py",
   "mimetype": "text/x-python",
   "name": "python",
   "nbconvert_exporter": "python",
   "pygments_lexer": "ipython3",
   "version": "3.8.3"
  }
 },
 "nbformat": 4,
 "nbformat_minor": 4
}
